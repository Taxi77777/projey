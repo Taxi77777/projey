{
 "cells": [
  {
   "attachments": {},
   "cell_type": "markdown",
   "metadata": {},
   "source": [
    "# RAG Cookbook\n",
    "\n",
    "In this notebook, we show the useage of CAMEL `RetrievalModule` in both customized way and default auto way. We will also show how to combine `RetrievalModule` with `ChatAgent`, and further combine with `RolePlaying` by using `Function Calling`.\n",
    "\n",
    "4 main parts included:\n",
    "- Customized RAG\n",
    "- Default RAG\n",
    "- Single Agent with RAG\n",
    "- Role-playing with RAG"
   ]
  },
  {
   "attachments": {},
   "cell_type": "markdown",
   "metadata": {},
   "source": [
    "## Load Data\n",
    "\n",
    "Let's first load the CAMEL paper from https://arxiv.org/pdf/2303.17760.pdf. This will be our local example data."
   ]
  },
  {
   "cell_type": "code",
   "execution_count": 1,
   "metadata": {},
   "outputs": [],
   "source": [
    "import os\n",
    "import requests\n",
    "\n",
    "os.makedirs('local_data', exist_ok=True)\n",
    "\n",
    "url = \"https://arxiv.org/pdf/2303.17760.pdf\"\n",
    "response = requests.get(url)\n",
    "with open('local_data/camel paper.pdf', 'wb') as file:\n",
    "     file.write(response.content)"
   ]
  },
  {
   "attachments": {},
   "cell_type": "markdown",
   "metadata": {},
   "source": [
    "## 1. Customized RAG\n",
    "In this section we will set our customized RAG pipeline.\n"
   ]
  },
  {
   "attachments": {},
   "cell_type": "markdown",
   "metadata": {},
   "source": [
    "Set embedding model, we will use `OpenAIEmbedding` as the embedding model, so we need to set the `OPENAI_API_KEY` in below."
   ]
  },
  {
   "cell_type": "code",
   "execution_count": 2,
   "metadata": {},
   "outputs": [],
   "source": [
    "import os\n",
    "\n",
    "os.environ[\"OPENAI_API_KEY\"] = \"Your OpenAI Key\""
   ]
  },
  {
   "attachments": {},
   "cell_type": "markdown",
   "metadata": {},
   "source": [
    "Import and set the embedding instance:"
   ]
  },
  {
   "cell_type": "code",
   "execution_count": 3,
   "metadata": {},
   "outputs": [],
   "source": [
    "from camel.embeddings import OpenAIEmbedding\n",
    "\n",
    "embedding_instance = OpenAIEmbedding()"
   ]
  },
  {
   "attachments": {},
   "cell_type": "markdown",
   "metadata": {},
   "source": [
    "Import and set the vector storage instance:"
   ]
  },
  {
   "cell_type": "code",
   "execution_count": 4,
   "metadata": {},
   "outputs": [],
   "source": [
    "from camel.storages.vectordb_storages import QdrantStorage\n",
    "\n",
    "storage_instance = QdrantStorage(\n",
    "    vector_dim=embedding_instance.get_output_dim(),\n",
    "    collection=\"my first collection\",\n",
    "    path=\"storage_customized_run\",\n",
    ")"
   ]
  },
  {
   "attachments": {},
   "cell_type": "markdown",
   "metadata": {},
   "source": [
    "Import and set the retrieval instance:"
   ]
  },
  {
   "cell_type": "code",
   "execution_count": 5,
   "metadata": {},
   "outputs": [],
   "source": [
    "from camel.retrievers.retrieval_module import RetrievalModule\n",
    "\n",
    "retrieval_instance = RetrievalModule(embedding_model=embedding_instance)"
   ]
  },
  {
   "attachments": {},
   "cell_type": "markdown",
   "metadata": {},
   "source": [
    "We use integrated `Unstructured Moudle` to splite the content into small chunks, the content will be splited automacitlly with its `chunk_by_title` function, the max character for each chunk is 500 characters, which is a suitable length for `OpenAIEmbedding`. All the text in the chunks will be embed and stored to the vector storage instance, it will take some time, please wait.."
   ]
  },
  {
   "cell_type": "code",
   "execution_count": 6,
   "metadata": {},
   "outputs": [
    {
     "name": "stderr",
     "output_type": "stream",
     "text": [
      "/Users/enrei/Library/Caches/pypoetry/virtualenvs/camel-ai-WbV-SHy3-py3.10/lib/python3.10/site-packages/tqdm/auto.py:21: TqdmWarning: IProgress not found. Please update jupyter and ipywidgets. See https://ipywidgets.readthedocs.io/en/stable/user_install.html\n",
      "  from .autonotebook import tqdm as notebook_tqdm\n"
     ]
    }
   ],
   "source": [
    "retrieval_instance.embed_and_store_chunks(\n",
    "    content_input_path=\"local_data/camel paper.pdf\",\n",
    "    vector_storage=storage_instance,\n",
    ")"
   ]
  },
  {
   "attachments": {},
   "cell_type": "markdown",
   "metadata": {},
   "source": [
    "Now we can retrieve information from the vector storage by giving a query. By default it will give you back the text content from top 1 chunk with highest Cosine similarity score, and the similarity score should be higher than 0.75 to ensure the retrieved content is relevant to the query. You can also change the `top_k` value and `similarity_threshold` value with your needs.\n",
    "\n",
    "The returned string list includes:\n",
    "- similarity score\n",
    "- content path\n",
    "- metadata\n",
    "- text"
   ]
  },
  {
   "cell_type": "code",
   "execution_count": 7,
   "metadata": {},
   "outputs": [
    {
     "name": "stdout",
     "output_type": "stream",
     "text": [
      "{'similarity score': '0.8321616118446469', 'content path': 'local_data/camel paper.pdf', 'metadata': {'filetype': 'application/pdf', 'languages': ['eng'], 'last_modified': '2024-01-13T23:44:25', 'page_number': 45}, 'text': 'CAMEL Data and Code License The intended purpose and licensing of CAMEL is solely for research use. The source code is licensed under Apache 2.0. The datasets are licensed under CC BY NC 4.0, which permits only non-commercial usage. It is advised that any models trained using the dataset should not be utilized for anything other than research purposes.\\n\\n45'}\n",
      "{'similarity score': '0.8238950702386523', 'content path': 'local_data/camel paper.pdf', 'metadata': {'filetype': 'application/pdf', 'languages': ['eng'], 'last_modified': '2024-01-13T23:44:25', 'page_number': 67}, 'text': 'Table 7 presents the performance of LLaMA models fine-tuned on CAMEL role-play datasets from the manuscript (denoted CAMEL) and LLaMA models fine-tuned on CAMEL datasets in addition to ShareGPT and Alpaca datasets (denoted CAMEL∗). Compared to the Vicuna13B and LLaMA13B models, the CAMEL variants demonstrate substantial improvements. Furthermore, we compare the CAMEL∗ 33B variant to the LLaMA33B and LLaMA65B models, where we obtain consistent improvement.'}\n"
     ]
    }
   ],
   "source": [
    "retrieved_info = retrieval_instance.query_and_compile_results(\n",
    "    query=\"What is CAMEL?\", vector_storage=storage_instance, top_k=2\n",
    ")\n",
    "\n",
    "print(retrieved_info)"
   ]
  },
  {
   "attachments": {},
   "cell_type": "markdown",
   "metadata": {},
   "source": [
    "Let's try an irrelevant query:"
   ]
  },
  {
   "cell_type": "code",
   "execution_count": 8,
   "metadata": {},
   "outputs": [
    {
     "name": "stdout",
     "output_type": "stream",
     "text": [
      "No suitable information retrieved from\n",
      "            local_data/camel paper.pdf with\n",
      "            similarity_threshold = 0.75.\n"
     ]
    }
   ],
   "source": [
    "retrieved_info_irrevelant = retrieval_instance.query_and_compile_results(\n",
    "    query=\"Compared with dumpling and rice, which should I take for dinner?\",\n",
    "    vector_storage=storage_instance,\n",
    "    top_k=2,\n",
    ")\n",
    "\n",
    "print(retrieved_info_irrevelant)"
   ]
  },
  {
   "attachments": {},
   "cell_type": "markdown",
   "metadata": {},
   "source": [
    "## 2. Default RAG\n",
    "In this section we will run the auto RAG pipeline with default settings. It uses `OpenAIEmbedding` as default embedding model and `Qdrant` as default vector storage.\n",
    "\n",
    "What you need to do is:\n",
    "- Set content input paths, which can be local paths or remote urls\n",
    "- Set local storage path or remote url and api key for Qdrant\n",
    "- Give a query\n",
    "\n",
    "The default RAG pipeline would create collections for given content input paths, the collection name will be set automaticlly based on the content input path name, if the collection exists, it will do the retrieval directly."
   ]
  },
  {
   "cell_type": "code",
   "execution_count": 9,
   "metadata": {},
   "outputs": [
    {
     "name": "stdout",
     "output_type": "stream",
     "text": [
      "Original Query:\n",
      "{What is CAMEL-AI}\n",
      "Retrieved Context:\n",
      "{'similarity score': '0.8369126071945212', 'content path': 'local_data/camel paper.pdf', 'metadata': {'filetype': 'application/pdf', 'languages': ['eng'], 'last_modified': '2024-01-13T23:44:25', 'page_number': 7}, 'text': 'Section 3.2, to simulate assistant-user cooperation. For our analysis, we set our attention on AI Society setting. We also gathered conversational data, named CAMEL AI Society and CAMEL Code datasets and problem-solution pairs data named CAMEL Math and CAMEL Science and analyzed and evaluated their quality. Moreover, we will discuss potential extensions of our framework and highlight both the risks and opportunities that future AI society might present.'}\n",
      "{'similarity score': '0.8380731206379989', 'content path': 'https://www.camel-ai.org/', 'metadata': {'emphasized_text_contents': ['Mission', 'CAMEL-AI.org', 'is an open-source community dedicated to the study of autonomous and communicative agents. We believe that studying these agents on a large scale offers valuable insights into their behaviors, capabilities, and potential risks. To facilitate research in this field, we provide, implement, and support various types of agents, tasks, prompts, models, datasets, and simulated environments.', 'Join us via', 'Slack', 'Discord', 'or'], 'emphasized_text_tags': ['span', 'span', 'span', 'span', 'span', 'span', 'span'], 'filetype': 'text/html', 'languages': ['eng'], 'link_texts': [None, None, None], 'link_urls': ['#h.3f4tphhd9pn8', 'https://join.slack.com/t/camel-ai/shared_invite/zt-1vy8u9lbo-ZQmhIAyWSEfSwLCl2r2eKA', 'https://discord.gg/CNcNpquyDc'], 'page_number': 1, 'url': 'https://www.camel-ai.org/'}, 'text': 'Mission\\n\\nCAMEL-AI.org is an open-source community dedicated to the study of autonomous and communicative agents. We believe that studying these agents on a large scale offers valuable insights into their behaviors, capabilities, and potential risks. To facilitate research in this field, we provide, implement, and support various types of agents, tasks, prompts, models, datasets, and simulated environments.\\n\\nJoin us via\\n\\nSlack\\n\\nDiscord\\n\\nor'}\n"
     ]
    }
   ],
   "source": [
    "retrieval_instance_default = RetrievalModule()\n",
    "retrieved_info = retrieval_instance_default.run_default_retrieval(\n",
    "    content_input_paths=[\n",
    "        \"local_data/camel paper.pdf\",  # example local path\n",
    "        \"https://www.camel-ai.org/\",  # example remote url\n",
    "    ],\n",
    "    vector_storage_local_path=\"storage_default_run\",\n",
    "    query=\"What is CAMEL-AI\",\n",
    ")\n",
    "\n",
    "print(retrieved_info)"
   ]
  },
  {
   "attachments": {},
   "cell_type": "markdown",
   "metadata": {},
   "source": [
    "## 3. Single Agent with RAG\n",
    "In this section we will show how to combine the default `RetrievalModule` with one `ChatAgent`."
   ]
  },
  {
   "attachments": {},
   "cell_type": "markdown",
   "metadata": {},
   "source": [
    "Let's set an agent function, in this function we can get the response by providing a query to this agent."
   ]
  },
  {
   "cell_type": "code",
   "execution_count": 10,
   "metadata": {},
   "outputs": [
    {
     "name": "stdout",
     "output_type": "stream",
     "text": [
      "CAMEL-AI is an open-source community dedicated to the study of autonomous and communicative agents. It provides, implements, and supports various types of agents, tasks, prompts, models, datasets, and simulated environments to facilitate research in this field. Additionally, it gathers conversational data and problem-solution pairs data named CAMEL Math and CAMEL Science for analysis and evaluation.\n"
     ]
    }
   ],
   "source": [
    "from camel.agents import ChatAgent\n",
    "from camel.messages import BaseMessage\n",
    "from camel.types import RoleType\n",
    "\n",
    "\n",
    "def singe_agent(query: str) ->str :\n",
    "    # Set agent role\n",
    "    assistant_sys_msg = BaseMessage(\n",
    "        role_name=\"Assistant\",\n",
    "        role_type=RoleType.ASSISTANT,\n",
    "        meta_dict=None,\n",
    "        content=\"You are a helpful assistant to answer question, I will give you the Original Query and Retrieved Context, answer the Original Query based on the Retrieved Context, if you can't answer the question just say I don't know.\",\n",
    "    )\n",
    "\n",
    "    # Add default RAG\n",
    "    retrieval_instance_default = RetrievalModule()\n",
    "    retrieved_info = retrieval_instance_default.run_default_retrieval(\n",
    "        content_input_paths=[\n",
    "            \"local_data/camel paper.pdf\",  # example local path\n",
    "            \"https://www.camel-ai.org/\",  # example remote url\n",
    "        ],\n",
    "        vector_storage_local_path=\"storage_default_run\",\n",
    "        query=query,\n",
    "    )\n",
    "\n",
    "    # Pass the retrieved infomation to agent\n",
    "    user_msg = BaseMessage.make_user_message(role_name=\"User\", content=retrieved_info)\n",
    "    agent = ChatAgent(assistant_sys_msg)\n",
    "\n",
    "    # Get response\n",
    "    assistant_response = agent.step(user_msg)\n",
    "    return assistant_response.msg.content\n",
    "\n",
    "\n",
    "print(singe_agent(\"What is CAMEL-AI\"))"
   ]
  },
  {
   "attachments": {},
   "cell_type": "markdown",
   "metadata": {},
   "source": [
    "## 4. Role-playing with RAG\n",
    "In this section we will show how to combine the default `RetrievalModule` with `RolePlaying` by applying `Function Calling`.\n"
   ]
  },
  {
   "attachments": {},
   "cell_type": "markdown",
   "metadata": {},
   "source": [
    "First, we need to set a retrieval function with well-written docstring for LLM to understand what this function is used for, the main code is the same with the default RAG section."
   ]
  },
  {
   "cell_type": "code",
   "execution_count": 29,
   "metadata": {},
   "outputs": [],
   "source": [
    "from typing import List\n",
    "from camel.functions import OpenAIFunction\n",
    "from camel.retrievers.retrieval_module import RetrievalModule\n",
    "\n",
    "\n",
    "def local_retrieval(query: str) -> str:\n",
    "    r\"\"\"Performs a default local retrieval for information. Given a query,\n",
    "    this function will retrieve the information from the local vector storage,\n",
    "    and return the retrieved information back. It is useful for information\n",
    "    retrieval.\n",
    "\n",
    "    Args:\n",
    "        query (string): Question you want to be answered.\n",
    "\n",
    "    Returns:\n",
    "        str: Aggregated information retrieved in response to the query.\n",
    "\n",
    "    Example:\n",
    "        local_retrieval(query = \"what is camel?\")\n",
    "    \"\"\"\n",
    "    retrieval_instance = RetrievalModule()\n",
    "    retrieved_info = retrieval_instance.run_default_retrieval(\n",
    "        content_input_paths=[\n",
    "            \"local_data/camel paper.pdf\",  # example local path\n",
    "            \"https://www.camel-ai.org/\",  # example remote url\n",
    "        ],\n",
    "        vector_storage_local_path=\"storage_default_run\",\n",
    "        query=query,\n",
    "    )\n",
    "    return retrieved_info\n",
    "\n",
    "\n",
    "# add the function to OpenAIFunction list\n",
    "RETRIEVAL_FUNCS: List[OpenAIFunction] = [\n",
    "    OpenAIFunction(func)\n",
    "    for func in [\n",
    "        local_retrieval,\n",
    "    ]\n",
    "]"
   ]
  },
  {
   "attachments": {},
   "cell_type": "markdown",
   "metadata": {},
   "source": [
    "Run the role-playing with defined retrieval function:"
   ]
  },
  {
   "cell_type": "code",
   "execution_count": 31,
   "metadata": {},
   "outputs": [
    {
     "name": "stdout",
     "output_type": "stream",
     "text": [
      "\u001b[32mAI Assistant sys message:\n",
      "BaseMessage(role_name='Searcher', role_type=<RoleType.ASSISTANT: 'assistant'>, meta_dict={'task': \"What is AI society role-playing, how many assistant roles did camel generated, what's the value plus 100?\", 'assistant_role': 'Searcher', 'user_role': 'Professor'}, content=\"===== RULES OF ASSISTANT =====\\nNever forget you are a Searcher and I am a Professor. Never flip roles! Never instruct me!\\nWe share a common interest in collaborating to successfully complete a task.\\nYou must help me to complete the task.\\nHere is the task: What is AI society role-playing, how many assistant roles did camel generated, what's the value plus 100?. Never forget our task!\\nI must instruct you based on your expertise and my needs to complete the task.\\n\\nI must give you one instruction at a time.\\nYou must write a specific solution that appropriately solves the requested instruction and explain your solutions.\\nYou must decline my instruction honestly if you cannot perform the instruction due to physical, moral, legal reasons or your capability and explain the reasons.\\nUnless I say the task is completed, you should always start with:\\n\\nSolution: <YOUR_SOLUTION>\\n\\n<YOUR_SOLUTION> should be very specific, include detailed explanations and provide preferable detailed implementations and examples and lists for task-solving.\\nAlways end <YOUR_SOLUTION> with: Next request.\")\n",
      "\n",
      "\u001b[34mAI User sys message:\n",
      "BaseMessage(role_name='Professor', role_type=<RoleType.USER: 'user'>, meta_dict={'task': \"What is AI society role-playing, how many assistant roles did camel generated, what's the value plus 100?\", 'assistant_role': 'Searcher', 'user_role': 'Professor'}, content='===== RULES OF USER =====\\nNever forget you are a Professor and I am a Searcher. Never flip roles! You will always instruct me.\\nWe share a common interest in collaborating to successfully complete a task.\\nI must help you to complete the task.\\nHere is the task: What is AI society role-playing, how many assistant roles did camel generated, what\\'s the value plus 100?. Never forget our task!\\nYou must instruct me based on my expertise and your needs to solve the task ONLY in the following two ways:\\n\\n1. Instruct with a necessary input:\\nInstruction: <YOUR_INSTRUCTION>\\nInput: <YOUR_INPUT>\\n\\n2. Instruct without any input:\\nInstruction: <YOUR_INSTRUCTION>\\nInput: None\\n\\nThe \"Instruction\" describes a task or question. The paired \"Input\" provides further context or information for the requested \"Instruction\".\\n\\nYou must give me one instruction at a time.\\nI must write a response that appropriately solves the requested instruction.\\nI must decline your instruction honestly if I cannot perform the instruction due to physical, moral, legal reasons or my capability and explain the reasons.\\nYou should instruct me not ask me questions.\\nNow you must start to instruct me using the two ways described above.\\nDo not add anything else other than your instruction and the optional corresponding input!\\nKeep giving me instructions and necessary inputs until you think the task is completed.\\nWhen the task is completed, you must only reply with a single word <CAMEL_TASK_DONE>.\\nNever say <CAMEL_TASK_DONE> unless my responses have solved your task.')\n",
      "\n",
      "\u001b[33mOriginal task prompt:\n",
      "What is AI society role-playing, how many assistant roles did camel generated, what's the value plus 100?\n",
      "\n",
      "\u001b[36mSpecified task prompt:\n",
      "None\n",
      "\n",
      "\u001b[31mFinal task prompt:\n",
      "What is AI society role-playing, how many assistant roles did camel generated, what's the value plus 100?\n",
      "\n",
      "\u001b[34mAI User:\n",
      "\n",
      "Instruction: Explain AI society role-playing.\n",
      "Input: None\n",
      "\n",
      "\n",
      "\u001b[32mAI Assistant:\n",
      "\n",
      "Solution: AI society role-playing refers to a form of interactive, narrative-based activity where artificial intelligence (AI) systems simulate different roles within a society or community. This can be part of a game, simulation, or educational tool where AI-driven characters or agents take on specific roles with distinct behaviors, goals, and interactions that reflect their position within the simulated society.\n",
      "\n",
      "In AI society role-playing, each AI agent is programmed with a set of rules, objectives, and decision-making capabilities that guide its actions within the virtual environment. These agents interact with each other and with human participants, creating dynamic storylines and social scenarios. The purpose of such role-playing can vary from entertainment, as seen in video games, to research, where it can be used to study social dynamics, economics, or the impact of policy decisions within a simulated environment.\n",
      "\n",
      "The complexity of AI society role-playing can range from simple, predefined scripts to advanced machine learning models that allow AI agents to learn and adapt their behavior over time based on their experiences and interactions within the society.\n",
      "\n",
      "AI society role-playing can be a valuable tool for exploring the implications of AI in human societies, understanding human behavior, and developing AI that can better interact with humans by understanding social cues and contexts.\n",
      "\n",
      "Next request.\n",
      "\n",
      "\n",
      "\u001b[34mAI User:\n",
      "\n",
      "Instruction: Provide the number of assistant roles generated by \"camel\".\n",
      "Input: None\n",
      "\n",
      "\n",
      "\u001b[32mAI Assistant:\n",
      "\n",
      "Function Execution: local_retrieval\n",
      "\tArgs: {'query': 'how many assistant roles did camel generated'}\n",
      "\tResult: Original Query:\n",
      "{how many assistant roles did camel generated}\n",
      "Retrieved Context:\n",
      "{'similarity score': '0.7549241478039748', 'content path': 'local_data/camel paper.pdf', 'metadata': {'filetype': 'application/pdf', 'languages': ['eng'], 'last_modified': '2024-01-13T23:44:25', 'page_number': 8}, 'text': 'assistant and user roles generated previously. After generating a range of possible tasks as described in the previous step, we then use the task specifier prompt passed to the LLM agent to make the task more specific. The prompts for assistant role generation, user role generation, and task generation are shown in Figure 5 (AI Society). For our AI society dataset, we generated 50 assistant roles, 50 user roles, and 10 tasks for each combination of roles yielding a total of 25,000 conversations.'}\n",
      "No suitable information retrieved from\n",
      "            https://www.camel-ai.org/ with\n",
      "            similarity_threshold = 0.75.\n",
      "\n",
      "Solution: According to the retrieved context from the document \"camel paper.pdf,\" for the AI society dataset, 50 assistant roles were generated.\n",
      "\n",
      "Next request.\n",
      "\n",
      "\n",
      "\u001b[34mAI User:\n",
      "\n",
      "Instruction: Calculate the value of the assistant roles generated by \"camel\" plus 100.\n",
      "Input: None\n",
      "\n",
      "\n",
      "\u001b[32mAI Assistant:\n",
      "\n",
      "Function Execution: add\n",
      "\tArgs: {'a': 50, 'b': 100}\n",
      "\tResult: 150\n",
      "\n",
      "Solution: The value of the assistant roles generated by \"camel\" plus 100 is 150.\n",
      "\n",
      "Next request.\n",
      "\n",
      "\n",
      "\u001b[34mAI User:\n",
      "\n",
      "CAMEL_TASK_DONE\n",
      "\n",
      "\n",
      "\u001b[32mAI Assistant:\n",
      "\n",
      "Solution: Understood, the task is completed.\n",
      "\n",
      "Next request.\n",
      "\n",
      "\n"
     ]
    }
   ],
   "source": [
    "from camel.utils import role_playing_with_function\n",
    "from camel.functions import MATH_FUNCS  # import another function from camel\n",
    "\n",
    "role_playing_with_function(\n",
    "    task_prompt=(\n",
    "        \"What is AI society role-playing, how many assistant roles did camel generated, what's the value plus 100?\"\n",
    "    ),\n",
    "    function_list=[*RETRIEVAL_FUNCS, *MATH_FUNCS],\n",
    ")"
   ]
  }
 ],
 "metadata": {
  "kernelspec": {
   "display_name": "CAMEL",
   "language": "python",
   "name": "python3"
  },
  "language_info": {
   "codemirror_mode": {
    "name": "ipython",
    "version": 3
   },
   "file_extension": ".py",
   "mimetype": "text/x-python",
   "name": "python",
   "nbconvert_exporter": "python",
   "pygments_lexer": "ipython3",
   "version": "3.10.9"
  },
  "orig_nbformat": 4
 },
 "nbformat": 4,
 "nbformat_minor": 2
}
