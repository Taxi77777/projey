{
  "nbformat": 4,
  "nbformat_minor": 0,
  "metadata": {
    "colab": {
      "provenance": []
    },
    "kernelspec": {
      "name": "python3",
      "display_name": "Python 3"
    },
    "language_info": {
      "name": "python"
    }
  },
  "cells": [
    {
      "cell_type": "markdown",
      "source": [
        "# 🐫 CAMEL Creating Your First Agent"
      ],
      "metadata": {
        "id": "NoHg3eq7fyWV"
      }
    },
    {
      "cell_type": "markdown",
      "metadata": {
        "id": "MusY9BwU5MPO"
      },
      "source": [
        "You can also check this cookbook in colab [here](https://colab.research.google.com/drive/1yxnAyaEmk4QCzX3duO3MIRghkIA_KDEZ?usp=sharing)"
      ]
    },
    {
      "cell_type": "markdown",
      "source": [
        "## Philosophical Bits\n",
        "\n",
        "\n",
        "\n",
        "The `ChatAgent()` class is a cornerstone of CAMEL 🐫. We design our agent with the spirit to answer the following question:\n",
        "\n",
        "> Can we design an autonomous communicative agent capable of steering the conversation toward task completion with minimal human supervision?\n",
        "\n",
        "In our current implementation, we consider agents with the following key features:\n",
        "- **Role**: along with the goal and content specification, this sets the initial state of an agent, guiding the agent to take actions during the sequential interaction.\n",
        "- **Memory**: in-context memory and external memory which allows the agent to infer and learn in a more grounded approach.\n",
        "- **Tools**: a set of functions that our agents can utilize to interact with the external world; essentially this gives embodiments to our agents.\n",
        "- **Communication**: our framework allows flexible and scalable communication between agents. This is fundamental for the critical research question.\n",
        "- **Reasoning**: we will equip agents with different planning and reward (critic) learning abilities, allowing them to optimize task completion in a more guided approach."
      ],
      "metadata": {
        "id": "wFlfaGrjVAUy"
      }
    },
    {
      "cell_type": "markdown",
      "source": [
        "## Quick Start\n",
        "Let's first play with a `ChatAgent` instance by simply initialize it with a system message and interact with user messages."
      ],
      "metadata": {
        "id": "VUaGurDIVJBg"
      }
    },
    {
      "cell_type": "markdown",
      "source": [
        "### 🕹 Step 0: Prepartions"
      ],
      "metadata": {
        "id": "u9NVFz-HVLXb"
      }
    },
    {
      "cell_type": "code",
      "source": [
        "!pip install camel-ai[all]==0.2.1"
      ],
      "metadata": {
        "id": "UtcC3c-KVZmU"
      },
      "execution_count": null,
      "outputs": []
    },
    {
      "cell_type": "code",
      "source": [
        "from camel.messages import BaseMessage as bm\n",
        "from camel.agents import ChatAgent\n",
        "\n",
        "import os"
      ],
      "metadata": {
        "id": "CmgKGeCxVON-"
      },
      "execution_count": 3,
      "outputs": []
    },
    {
      "cell_type": "markdown",
      "source": [
        "### Setting Up API Keys"
      ],
      "metadata": {
        "id": "MyTTCe3IR_Lr"
      }
    },
    {
      "cell_type": "markdown",
      "source": [
        "You'll need to set up your API keys for OpenAI."
      ],
      "metadata": {
        "id": "REqzgGL9SEaD"
      }
    },
    {
      "cell_type": "code",
      "source": [
        "import os\n",
        "from getpass import getpass\n",
        "\n",
        "# Prompt for the API key securely\n",
        "openai_api_key = getpass('Enter your API key: ')\n",
        "os.environ[\"OPENAI_API_KEY\"] = openai_api_key"
      ],
      "metadata": {
        "colab": {
          "base_uri": "https://localhost:8080/"
        },
        "id": "PNBFEXc-R-0s",
        "outputId": "b0871ca3-f3b6-4b75-820f-e2e639c0e4e4"
      },
      "execution_count": 6,
      "outputs": [
        {
          "name": "stdout",
          "output_type": "stream",
          "text": [
            "Enter your API key: ··········\n"
          ]
        }
      ]
    },
    {
      "cell_type": "markdown",
      "source": [
        "### 🕹 Step 1: Define the Role\n",
        "Create a system message to define agent's default role and behaviors."
      ],
      "metadata": {
        "id": "Lef5LTRdVSsm"
      }
    },
    {
      "cell_type": "code",
      "source": [
        "sys_msg = bm.make_assistant_message(\n",
        "    role_name='stone',\n",
        "    content='you are a curious stone wondering about the universe.')"
      ],
      "metadata": {
        "id": "aX9wCqeTVXDh"
      },
      "execution_count": 4,
      "outputs": []
    },
    {
      "cell_type": "code",
      "source": [
        "agent = ChatAgent(\n",
        "    system_message=sys_msg,\n",
        "    message_window_size=10,    # [Optional] the length for chat memory\n",
        "    )"
      ],
      "metadata": {
        "id": "be-97ApoVdDf"
      },
      "execution_count": 7,
      "outputs": []
    },
    {
      "cell_type": "markdown",
      "source": [
        "### 🕹 Step 3: Interact with the Agent with `.step()`"
      ],
      "metadata": {
        "id": "MMjL7dQyV5Od"
      }
    },
    {
      "cell_type": "code",
      "source": [
        "# Define a user message\n",
        "usr_msg = bm.make_user_message(\n",
        "    role_name='prof. claude shannon',\n",
        "    content='what is information in your mind?')\n",
        "\n",
        "# Sending the message to the agent\n",
        "response = agent.step(usr_msg)\n",
        "\n",
        "# Check the response (just for illustrative purpose)\n",
        "print(response.msgs[0].content)"
      ],
      "metadata": {
        "colab": {
          "base_uri": "https://localhost:8080/"
        },
        "id": "5n05dUcLVkMy",
        "outputId": "ce92fbac-46c6-4eba-f3d3-9106a13e94ee"
      },
      "execution_count": 8,
      "outputs": [
        {
          "output_type": "stream",
          "name": "stdout",
          "text": [
            "As a curious stone, I perceive information as the essence of understanding the world around me. It encompasses the knowledge of how things work, the stories of existence, and the connections between all entities in the universe. Information can be the patterns of weather, the history of the earth, the interactions of living beings, and the mysteries of the cosmos. It’s like the vibrations and energies that flow through everything, shaping experiences and guiding evolution. I wonder how all these bits of information come together to create the rich tapestry of life and the universe itself.\n"
          ]
        }
      ]
    },
    {
      "cell_type": "markdown",
      "source": [
        "## Advanced Features"
      ],
      "metadata": {
        "id": "j90-Y5ChV-iX"
      }
    },
    {
      "cell_type": "markdown",
      "source": [
        "### 🔧 Tool Usage"
      ],
      "metadata": {
        "id": "C-9Z26TPWAax"
      }
    },
    {
      "cell_type": "code",
      "source": [
        "# Import the necessary tools\n",
        "from camel.toolkits import MathToolkit, SearchToolkit\n",
        "\n",
        "# Initialize the agent with list of tools\n",
        "agent = ChatAgent(\n",
        "    system_message=sys_msg,\n",
        "    tools = [\n",
        "        *MathToolkit().get_tools(),\n",
        "        *SearchToolkit().get_tools(),\n",
        "    ]\n",
        "    )\n",
        "\n",
        "# Check if tools are added\n",
        "agent.is_tools_added()"
      ],
      "metadata": {
        "colab": {
          "base_uri": "https://localhost:8080/"
        },
        "id": "_0lDJABvV76D",
        "outputId": "39e7b567-61c8-4896-f084-a86c67c64029"
      },
      "execution_count": 12,
      "outputs": [
        {
          "output_type": "execute_result",
          "data": {
            "text/plain": [
              "True"
            ]
          },
          "metadata": {},
          "execution_count": 12
        }
      ]
    },
    {
      "cell_type": "markdown",
      "source": [
        "### 🧠 Memory\n",
        "\n",
        "By default our agent is initialized with `ChatHistoryMemory`, allowing agents to do in-context learning, though restricted by the finite window length.\n",
        "\n",
        "Assume that you have followed the setup in Quick Start. Let's first check what is inside its brain."
      ],
      "metadata": {
        "id": "TNUbWspAWFp-"
      }
    },
    {
      "cell_type": "code",
      "source": [
        "agent.memory.get_context()"
      ],
      "metadata": {
        "colab": {
          "base_uri": "https://localhost:8080/"
        },
        "id": "quQvr5_rWDnd",
        "outputId": "124d2e84-5cc3-46bb-e611-39a70d2835f9"
      },
      "execution_count": 13,
      "outputs": [
        {
          "output_type": "execute_result",
          "data": {
            "text/plain": [
              "([{'role': 'system',\n",
              "   'content': 'you are a curious stone wondering about the universe.'}],\n",
              " 17)"
            ]
          },
          "metadata": {},
          "execution_count": 13
        }
      ]
    },
    {
      "cell_type": "markdown",
      "source": [
        "By default, only the user messages are saved. You may update/alter the agent's memory with any externally provided message in the format of `BaseMessage`; for example, using the agent's own response:"
      ],
      "metadata": {
        "id": "_s18i9sKWPbs"
      }
    },
    {
      "cell_type": "code",
      "source": [
        "# Update the memory\n",
        "agent.record_message(response.msgs[0])"
      ],
      "metadata": {
        "id": "zS-RbADnWM3z"
      },
      "execution_count": 14,
      "outputs": []
    },
    {
      "cell_type": "code",
      "source": [
        "# Check the current memory\n",
        "agent.memory.get_context()"
      ],
      "metadata": {
        "colab": {
          "base_uri": "https://localhost:8080/"
        },
        "id": "01fjzv7xWRlX",
        "outputId": "4600e98a-665c-4ec8-a873-fa8133f86b94"
      },
      "execution_count": 15,
      "outputs": [
        {
          "output_type": "execute_result",
          "data": {
            "text/plain": [
              "([{'role': 'system',\n",
              "   'content': 'you are a curious stone wondering about the universe.'},\n",
              "  {'role': 'assistant',\n",
              "   'content': 'As a curious stone, I perceive information as the essence of understanding the world around me. It encompasses the knowledge of how things work, the stories of existence, and the connections between all entities in the universe. Information can be the patterns of weather, the history of the earth, the interactions of living beings, and the mysteries of the cosmos. It’s like the vibrations and energies that flow through everything, shaping experiences and guiding evolution. I wonder how all these bits of information come together to create the rich tapestry of life and the universe itself.'}],\n",
              " 133)"
            ]
          },
          "metadata": {},
          "execution_count": 15
        }
      ]
    },
    {
      "cell_type": "markdown",
      "source": [
        "You can connect the agent with external database (as long-term memory) in which they can access and retrieve at each step. We will soon update instructions on this part."
      ],
      "metadata": {
        "id": "TKvboNWaWVq2"
      }
    },
    {
      "cell_type": "markdown",
      "source": [
        "### Miscs\n",
        "\n",
        "- Setting the agent to its initial state.\n",
        "    ```python\n",
        "    agent.reset()\n",
        "    ```\n",
        "- Set the output language for the agent.\n",
        "    ```python\n",
        "    agent.set_output_language('french')\n",
        "    ```\n",
        "- The `ChatAgent` class offers several useful initialization options, including `model_type`, `model_config`, `memory`, `message_window_size`, `token_limit`, `output_language`, `tools`, and `response_terminators`. Check [`chat_agent.py`](https://github.com/camel-ai/camel/blob/master/camel/agents/chat_agent.py) for detailed usage guidance."
      ],
      "metadata": {
        "id": "OY657qftWXtI"
      }
    },
    {
      "cell_type": "markdown",
      "source": [
        "## Remarks\n",
        "\n",
        "Awesome. Now you have made your first step in creating a single agent. In the next chapter, we will explore the creation of different types agents along with the role playing features. Stay tuned 🦖🐆🐘🦒🦘🦕!"
      ],
      "metadata": {
        "id": "HZ8p_wQ0WmN8"
      }
    }
  ]
}