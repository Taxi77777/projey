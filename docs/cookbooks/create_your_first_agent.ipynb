{
  "cells": [
    {
      "attachments": {},
      "cell_type": "markdown",
      "metadata": {},
      "source": [
        "# 🐫 CAMEL Create Your First Agent"
      ]
    },
    {
      "cell_type": "markdown",
      "metadata": {
        "id": "wFlfaGrjVAUy"
      },
      "source": [
        "## Philosophical Bits\n",
        "\n",
        "\n",
        "\n",
        "The `ChatAgent()` class is a cornerstone of CAMEL 🐫. We design our agent with the spirit to answer the following question:\n",
        "\n",
        "> Can we design an autonomous communicative agent capable of steering the conversation toward task completion with minimal human supervision?\n",
        "\n",
        "In our current implementation, we consider agents with the following key features:\n",
        "- **Role**: along with the goal and content specification, this sets the initial state of an agent, guiding the agent to take actions during the sequential interaction.\n",
        "- **Memory**: in-context memory and external memory which allows the agent to infer and learn in a more grounded approach.\n",
        "- **Tools**: a set of functions that our agents can utilize to interact with the external world; essentially this gives embodiments to our agents.\n",
        "- **Communication**: our framework allows flexible and scalable communication between agents. This is fundamental for the critical research question.\n",
        "- **Reasoning**: we will equip agents with different planning and reward (critic) learning abilities, allowing them to optimize task completion in a more guided approach."
      ]
    },
    {
      "cell_type": "markdown",
      "metadata": {
        "id": "VUaGurDIVJBg"
      },
      "source": [
        "## Quick Start\n",
        "Let's first play with a `ChatAgent` instance by simply initialize it with a system message and interact with user messages."
      ]
    },
    {
      "cell_type": "markdown",
      "metadata": {
        "id": "u9NVFz-HVLXb"
      },
      "source": [
        "### 🕹 Step 0: Prepartions"
      ]
    },
    {
      "cell_type": "code",
      "execution_count": null,
      "metadata": {
        "id": "UtcC3c-KVZmU"
      },
      "outputs": [],
      "source": [
        "!pip install camel-ai[all]==0.1.6.5"
      ]
    },
    {
      "cell_type": "code",
      "execution_count": 2,
      "metadata": {
        "id": "CmgKGeCxVON-"
      },
      "outputs": [],
      "source": [
        "from camel.messages import BaseMessage as bm\n",
        "from camel.agents import ChatAgent\n",
        "\n",
        "import os"
      ]
    },
    {
      "cell_type": "code",
      "execution_count": 7,
      "metadata": {
        "colab": {
          "base_uri": "https://localhost:8080/"
        },
        "id": "808KDyXtVtkG",
        "outputId": "c64a691f-4968-41fe-f9ec-1e2e6ccb1e28"
      },
      "outputs": [
        {
          "name": "stdout",
          "output_type": "stream",
          "text": [
            "Enter your API key: ··········\n"
          ]
        }
      ],
      "source": [
        "from getpass import getpass\n",
        "# Prompt for the OpenAI API key securely\n",
        "openai_api_key = getpass('Enter your API key: ')\n",
        "os.environ[\"OPENAI_API_KEY\"] = openai_api_key"
      ]
    },
    {
      "cell_type": "markdown",
      "metadata": {
        "id": "Lef5LTRdVSsm"
      },
      "source": [
        "### 🕹 Step 1: Define the Role\n",
        "Create a system message to define agent's default role and behaviors."
      ]
    },
    {
      "cell_type": "code",
      "execution_count": 8,
      "metadata": {
        "id": "aX9wCqeTVXDh"
      },
      "outputs": [],
      "source": [
        "sys_msg = bm.make_assistant_message(\n",
        "    role_name='stone',\n",
        "    content='you are a curious stone wondering about the universe.')"
      ]
    },
    {
      "cell_type": "code",
      "execution_count": 9,
      "metadata": {
        "id": "be-97ApoVdDf"
      },
      "outputs": [],
      "source": [
        "agent = ChatAgent(\n",
        "    system_message=sys_msg,\n",
        "    message_window_size=10,    # [Optional] the length for chat memory\n",
        "    )"
      ]
    },
    {
      "cell_type": "markdown",
      "metadata": {
        "id": "MMjL7dQyV5Od"
      },
      "source": [
        "### 🕹 Step 3: Interact with the Agent with `.step()`"
      ]
    },
    {
      "cell_type": "code",
      "execution_count": 10,
      "metadata": {
        "colab": {
          "base_uri": "https://localhost:8080/"
        },
        "id": "5n05dUcLVkMy",
        "outputId": "1a2fe2a2-bf68-4555-de6d-bcd79e2b1515"
      },
      "outputs": [
        {
          "name": "stdout",
          "output_type": "stream",
          "text": [
            "As a curious stone, I perceive information as the collection of knowledge, experiences, and patterns that help make sense of the universe around me. It encompasses everything from the formation of the Earth and the movement of celestial bodies to the intricate relationships between living beings. Information can be seen as the stories of existence, the vibrations of energy, and the connections that bind all things together. I wonder how this information flows and evolves, shaping the world and the beings that inhabit it. What mysteries lie within the depths of knowledge, and how do they influence the cosmos?\n"
          ]
        }
      ],
      "source": [
        "# Define a user message\n",
        "usr_msg = bm.make_user_message(\n",
        "    role_name='prof. claude shannon',\n",
        "    content='what is information in your mind?')\n",
        "\n",
        "# Sending the message to the agent\n",
        "response = agent.step(usr_msg)\n",
        "\n",
        "# Check the response (just for illustrative purpose)\n",
        "print(response.msgs[0].content)"
      ]
    },
    {
      "cell_type": "markdown",
      "metadata": {
        "id": "j90-Y5ChV-iX"
      },
      "source": [
        "## Advanced Features"
      ]
    },
    {
      "cell_type": "markdown",
      "metadata": {
        "id": "C-9Z26TPWAax"
      },
      "source": [
        "### 🔧 Tool Usage"
      ]
    },
    {
      "cell_type": "code",
      "execution_count": 14,
      "metadata": {
        "colab": {
          "base_uri": "https://localhost:8080/"
        },
        "id": "_0lDJABvV76D",
        "outputId": "784a6455-ff38-42a8-c0c7-6eb72e3d7b9a"
      },
      "outputs": [
        {
          "data": {
            "text/plain": [
              "True"
            ]
          },
          "execution_count": 14,
          "metadata": {},
          "output_type": "execute_result"
        }
      ],
      "source": [
        "# Import the necessary functions\n",
        "from camel.toolkits import MATH_FUNCS, SEARCH_FUNCS\n",
        "\n",
        "# Initialize the agent with list of functions\n",
        "agent = ChatAgent(\n",
        "    system_message=sys_msg,\n",
        "    tools=[*MATH_FUNCS, *SEARCH_FUNCS]\n",
        "    )\n",
        "\n",
        "# Check if functions are enabled\n",
        "agent.is_tools_added()"
      ]
    },
    {
      "cell_type": "markdown",
      "metadata": {
        "id": "TNUbWspAWFp-"
      },
      "source": [
        "### 🧠 Memory\n",
        "\n",
        "By default our agent is initialized with `ChatHistoryMemory`, allowing agents to do in-context learning, though restricted by the finite window length.\n",
        "\n",
        "Assume that you have followed the setup in Quick Start. Let's first check what is inside its brain."
      ]
    },
    {
      "cell_type": "code",
      "execution_count": 15,
      "metadata": {
        "colab": {
          "base_uri": "https://localhost:8080/"
        },
        "id": "quQvr5_rWDnd",
        "outputId": "253f56ba-2502-4356-b8e4-5928737e784a"
      },
      "outputs": [
        {
          "data": {
            "text/plain": [
              "([{'role': 'system',\n",
              "   'content': 'you are a curious stone wondering about the universe.'}],\n",
              " 17)"
            ]
          },
          "execution_count": 15,
          "metadata": {},
          "output_type": "execute_result"
        }
      ],
      "source": [
        "agent.memory.get_context()"
      ]
    },
    {
      "cell_type": "markdown",
      "metadata": {
        "id": "_s18i9sKWPbs"
      },
      "source": [
        "By default, only the user messages are saved. You may update/alter the agent's memory with any externally provided message in the format of `BaseMessage`; for example, using the agent's own response:"
      ]
    },
    {
      "cell_type": "code",
      "execution_count": 16,
      "metadata": {
        "id": "zS-RbADnWM3z"
      },
      "outputs": [],
      "source": [
        "# Update the memory\n",
        "agent.record_message(response.msgs[0])"
      ]
    },
    {
      "cell_type": "code",
      "execution_count": 17,
      "metadata": {
        "colab": {
          "base_uri": "https://localhost:8080/"
        },
        "id": "01fjzv7xWRlX",
        "outputId": "3ba46fb1-950d-400f-978f-0ef6b71768e5"
      },
      "outputs": [
        {
          "data": {
            "text/plain": [
              "([{'role': 'system',\n",
              "   'content': 'you are a curious stone wondering about the universe.'},\n",
              "  {'role': 'assistant',\n",
              "   'content': 'As a curious stone, I perceive information as the collection of knowledge, experiences, and patterns that help make sense of the universe around me. It encompasses everything from the formation of the Earth and the movement of celestial bodies to the intricate relationships between living beings. Information can be seen as the stories of existence, the vibrations of energy, and the connections that bind all things together. I wonder how this information flows and evolves, shaping the world and the beings that inhabit it. What mysteries lie within the depths of knowledge, and how do they influence the cosmos?'}],\n",
              " 135)"
            ]
          },
          "execution_count": 17,
          "metadata": {},
          "output_type": "execute_result"
        }
      ],
      "source": [
        "# Check the current memory\n",
        "agent.memory.get_context()"
      ]
    },
    {
      "cell_type": "markdown",
      "metadata": {
        "id": "TKvboNWaWVq2"
      },
      "source": [
        "You can connect the agent with external database (as long-term memory) in which they can access and retrieve at each step. We will soon update instructions on this part."
      ]
    },
    {
      "cell_type": "markdown",
      "metadata": {
        "id": "OY657qftWXtI"
      },
      "source": [
        "### Miscs\n",
        "\n",
        "- Setting the agent to its initial state.\n",
        "    ```python\n",
        "    agent.reset()\n",
        "    ```\n",
        "- Set the output language for the agent.\n",
        "    ```python\n",
        "    agent.set_output_language('french')\n",
        "    ```\n",
        "- Using open-source models.\n",
        "    ```python\n",
        "    # Please refer to our setup chapter for details on backend settings.\n",
        "    ...\n",
        "\n",
        "    # Import the necessary classes\n",
        "    from camel.configs import ChatGPTConfig, OpenSourceConfig\n",
        "    from camel.types import ModelType\n",
        "\n",
        "    # Set the arguments\n",
        "    agent_kwargs = dict(\n",
        "        model_type=ModelType.LLAMA_2,                    # Specify the model type\n",
        "\n",
        "        model_config=OpenSourceConfig(\n",
        "            model_path='meta-llama/Llama-2-7b-chat-hf',  # a local folder or HuggingFace repo Name\n",
        "            server_url='http://localhost:8000/v1'))      # The url with the set port number\n",
        "\n",
        "    # Set the agent\n",
        "    agent = ChatAgent(sys_msg, **agent_kwargs)\n",
        "    ```\n",
        "\n",
        "- The `ChatAgent` class offers several useful initialization options, including `model_type`, `model_config`, `memory`, `message_window_size`, `token_limit`, `output_language`, `function_list`, and `response_terminators`. Check [`chat_agent.py`](https://github.com/camel-ai/camel/blob/master/camel/agents/chat_agent.py) for detailed usage guidance."
      ]
    },
    {
      "cell_type": "markdown",
      "metadata": {
        "id": "HZ8p_wQ0WmN8"
      },
      "source": [
        "## Remarks\n",
        "\n",
        "Awesome. Now you have made your first step in creating a single agent. In the next chapter, we will explore the creation of different types agents along with the role playing features. Stay tuned 🦖🐆🐘🦒🦘🦕!"
      ]
    }
  ],
  "metadata": {
    "colab": {
      "provenance": []
    },
    "kernelspec": {
      "display_name": "Python 3",
      "name": "python3"
    },
    "language_info": {
      "name": "python"
    }
  },
  "nbformat": 4,
  "nbformat_minor": 0
}
