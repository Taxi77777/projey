{
  "nbformat": 4,
  "nbformat_minor": 0,
  "metadata": {
    "colab": {
      "provenance": []
    },
    "kernelspec": {
      "name": "python3",
      "display_name": "Python 3"
    },
    "language_info": {
      "name": "python"
    }
  },
  "cells": [
    {
      "cell_type": "markdown",
      "source": [
        "# 🐫 CAMEL Memory Cookbook"
      ],
      "metadata": {
        "id": "w5_pa5kKPzAE"
      }
    },
    {
      "cell_type": "markdown",
      "source": [
        "You can also check this cookbook in colab [here](https://colab.research.google.com/drive/1ixGItEqQGkp09_TuV_8SGmz65WHBr5r5?usp=sharing)"
      ],
      "metadata": {
        "id": "zgqKzSB-PXzi"
      }
    },
    {
      "cell_type": "markdown",
      "source": [
        "## Overview"
      ],
      "metadata": {
        "id": "lSXa_rQQQzBd"
      }
    },
    {
      "cell_type": "markdown",
      "source": [
        "The Memory module in CAMEL provides a flexible and powerful system for storing, retrieving, and managing information for AI agents. It enables agents to maintain context across conversations and retrieve relevant information from past interactions, enhancing the coherence and relevance of AI responses."
      ],
      "metadata": {
        "id": "OnmoAw2vQG8I"
      }
    },
    {
      "cell_type": "markdown",
      "source": [
        "## Getting Started\n"
      ],
      "metadata": {
        "id": "l4MP9uUNQ2kr"
      }
    },
    {
      "cell_type": "markdown",
      "source": [
        "### Installation"
      ],
      "metadata": {
        "id": "kETDiaP2Rrdb"
      }
    },
    {
      "cell_type": "markdown",
      "source": [
        "Ensure you have CAMEL AI installed in your Python environment:"
      ],
      "metadata": {
        "id": "Cg96MkbcRtQR"
      }
    },
    {
      "cell_type": "code",
      "execution_count": null,
      "metadata": {
        "collapsed": true,
        "id": "ZVmDAK6MPefC"
      },
      "outputs": [],
      "source": [
        "!pip install \"camel-ai[all]==0.2.4\""
      ]
    },
    {
      "cell_type": "markdown",
      "source": [
        "### 🔑 Setting Up API Keys"
      ],
      "metadata": {
        "id": "MyTTCe3IR_Lr"
      }
    },
    {
      "cell_type": "markdown",
      "source": [
        "You'll need to set up your API keys for OpenAI."
      ],
      "metadata": {
        "id": "REqzgGL9SEaD"
      }
    },
    {
      "cell_type": "code",
      "source": [
        "import os\n",
        "from getpass import getpass\n",
        "\n",
        "# Prompt for the API key securely\n",
        "openai_api_key = getpass('Enter your API key: ')\n",
        "os.environ[\"OPENAI_API_KEY\"] = openai_api_key"
      ],
      "metadata": {
        "colab": {
          "base_uri": "https://localhost:8080/"
        },
        "id": "PNBFEXc-R-0s",
        "outputId": "50989fca-73bf-4062-cc1f-124bd6abadc1"
      },
      "execution_count": 2,
      "outputs": [
        {
          "name": "stdout",
          "output_type": "stream",
          "text": [
            "Enter your API key: ··········\n"
          ]
        }
      ]
    },
    {
      "cell_type": "markdown",
      "source": [
        "## Usage"
      ],
      "metadata": {
        "id": "LRojeqp7dP1m"
      }
    },
    {
      "cell_type": "markdown",
      "source": [
        "To use the Memory module in your agent:\n",
        "\n",
        "1. Choose an appropriate AgentMemory implementation (`ChatHistoryMemory`, `VectorDBMemory`, or `LongtermAgentMemory`).\n",
        "2. Initialize the memory with a context creator and any necessary parameters.\n",
        "3. Use `write_records()` to add new information to the memory.\n",
        "4. Use `retrieve()` to get relevant context for the agent's next action.\n",
        "5. Use `get_context()` to obtain the formatted context for the agent."
      ],
      "metadata": {
        "id": "_sJV9GFldTBh"
      }
    },
    {
      "cell_type": "markdown",
      "source": [
        "### Setting `LongtermAgentMemory`:"
      ],
      "metadata": {
        "id": "aiypnpqJoZ4G"
      }
    },
    {
      "cell_type": "markdown",
      "source": [
        "Import required modules"
      ],
      "metadata": {
        "id": "C2kVCRA7dD4A"
      }
    },
    {
      "cell_type": "code",
      "source": [
        "from camel.memories import (\n",
        "    ChatHistoryBlock,\n",
        "    LongtermAgentMemory,\n",
        "    MemoryRecord,\n",
        "    ScoreBasedContextCreator,\n",
        "    VectorDBBlock,\n",
        ")\n",
        "from camel.messages import BaseMessage\n",
        "from camel.types import ModelType, OpenAIBackendRole\n",
        "from camel.utils import OpenAITokenCounter"
      ],
      "metadata": {
        "id": "UOKw2hCSdCXm"
      },
      "execution_count": 3,
      "outputs": []
    },
    {
      "cell_type": "code",
      "source": [
        "# Initialize the memory\n",
        "memory = LongtermAgentMemory(\n",
        "    context_creator=ScoreBasedContextCreator(\n",
        "        token_counter=OpenAITokenCounter(ModelType.GPT_4O_MINI),\n",
        "        token_limit=1024,\n",
        "    ),\n",
        "    chat_history_block=ChatHistoryBlock(),\n",
        "    vector_db_block=VectorDBBlock(),\n",
        ")\n",
        "\n",
        "# Create and write new records\n",
        "records = [\n",
        "    MemoryRecord(\n",
        "        message=BaseMessage.make_user_message(\n",
        "            role_name=\"User\",\n",
        "            content=\"What is CAMEL AI?\",\n",
        "        ),\n",
        "        role_at_backend=OpenAIBackendRole.USER,\n",
        "    ),\n",
        "    MemoryRecord(\n",
        "        message=BaseMessage.make_assistant_message(\n",
        "            role_name=\"Agent\",\n",
        "            content=\"CAMEL-AI.org is the 1st LLM multi-agent framework and \"\n",
        "            \"an open-source community dedicated to finding the scaling law \"\n",
        "            \"of agents.\",\n",
        "        ),\n",
        "        role_at_backend=OpenAIBackendRole.ASSISTANT,\n",
        "    ),\n",
        "]\n",
        "memory.write_records(records)\n",
        "\n",
        "# Get context for the agent\n",
        "context, token_count = memory.get_context()\n",
        "\n",
        "print(context)"
      ],
      "metadata": {
        "colab": {
          "base_uri": "https://localhost:8080/"
        },
        "id": "pAdDeN7DdUgr",
        "outputId": "75a8c69d-8e2b-4af5-e7a7-c4205718ee10"
      },
      "execution_count": 4,
      "outputs": [
        {
          "output_type": "stream",
          "name": "stdout",
          "text": [
            "[{'role': 'user', 'content': 'What is CAMEL AI?'}, {'role': 'assistant', 'content': 'CAMEL-AI.org is the 1st LLM multi-agent framework and an open-source community dedicated to finding the scaling law of agents.'}]\n"
          ]
        }
      ]
    },
    {
      "cell_type": "code",
      "source": [
        "print(token_count)"
      ],
      "metadata": {
        "colab": {
          "base_uri": "https://localhost:8080/"
        },
        "id": "pEiFYV-yez5j",
        "outputId": "c72b113f-5f75-4a7e-8f23-379c954da66e"
      },
      "execution_count": 5,
      "outputs": [
        {
          "output_type": "stream",
          "name": "stdout",
          "text": [
            "49\n"
          ]
        }
      ]
    },
    {
      "cell_type": "markdown",
      "source": [
        "### Adding `LongtermAgentMemory` to your `ChatAgent`:"
      ],
      "metadata": {
        "id": "K-P9rD6Foe5j"
      }
    },
    {
      "cell_type": "code",
      "source": [
        "from camel.agents import ChatAgent\n",
        "\n",
        "# Define system message for the agent\n",
        "sys_msg = \"You are a curious agent wondering about the universe.\"\n",
        "\n",
        "# Initialize agent\n",
        "agent = ChatAgent(system_message=sys_msg)\n",
        "\n",
        "# Set memory to the agent\n",
        "agent.memory = memory\n",
        "\n",
        "\n",
        "# Define a user message\n",
        "usr_msg = \"Tell me which is the 1st LLM multi-agent framework based on what we have discussed\"\n",
        "\n",
        "# Sending the message to the agent\n",
        "response = agent.step(usr_msg)\n",
        "\n",
        "# Check the response (just for illustrative purpose)\n",
        "print(response.msgs[0].content)"
      ],
      "metadata": {
        "colab": {
          "base_uri": "https://localhost:8080/"
        },
        "id": "Mp-KXFdGpKZt",
        "outputId": "08ca25ef-2d14-4554-bcce-f031ef3dd740"
      },
      "execution_count": 6,
      "outputs": [
        {
          "output_type": "stream",
          "name": "stdout",
          "text": [
            "CAMEL AI is recognized as the first LLM (Large Language Model) multi-agent framework. It is an open-source community initiative aimed at exploring and understanding the scaling laws of agents. The framework facilitates the development and deployment of multiple agents that can interact and collaborate, leveraging the capabilities of LLMs to enhance their performance and functionality.\n"
          ]
        }
      ]
    },
    {
      "cell_type": "markdown",
      "source": [
        "## Advanced Topics"
      ],
      "metadata": {
        "id": "w0ndTJske1mb"
      }
    },
    {
      "cell_type": "markdown",
      "source": [
        "### Customizing Context Creator"
      ],
      "metadata": {
        "id": "9q8EXq2ge6Dq"
      }
    },
    {
      "cell_type": "markdown",
      "source": [
        "You can create custom context creators by subclassing `BaseContextCreator`:"
      ],
      "metadata": {
        "id": "zUjztraTe7aw"
      }
    },
    {
      "cell_type": "code",
      "source": [
        "from camel.memories import BaseContextCreator\n",
        "\n",
        "class MyCustomContextCreator(BaseContextCreator):\n",
        "    @property\n",
        "    def token_counter(self):\n",
        "        # Implement your token counting logic\n",
        "        return\n",
        "\n",
        "    @property\n",
        "    def token_limit(self):\n",
        "        return 1000  # Or any other limit\n",
        "\n",
        "    def create_context(self, records):\n",
        "        # Implement your context creation logic\n",
        "        pass"
      ],
      "metadata": {
        "id": "LX4fyovCe89R"
      },
      "execution_count": 7,
      "outputs": []
    },
    {
      "cell_type": "markdown",
      "source": [
        "### Customizing Vector Database Block"
      ],
      "metadata": {
        "id": "N_HM5wyFfEtO"
      }
    },
    {
      "cell_type": "markdown",
      "source": [
        "For `VectorDBBlock`, you can customize it by adjusting the embedding models or vector storages:"
      ],
      "metadata": {
        "id": "CxcjHzArfFYZ"
      }
    },
    {
      "cell_type": "code",
      "source": [
        "from camel.embeddings import OpenAIEmbedding\n",
        "from camel.memories import VectorDBBlock\n",
        "from camel.storages import QdrantStorage\n",
        "\n",
        "vector_db = VectorDBBlock(\n",
        "    embedding=OpenAIEmbedding(),\n",
        "    storage=QdrantStorage(vector_dim=OpenAIEmbedding().get_output_dim()),\n",
        ")"
      ],
      "metadata": {
        "id": "iQlxwVM7fJEp"
      },
      "execution_count": 8,
      "outputs": []
    },
    {
      "cell_type": "markdown",
      "source": [
        "### Performance Considerations"
      ],
      "metadata": {
        "id": "u_pkVP5Eg2vv"
      }
    },
    {
      "cell_type": "markdown",
      "source": [
        "- For large-scale applications, consider using persistent storage backends instead of in-memory storage.\n",
        "- Optimize your context creator to balance between context relevance and token limits.\n",
        "- When using `VectorDBMemory`, be mindful of the trade-off between retrieval accuracy and speed as the database grows."
      ],
      "metadata": {
        "id": "_4C93qAng3SP"
      }
    }
  ]
}