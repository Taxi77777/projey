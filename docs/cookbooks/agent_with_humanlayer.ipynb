{
  "nbformat": 4,
  "nbformat_minor": 0,
  "metadata": {
    "colab": {
      "provenance": []
    },
    "kernelspec": {
      "name": "python3",
      "display_name": "Python 3"
    },
    "language_info": {
      "name": "python"
    }
  },
  "cells": [
    {
      "cell_type": "markdown",
      "source": [
        "#  CAMEL Cookbook with human-in-loop and tool approval from HumanLayer"
      ],
      "metadata": {
        "id": "ymsq1Lw0VEqT"
      }
    },
    {
      "cell_type": "markdown",
      "source": [
        "You can also check this cookbook in colab [here](https://colab.research.google.com/drive/1WF1Z6Ev6kTrifRLXXTTOZz6-QVRuj1uX?usp=sharing)  (Use the colab share link)"
      ],
      "metadata": {
        "id": "7V3aV16AmY0K"
      }
    },
    {
      "cell_type": "markdown",
      "source": [
        "This notebook demonstrates how to set up and leverage CAMEL's ability to interact with user (for approval or comments) during the execution of the tasks.\n",
        "\n",
        "In this notebook, you'll explore:\n",
        "\n",
        "*   **CAMEL**: A powerful multi-agent framework that enables Retrieval-Augmented Generation and multi-agent role-playing scenarios, allowing for sophisticated AI-driven tasks.\n",
        "*   **HumanLayer**: HumanLayer is an API and SDK that enables AI Agents to contact humans for feedback, input, and approvals.\n",
        "*   **Human-in-loop**: The ability for agent to consult human during the execution of the task.\n",
        "*   **Human approval**: The ability for agent ask approval to execute some tasks.\n",
        "\n",
        "This cookbook demonstrates how to use **HumanLayer** functionality within Camel framework."
      ],
      "metadata": {
        "id": "G5gE04UuPUWj"
      }
    },
    {
      "cell_type": "markdown",
      "source": [
        "⭐ **Star the Repo**\n",
        "\n",
        "If you find CAMEL useful or interesting, please consider giving it a star on our [CAMEL GitHub Repo](https://github.com/camel-ai/camel)! Your stars help others find this project and motivate us to continue improving it."
      ],
      "metadata": {
        "id": "soIw38pJLv2f"
      }
    },
    {
      "cell_type": "markdown",
      "source": [
        "## 📦 Installation"
      ],
      "metadata": {
        "id": "0J0_iW-YVcq2"
      }
    },
    {
      "cell_type": "markdown",
      "source": [
        "First, install the CAMEL package with all its dependencies:"
      ],
      "metadata": {
        "id": "7p-JjpyNVcCT"
      }
    },
    {
      "cell_type": "code",
      "execution_count": null,
      "metadata": {
        "id": "0GXs2pruU9Vl"
      },
      "outputs": [],
      "source": [
        "!pip install \"camel-ai[all]==0.2.16\""
      ]
    },
    {
      "cell_type": "markdown",
      "source": [
        "Next, install humanlayer python SDK:"
      ],
      "metadata": {
        "id": "rnlxVTLs4spt"
      }
    },
    {
      "cell_type": "code",
      "source": [
        "!pip install humanlayer"
      ],
      "metadata": {
        "id": "uEijqcLt4v1b"
      },
      "execution_count": null,
      "outputs": []
    },
    {
      "cell_type": "markdown",
      "source": [
        "## 🔑 Setting Up API Keys"
      ],
      "metadata": {
        "id": "lfNvFbhD6o8B"
      }
    },
    {
      "cell_type": "markdown",
      "source": [
        "We will need to register HumanLayer to get the API key. For the agent backend LLM model, here we use OpenAI GPT-4o as example:"
      ],
      "metadata": {
        "id": "jqV12oQfQTyl"
      }
    },
    {
      "cell_type": "code",
      "source": [
        "# Prompt for the API key securely\n",
        "import os\n",
        "from getpass import getpass\n",
        "openai_api_key = getpass('Enter your OpenAI API key: ')\n",
        "os.environ[\"OPENAI_API_KEY\"] = openai_api_key\n",
        "humanlayer_api_key = getpass('Enter your HumanLayer API key: ')\n",
        "os.environ[\"HUMANLAYER_API_KEY\"] = humanlayer_api_key\n"
      ],
      "metadata": {
        "id": "T0FBl1WF6jFs",
        "colab": {
          "base_uri": "https://localhost:8080/"
        },
        "outputId": "34d54d24-2ccb-4c72-e0f4-3fb9083d2fed"
      },
      "execution_count": null,
      "outputs": [
        {
          "name": "stdout",
          "output_type": "stream",
          "text": [
            "Enter your OpenAI API key: ··········\n",
            "Enter your HumanLayer API key: ··········\n"
          ]
        }
      ]
    },
    {
      "cell_type": "markdown",
      "source": [
        "## 👨 Tools that requires human approval"
      ],
      "metadata": {
        "id": "NEUciNquON9_"
      }
    },
    {
      "cell_type": "markdown",
      "source": [
        "In this section, we'll demonstrate how to define tools for Camel agent to use, and use **HumanLayer** to make some tools require human approval. First define two functions for agent to use, one of them requires human approval."
      ],
      "metadata": {
        "id": "6f64VOMMP93d"
      }
    },
    {
      "cell_type": "code",
      "source": [
        "from humanlayer.core.approval import HumanLayer\n",
        "hl = HumanLayer(api_key=humanlayer_api_key, verbose=True)\n",
        "\n",
        "\n",
        "# add can be called without approval\n",
        "def add(x: int, y: int) -> int:\n",
        "    \"\"\"Add two numbers together.\"\"\"\n",
        "    return x + y\n",
        "\n",
        "\n",
        "# but multiply must be approved by a human\n",
        "@hl.require_approval()\n",
        "def multiply(x: int, y: int) -> int:\n",
        "    \"\"\"multiply two numbers\"\"\"\n",
        "    return x * y"
      ],
      "metadata": {
        "id": "m14JurOf6mQr",
        "outputId": "56349f75-4701-4cc4-8b90-38bb2a90b41f",
        "colab": {
          "base_uri": "https://localhost:8080/"
        }
      },
      "execution_count": null,
      "outputs": [
        {
          "output_type": "stream",
          "name": "stderr",
          "text": [
            "/usr/local/lib/python3.10/dist-packages/pydantic/main.py:214: UserWarning: A custom validator is returning a value other than `self`.\n",
            "Returning anything other than `self` from a top level model validator isn't supported when validating via `__init__`.\n",
            "See the `model_validator` docs (https://docs.pydantic.dev/latest/concepts/validators/#model-validators) for more details.\n",
            "  warnings.warn(\n"
          ]
        }
      ]
    },
    {
      "cell_type": "markdown",
      "source": [
        "Next we define the Camel agents, then run the computation commands. Here we will need to login HumanLayer cloud platform to approve for the agent to use the multiply function."
      ],
      "metadata": {
        "id": "iTWKZwKp7UjO"
      }
    },
    {
      "cell_type": "code",
      "source": [
        "from camel.toolkits import FunctionTool\n",
        "from camel.agents import ChatAgent\n",
        "from camel.models import ModelFactory\n",
        "from camel.types import ModelPlatformType, ModelType\n",
        "\n",
        "model = ModelFactory.create(\n",
        "    model_platform=ModelPlatformType.OPENAI,\n",
        "    model_type=ModelType.GPT_4O,\n",
        ")\n",
        "\n",
        "tools = [FunctionTool(add), FunctionTool(multiply)]\n",
        "\n",
        "agent_with_tools = ChatAgent(\n",
        "    model = model,\n",
        "    tools=tools\n",
        ")\n",
        "\n",
        "# Interact with the agent\n",
        "response = agent_with_tools.step(\"multiply 2 and 5, then add 32 to the result\")\n",
        "print(\"\\n\\n----------Result----------\\n\\n\")\n",
        "print(response.msgs[0].content)\n"
      ],
      "metadata": {
        "id": "3cW3hj3e7Y-1",
        "outputId": "a2a0f64b-9fa4-4048-d8ef-a20f8f854350",
        "colab": {
          "base_uri": "https://localhost:8080/"
        }
      },
      "execution_count": null,
      "outputs": [
        {
          "output_type": "stream",
          "name": "stderr",
          "text": [
            "WARNING:camel.agents.chat_agent:Overriding the configured tools in `BaseModelBackend` with the tools from `ChatAgent`.\n"
          ]
        },
        {
          "output_type": "stream",
          "name": "stdout",
          "text": [
            "HumanLayer: waiting for approval for multiply via humanlayer cloud\n",
            "HumanLayer: human approved multiply\n",
            "\n",
            "\n",
            "----------Result----------\n",
            "\n",
            "\n",
            "The result of multiplying 2 and 5, then adding 32 to the result, is 42.\n"
          ]
        }
      ]
    },
    {
      "cell_type": "markdown",
      "source": [
        "## 🤖 Human-in-loop interaction"
      ],
      "metadata": {
        "id": "Sx706ii3-PN2"
      }
    },
    {
      "cell_type": "markdown",
      "source": [
        "Sometimes we want the agent to ask user during the working process, in this case, we can equip agent with human toolkits, and be able to ask human via console. This example demonstrates the human-in-loop function:"
      ],
      "metadata": {
        "id": "d1qi4mdb-d6P"
      }
    },
    {
      "cell_type": "code",
      "source": [
        "from camel.toolkits import HumanToolkit\n",
        "human_toolkit = HumanToolkit()\n",
        "\n",
        "agent = ChatAgent(\n",
        "    system_message=\"You are a helpful assistant.\",\n",
        "    model=model,\n",
        "    tools=[*human_toolkit.get_tools()],\n",
        ")\n",
        "\n",
        "response = agent.step(\n",
        "    \"Tell me some jokes about monkey, and ask me for feedback.\"\n",
        ")\n",
        "\n",
        "print(response.msgs[0].content)"
      ],
      "metadata": {
        "id": "xyujYUzN_M8Y",
        "outputId": "533e3974-80f4-4e8e-b03d-86722e6c141b",
        "colab": {
          "base_uri": "https://localhost:8080/"
        }
      },
      "execution_count": null,
      "outputs": [
        {
          "output_type": "stream",
          "name": "stderr",
          "text": [
            "WARNING:camel.agents.chat_agent:Overriding the configured tools in `BaseModelBackend` with the tools from `ChatAgent`.\n"
          ]
        },
        {
          "output_type": "stream",
          "name": "stdout",
          "text": [
            "Question: Why don't monkeys use pocket watches? Because they can't find the right banana hand!\n",
            "Your reply: Not so funny, change another one\n",
            "Question: What do you call a monkey that loves to eat potato chips? A chipmunk!\n",
            "Your reply: Haha, you got me!\n",
            "I'm glad you liked that one! If you want to hear more monkey jokes, just let me know!\n"
          ]
        }
      ]
    },
    {
      "cell_type": "markdown",
      "source": [
        "## 🌟 Highlights"
      ],
      "metadata": {
        "id": "flYNal6-R4yR"
      }
    },
    {
      "cell_type": "markdown",
      "source": [
        "This notebook has guided you through setting up chat agents with the ability of **Human-in-loop** and **Human approval**.\n",
        "\n",
        "Key tools utilized in this notebook include:\n",
        "\n",
        "*   **CAMEL**: A powerful multi-agent framework that enables Retrieval-Augmented Generation and multi-agent role-playing scenarios, allowing for sophisticated AI-driven tasks.\n",
        "*   **HumanLayer**: HumanLayer is an API and SDK that enables AI Agents to contact humans for feedback, input, and approvals.\n",
        "*   **Human-in-loop**: The ability for agent to consult human during the execution of the task.\n",
        "*   **Human approval**: The ability for agent ask approval to execute some tasks.\n"
      ],
      "metadata": {
        "id": "SmkXhy4JR726"
      }
    },
    {
      "cell_type": "markdown",
      "source": [
        "⭐ **Star the Repo**\n",
        "\n",
        "If you find CAMEL useful or interesting, please consider giving it a star on [GitHub](https://github.com/camel-ai/camel)! Your stars help others find this project and motivate us to continue improving it."
      ],
      "metadata": {
        "id": "s6Det-fcMb9A"
      }
    }
  ]
}