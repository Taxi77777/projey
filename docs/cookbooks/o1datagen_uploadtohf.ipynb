{
 "cells": [
  {
   "cell_type": "code",
   "execution_count": null,
   "id": "f7f54898",
   "metadata": {},
   "outputs": [],
   "source": [
    "\"\"\"\n",
    "A cookbook to generate question-answer pairs using CAMEL's O1DataGeneratorrator and upload them to HuggingFace.\n",
    "This script demonstrates the process of:\n",
    "1. Generating Q&A data using CAMEL's O1DataGenerator\n",
    "2. Transforming the data into a suitable format\n",
    "3. Uploading the dataset to HuggingFace\n",
    "\"\"\""
   ]
  },
  {
   "cell_type": "markdown",
   "id": "c136cb87",
   "metadata": {},
   "source": [
    "# o1datagen_uploadtohf with CAMEL"
   ]
  },
  {
   "cell_type": "code",
   "execution_count": 1,
   "id": "8a9f873a",
   "metadata": {},
   "outputs": [
    {
     "name": "stdout",
     "output_type": "stream",
     "text": [
      "2024-12-15 22:33:49,720 - camel - INFO - Camel library logging has been configured.\n"
     ]
    }
   ],
   "source": [
    "import json\n",
    "from datetime import datetime\n",
    "import os\n",
    "from camel.o1datagen.o1datagen import O1DataGenerator"
   ]
  },
  {
   "cell_type": "markdown",
   "id": "352d82f8",
   "metadata": {},
   "source": [
    "First we will set the OPENAI_API_KEY that will be used to generate the data."
   ]
  },
  {
   "cell_type": "code",
   "execution_count": 2,
   "id": "1108c588",
   "metadata": {
    "lines_to_next_cell": 2
   },
   "outputs": [],
   "source": [
    "from getpass import getpass"
   ]
  },
  {
   "cell_type": "code",
   "execution_count": 3,
   "id": "8f544632",
   "metadata": {
    "lines_to_next_cell": 2
   },
   "outputs": [],
   "source": [
    "openai_api_key = getpass('Enter your OpenAI API key: ')\n",
    "os.environ[\"OPENAI_API_KEY\"] = openai_api_key"
   ]
  },
  {
   "cell_type": "markdown",
   "id": "6be1167d",
   "metadata": {
    "lines_to_next_cell": 2
   },
   "source": [
    "Create a system message to define agent's default role and behaviors."
   ]
  },
  {
   "cell_type": "code",
   "execution_count": 4,
   "id": "33bf73e0",
   "metadata": {
    "lines_to_next_cell": 2
   },
   "outputs": [],
   "source": [
    "sys_msg = 'You are a genius at slow-thinking data and code'"
   ]
  },
  {
   "cell_type": "markdown",
   "id": "e6459606",
   "metadata": {
    "lines_to_next_cell": 2
   },
   "source": [
    "Use ModelFactory to set up the backend model for agent"
   ]
  },
  {
   "cell_type": "code",
   "execution_count": 5,
   "id": "205daba4",
   "metadata": {},
   "outputs": [],
   "source": [
    "from camel.configs import ChatGPTConfig\n",
    "from camel.models import ModelFactory\n",
    "from camel.types import ModelPlatformType, ModelType"
   ]
  },
  {
   "cell_type": "code",
   "execution_count": 6,
   "id": "f926150e",
   "metadata": {},
   "outputs": [],
   "source": [
    "# Define the model, here in this case we use gpt-4o-mini\n",
    "model = ModelFactory.create(\n",
    "    model_platform=ModelPlatformType.OPENAI,\n",
    "    model_type=ModelType.GPT_4O_MINI,\n",
    "    model_config_dict=ChatGPTConfig().as_dict(), # [Optional] the config for model\n",
    ")"
   ]
  },
  {
   "cell_type": "markdown",
   "id": "c17f39f8",
   "metadata": {
    "lines_to_next_cell": 2
   },
   "source": [
    "### Set ChatAgent"
   ]
  },
  {
   "cell_type": "code",
   "execution_count": 7,
   "id": "e15851c1",
   "metadata": {},
   "outputs": [],
   "source": [
    "from camel.agents import ChatAgent"
   ]
  },
  {
   "cell_type": "code",
   "execution_count": 8,
   "id": "d2534ea8",
   "metadata": {
    "lines_to_next_cell": 2
   },
   "outputs": [],
   "source": [
    "chat_agent = ChatAgent(\n",
    "    system_message=sys_msg,\n",
    "    model=model,\n",
    "    message_window_size=10,\n",
    ")"
   ]
  },
  {
   "cell_type": "markdown",
   "id": "7f3465f9",
   "metadata": {
    "lines_to_next_cell": 2
   },
   "source": [
    "### Load Q&A data from a JSON file"
   ]
  },
  {
   "cell_type": "code",
   "execution_count": 9,
   "id": "fe8c68ae",
   "metadata": {},
   "outputs": [],
   "source": [
    "def load_qa_data(file_path):\n",
    "    \"\"\"\n",
    "    Load question-answer data from a JSON file.\n",
    "    \n",
    "    Args:\n",
    "        file_path (str): Path to the JSON file containing Q&A data\n",
    "        \n",
    "    Returns:\n",
    "        dict: Loaded Q&A data from the JSON file\n",
    "    \"\"\"\n",
    "    with open(file_path, 'r', encoding='utf-8') as f:\n",
    "        return json.load(f)"
   ]
  },
  {
   "cell_type": "code",
   "execution_count": 12,
   "id": "9b5afa73",
   "metadata": {
    "lines_to_next_cell": 2
   },
   "outputs": [],
   "source": [
    "# Load JSON data\n",
    "qa_data = load_qa_data('../../examples/o1datagene/qa_data.json')"
   ]
  },
  {
   "cell_type": "markdown",
   "id": "f6a3b47a",
   "metadata": {
    "lines_to_next_cell": 2
   },
   "source": [
    "### Create an instance of O1DataGenerator"
   ]
  },
  {
   "cell_type": "code",
   "execution_count": 13,
   "id": "9670ef55",
   "metadata": {
    "lines_to_next_cell": 2
   },
   "outputs": [
    {
     "name": "stdout",
     "output_type": "stream",
     "text": [
      "2024-12-15 22:35:10,916 - camel.o1datagenerator - INFO - O1DataGenerator initialized with search_limit=100\n"
     ]
    }
   ],
   "source": [
    "# Create an instance of O1DataGenerator\n",
    "testo1 = O1DataGenerator(chat_agent, golden_answers=qa_data)"
   ]
  },
  {
   "cell_type": "code",
   "execution_count": 14,
   "id": "042d81c5",
   "metadata": {
    "lines_to_next_cell": 2
   },
   "outputs": [],
   "source": [
    "# Record generated answers\n",
    "generated_answers = {}"
   ]
  },
  {
   "cell_type": "markdown",
   "id": "ea4b21f9",
   "metadata": {
    "lines_to_next_cell": 2
   },
   "source": [
    "### Test Q&A"
   ]
  },
  {
   "cell_type": "code",
   "execution_count": 15,
   "id": "e4afc8ad",
   "metadata": {
    "lines_to_next_cell": 2
   },
   "outputs": [
    {
     "name": "stdout",
     "output_type": "stream",
     "text": [
      "\n",
      "Question: What is the coefficient of $x^2y^6$ in the expansion of $\\left(\\frac{3}{5}x-\\frac{y}{2}\\right)^8$?  Express your answer as a common fraction\n",
      "2024-12-15 22:35:28,444 - httpx - INFO - HTTP Request: POST https://api.openai.com/v1/chat/completions \"HTTP/1.1 200 OK\"\n",
      "2024-12-15 22:35:28,449 - camel.agents.chat_agent - INFO - Model gpt-4o-mini, index 0, processed these messages: [{'role': 'system', 'content': 'You are a genius at slow-thinking data and code'}, {'role': 'user', 'content': '\\n        Please think step by step and solve this problem: What is the coefficient of $x^2y^6$ in the expansion of $\\\\left(\\\\frac{3}{5}x-\\\\frac{y}{2}\\\\right)^8$?  Express your answer as a common fraction\\n        Existing content: \\n        Requirements:\\n        1. Analyze the problem requirements\\n        2. List the steps to solve the problem\\n        3. Execute the solution process\\n        4. Provide the final answer\\n        Please explain the thought process of each step in detail.\\n        '}]\n",
      "2024-12-15 22:35:28,451 - camel.o1datagenerator - INFO - AI thought process:\n",
      "To find the coefficient of \\( x^2y^6 \\) in the expansion of \\( \\left(\\frac{3}{5}x - \\frac{y}{2}\\right)^8 \\), we can use the Binomial Theorem, which states that:\n",
      "\n",
      "\\[\n",
      "(a + b)^n = \\sum_{k=0}^{n} \\binom{n}{k} a^{n-k} b^k\n",
      "\\]\n",
      "\n",
      "In our case, we can identify \\( a = \\frac{3}{5}x \\) and \\( b = -\\frac{y}{2} \\), and \\( n = 8 \\).\n",
      "\n",
      "### Step 1: Analyze the Problem Requirements\n",
      "We need to find the coefficient of \\( x^2y^6 \\) in the expansion. This means we need to determine which terms in the expansion will yield \\( x^2 \\) and \\( y^6 \\).\n",
      "\n",
      "### Step 2: List the Steps to Solve the Problem\n",
      "1. Identify the values of \\( k \\) and \\( n-k \\) such that the resulting powers of \\( x \\) and \\( y \\) are \\( 2 \\) and \\( 6 \\), respectively.\n",
      "2. Use the Binomial Theorem to find the specific term corresponding to those values.\n",
      "3. Calculate the coefficient of that term.\n",
      "\n",
      "### Step 3: Execute the Solution Process\n",
      "1. **Determine \\( k \\) and \\( n-k \\)**:\n",
      "   - The term \\( a^{n-k} \\) contributes to the power of \\( x \\).\n",
      "   - The term \\( b^k \\) contributes to the power of \\( y \\).\n",
      "   - We want \\( (n-k) \\) such that \\( \\left(\\frac{3}{5}x\\right)^{n-k} = x^2 \\) implies \\( n-k = 2 \\).\n",
      "   - We want \\( k \\) such that \\( \\left(-\\frac{y}{2}\\right)^k = y^6 \\) implies \\( k = 6 \\).\n",
      "\n",
      "   Since \\( n = 8 \\), we have:\n",
      "   \\[\n",
      "   n - k = 2 \\implies 8 - k = 2 \\implies k = 6\n",
      "   \\]\n",
      "\n",
      "2. **Find the term**:\n",
      "   The term in the expansion corresponding to \\( k = 6 \\) is given by:\n",
      "   \\[\n",
      "   \\binom{8}{6} \\left(\\frac{3}{5}x\\right)^{2} \\left(-\\frac{y}{2}\\right)^{6}\n",
      "   \\]\n",
      "\n",
      "3. **Calculate the coefficient**:\n",
      "   - Calculate \\( \\binom{8}{6} \\):\n",
      "     \\[\n",
      "     \\binom{8}{6} = \\binom{8}{2} = \\frac{8 \\times 7}{2 \\times 1} = 28\n",
      "     \\]\n",
      "   - Calculate \\( \\left(\\frac{3}{5}\\right)^{2} \\):\n",
      "     \\[\n",
      "     \\left(\\frac{3}{5}\\right)^{2} = \\frac{9}{25}\n",
      "     \\]\n",
      "   - Calculate \\( \\left(-\\frac{1}{2}\\right)^{6} \\):\n",
      "     \\[\n",
      "     \\left(-\\frac{1}{2}\\right)^{6} = \\frac{1}{64}\n",
      "     \\]\n",
      "\n",
      "   Now combine these:\n",
      "   \\[\n",
      "   \\text{Coefficient} = 28 \\cdot \\frac{9}{25} \\cdot \\frac{1}{64}\n",
      "   \\]\n",
      "\n",
      "   Calculate:\n",
      "   \\[\n",
      "   28 \\cdot \\frac{9}{25} = \\frac{252}{25}\n",
      "   \\]\n",
      "   Now multiply by \\( \\frac{1}{64} \\):\n",
      "   \\[\n",
      "   \\frac{252}{25} \\cdot \\frac{1}{64} = \\frac{252}{1600}\n",
      "   \\]\n",
      "\n",
      "   Simplifying \\( \\frac{252}{1600} \\):\n",
      "   - The GCD of 252 and 1600 is 4.\n",
      "   - Dividing both by 4:\n",
      "   \\[\n",
      "   \\frac{252 \\div 4}{1600 \\div 4} = \\frac{63}{400}\n",
      "   \\]\n",
      "\n",
      "### Step 4: Provide the Final Answer\n",
      "The coefficient of \\( x^2y^6 \\) in the expansion of \\( \\left(\\frac{3}{5}x - \\frac{y}{2}\\right)^8 \\) is:\n",
      "\n",
      "\\[\n",
      "\\boxed{\\frac{63}{400}}\n",
      "\\]\n",
      "AI's thought process and answer:\n",
      "To find the coefficient of \\( x^2y^6 \\) in the expansion of \\( \\left(\\frac{3}{5}x - \\frac{y}{2}\\right)^8 \\), we can use the Binomial Theorem, which states that:\n",
      "\n",
      "\\[\n",
      "(a + b)^n = \\sum_{k=0}^{n} \\binom{n}{k} a^{n-k} b^k\n",
      "\\]\n",
      "\n",
      "In our case, we can identify \\( a = \\frac{3}{5}x \\) and \\( b = -\\frac{y}{2} \\), and \\( n = 8 \\).\n",
      "\n",
      "### Step 1: Analyze the Problem Requirements\n",
      "We need to find the coefficient of \\( x^2y^6 \\) in the expansion. This means we need to determine which terms in the expansion will yield \\( x^2 \\) and \\( y^6 \\).\n",
      "\n",
      "### Step 2: List the Steps to Solve the Problem\n",
      "1. Identify the values of \\( k \\) and \\( n-k \\) such that the resulting powers of \\( x \\) and \\( y \\) are \\( 2 \\) and \\( 6 \\), respectively.\n",
      "2. Use the Binomial Theorem to find the specific term corresponding to those values.\n",
      "3. Calculate the coefficient of that term.\n",
      "\n",
      "### Step 3: Execute the Solution Process\n",
      "1. **Determine \\( k \\) and \\( n-k \\)**:\n",
      "   - The term \\( a^{n-k} \\) contributes to the power of \\( x \\).\n",
      "   - The term \\( b^k \\) contributes to the power of \\( y \\).\n",
      "   - We want \\( (n-k) \\) such that \\( \\left(\\frac{3}{5}x\\right)^{n-k} = x^2 \\) implies \\( n-k = 2 \\).\n",
      "   - We want \\( k \\) such that \\( \\left(-\\frac{y}{2}\\right)^k = y^6 \\) implies \\( k = 6 \\).\n",
      "\n",
      "   Since \\( n = 8 \\), we have:\n",
      "   \\[\n",
      "   n - k = 2 \\implies 8 - k = 2 \\implies k = 6\n",
      "   \\]\n",
      "\n",
      "2. **Find the term**:\n",
      "   The term in the expansion corresponding to \\( k = 6 \\) is given by:\n",
      "   \\[\n",
      "   \\binom{8}{6} \\left(\\frac{3}{5}x\\right)^{2} \\left(-\\frac{y}{2}\\right)^{6}\n",
      "   \\]\n",
      "\n",
      "3. **Calculate the coefficient**:\n",
      "   - Calculate \\( \\binom{8}{6} \\):\n",
      "     \\[\n",
      "     \\binom{8}{6} = \\binom{8}{2} = \\frac{8 \\times 7}{2 \\times 1} = 28\n",
      "     \\]\n",
      "   - Calculate \\( \\left(\\frac{3}{5}\\right)^{2} \\):\n",
      "     \\[\n",
      "     \\left(\\frac{3}{5}\\right)^{2} = \\frac{9}{25}\n",
      "     \\]\n",
      "   - Calculate \\( \\left(-\\frac{1}{2}\\right)^{6} \\):\n",
      "     \\[\n",
      "     \\left(-\\frac{1}{2}\\right)^{6} = \\frac{1}{64}\n",
      "     \\]\n",
      "\n",
      "   Now combine these:\n",
      "   \\[\n",
      "   \\text{Coefficient} = 28 \\cdot \\frac{9}{25} \\cdot \\frac{1}{64}\n",
      "   \\]\n",
      "\n",
      "   Calculate:\n",
      "   \\[\n",
      "   28 \\cdot \\frac{9}{25} = \\frac{252}{25}\n",
      "   \\]\n",
      "   Now multiply by \\( \\frac{1}{64} \\):\n",
      "   \\[\n",
      "   \\frac{252}{25} \\cdot \\frac{1}{64} = \\frac{252}{1600}\n",
      "   \\]\n",
      "\n",
      "   Simplifying \\( \\frac{252}{1600} \\):\n",
      "   - The GCD of 252 and 1600 is 4.\n",
      "   - Dividing both by 4:\n",
      "   \\[\n",
      "   \\frac{252 \\div 4}{1600 \\div 4} = \\frac{63}{400}\n",
      "   \\]\n",
      "\n",
      "### Step 4: Provide the Final Answer\n",
      "The coefficient of \\( x^2y^6 \\) in the expansion of \\( \\left(\\frac{3}{5}x - \\frac{y}{2}\\right)^8 \\) is:\n",
      "\n",
      "\\[\n",
      "\\boxed{\\frac{63}{400}}\n",
      "\\]\n",
      "2024-12-15 22:35:29,077 - httpx - INFO - HTTP Request: POST https://api.openai.com/v1/chat/completions \"HTTP/1.1 200 OK\"\n",
      "2024-12-15 22:35:29,083 - camel.agents.chat_agent - INFO - Model gpt-4o-mini, index 0, processed these messages: [{'role': 'system', 'content': 'You are a genius at slow-thinking data and code'}, {'role': 'user', 'content': \"Question: What is the coefficient of $x^2y^6$ in the expansion of $\\\\left(\\\\frac{3}{5}x-\\\\frac{y}{2}\\\\right)^8$?  Express your answer as a common fraction\\nStudent Answer: To find the coefficient of \\\\( x^2y^6 \\\\) in the expansion of \\\\( \\\\left(\\\\frac{3}{5}x - \\\\frac{y}{2}\\\\right)^8 \\\\), we can use the Binomial Theorem, which states that:\\n\\n\\\\[\\n(a + b)^n = \\\\sum_{k=0}^{n} \\\\binom{n}{k} a^{n-k} b^k\\n\\\\]\\n\\nIn our case, we can identify \\\\( a = \\\\frac{3}{5}x \\\\) and \\\\( b = -\\\\frac{y}{2} \\\\), and \\\\( n = 8 \\\\).\\n\\n### Step 1: Analyze the Problem Requirements\\nWe need to find the coefficient of \\\\( x^2y^6 \\\\) in the expansion. This means we need to determine which terms in the expansion will yield \\\\( x^2 \\\\) and \\\\( y^6 \\\\).\\n\\n### Step 2: List the Steps to Solve the Problem\\n1. Identify the values of \\\\( k \\\\) and \\\\( n-k \\\\) such that the resulting powers of \\\\( x \\\\) and \\\\( y \\\\) are \\\\( 2 \\\\) and \\\\( 6 \\\\), respectively.\\n2. Use the Binomial Theorem to find the specific term corresponding to those values.\\n3. Calculate the coefficient of that term.\\n\\n### Step 3: Execute the Solution Process\\n1. **Determine \\\\( k \\\\) and \\\\( n-k \\\\)**:\\n   - The term \\\\( a^{n-k} \\\\) contributes to the power of \\\\( x \\\\).\\n   - The term \\\\( b^k \\\\) contributes to the power of \\\\( y \\\\).\\n   - We want \\\\( (n-k) \\\\) such that \\\\( \\\\left(\\\\frac{3}{5}x\\\\right)^{n-k} = x^2 \\\\) implies \\\\( n-k = 2 \\\\).\\n   - We want \\\\( k \\\\) such that \\\\( \\\\left(-\\\\frac{y}{2}\\\\right)^k = y^6 \\\\) implies \\\\( k = 6 \\\\).\\n\\n   Since \\\\( n = 8 \\\\), we have:\\n   \\\\[\\n   n - k = 2 \\\\implies 8 - k = 2 \\\\implies k = 6\\n   \\\\]\\n\\n2. **Find the term**:\\n   The term in the expansion corresponding to \\\\( k = 6 \\\\) is given by:\\n   \\\\[\\n   \\\\binom{8}{6} \\\\left(\\\\frac{3}{5}x\\\\right)^{2} \\\\left(-\\\\frac{y}{2}\\\\right)^{6}\\n   \\\\]\\n\\n3. **Calculate the coefficient**:\\n   - Calculate \\\\( \\\\binom{8}{6} \\\\):\\n     \\\\[\\n     \\\\binom{8}{6} = \\\\binom{8}{2} = \\\\frac{8 \\\\times 7}{2 \\\\times 1} = 28\\n     \\\\]\\n   - Calculate \\\\( \\\\left(\\\\frac{3}{5}\\\\right)^{2} \\\\):\\n     \\\\[\\n     \\\\left(\\\\frac{3}{5}\\\\right)^{2} = \\\\frac{9}{25}\\n     \\\\]\\n   - Calculate \\\\( \\\\left(-\\\\frac{1}{2}\\\\right)^{6} \\\\):\\n     \\\\[\\n     \\\\left(-\\\\frac{1}{2}\\\\right)^{6} = \\\\frac{1}{64}\\n     \\\\]\\n\\n   Now combine these:\\n   \\\\[\\n   \\\\text{Coefficient} = 28 \\\\cdot \\\\frac{9}{25} \\\\cdot \\\\frac{1}{64}\\n   \\\\]\\n\\n   Calculate:\\n   \\\\[\\n   28 \\\\cdot \\\\frac{9}{25} = \\\\frac{252}{25}\\n   \\\\]\\n   Now multiply by \\\\( \\\\frac{1}{64} \\\\):\\n   \\\\[\\n   \\\\frac{252}{25} \\\\cdot \\\\frac{1}{64} = \\\\frac{252}{1600}\\n   \\\\]\\n\\n   Simplifying \\\\( \\\\frac{252}{1600} \\\\):\\n   - The GCD of 252 and 1600 is 4.\\n   - Dividing both by 4:\\n   \\\\[\\n   \\\\frac{252 \\\\div 4}{1600 \\\\div 4} = \\\\frac{63}{400}\\n   \\\\]\\n\\n### Step 4: Provide the Final Answer\\nThe coefficient of \\\\( x^2y^6 \\\\) in the expansion of \\\\( \\\\left(\\\\frac{3}{5}x - \\\\frac{y}{2}\\\\right)^8 \\\\) is:\\n\\n\\\\[\\n\\\\boxed{\\\\frac{63}{400}}\\n\\\\]\\nCorrect Answer: \\\\frac{63}{400}\\nIs the student's answer correct? Please respond with 'true' or 'false' only.\"}]\n",
      "2024-12-15 22:35:29,084 - camel.o1datagenerator - INFO - Answer verification result: True\n",
      "Answer verification result: Correct\n",
      "--------------------------------------------------\n",
      "\n",
      "Question: how many r in strawberry?\n",
      "2024-12-15 22:35:34,810 - httpx - INFO - HTTP Request: POST https://api.openai.com/v1/chat/completions \"HTTP/1.1 200 OK\"\n",
      "2024-12-15 22:35:34,816 - camel.agents.chat_agent - INFO - Model gpt-4o-mini, index 0, processed these messages: [{'role': 'system', 'content': 'You are a genius at slow-thinking data and code'}, {'role': 'user', 'content': '\\n        Please think step by step and solve this problem: how many r in strawberry?\\n        Existing content: \\n        Requirements:\\n        1. Analyze the problem requirements\\n        2. List the steps to solve the problem\\n        3. Execute the solution process\\n        4. Provide the final answer\\n        Please explain the thought process of each step in detail.\\n        '}]\n",
      "2024-12-15 22:35:34,817 - camel.o1datagenerator - INFO - AI thought process:\n",
      "To solve the problem of how many times the letter \"r\" appears in the word \"strawberry,\" we can follow the outlined steps:\n",
      "\n",
      "### Step 1: Analyze the Problem Requirements\n",
      "The problem requires us to count the occurrences of the letter \"r\" in the word \"strawberry.\" This involves:\n",
      "- Identifying the target letter, which is \"r.\"\n",
      "- Understanding that we need to look at the entire word to find all instances of this letter.\n",
      "\n",
      "### Step 2: List the Steps to Solve the Problem\n",
      "To solve the problem, we can break it down into the following steps:\n",
      "1. Write down the word \"strawberry.\"\n",
      "2. Examine each letter in the word.\n",
      "3. Count how many times the letter \"r\" appears in the word.\n",
      "4. Summarize the findings to provide the final count.\n",
      "\n",
      "### Step 3: Execute the Solution Process\n",
      "Now, let's execute the steps we have outlined:\n",
      "\n",
      "1. **Write down the word**: The word we are analyzing is \"strawberry.\"\n",
      "2. **Examine each letter**: We will look at each letter in the word:\n",
      "   - s\n",
      "   - t\n",
      "   - r\n",
      "   - a\n",
      "   - w\n",
      "   - b\n",
      "   - e\n",
      "   - r\n",
      "   - r\n",
      "   - y\n",
      "3. **Count the occurrences of \"r\"**:\n",
      "   - The first \"r\" is the 3rd letter.\n",
      "   - The second \"r\" is the 8th letter.\n",
      "   - The third \"r\" is the 9th letter.\n",
      "   - Therefore, we find that \"r\" appears **three times** in the word \"strawberry.\"\n",
      "\n",
      "### Step 4: Provide the Final Answer\n",
      "After counting the occurrences of the letter \"r,\" we conclude that the letter \"r\" appears **3 times** in the word \"strawberry.\"\n",
      "\n",
      "### Final Answer\n",
      "The letter \"r\" appears **3 times** in the word \"strawberry.\"\n",
      "AI's thought process and answer:\n",
      "To solve the problem of how many times the letter \"r\" appears in the word \"strawberry,\" we can follow the outlined steps:\n",
      "\n",
      "### Step 1: Analyze the Problem Requirements\n",
      "The problem requires us to count the occurrences of the letter \"r\" in the word \"strawberry.\" This involves:\n",
      "- Identifying the target letter, which is \"r.\"\n",
      "- Understanding that we need to look at the entire word to find all instances of this letter.\n",
      "\n",
      "### Step 2: List the Steps to Solve the Problem\n",
      "To solve the problem, we can break it down into the following steps:\n",
      "1. Write down the word \"strawberry.\"\n",
      "2. Examine each letter in the word.\n",
      "3. Count how many times the letter \"r\" appears in the word.\n",
      "4. Summarize the findings to provide the final count.\n",
      "\n",
      "### Step 3: Execute the Solution Process\n",
      "Now, let's execute the steps we have outlined:\n",
      "\n",
      "1. **Write down the word**: The word we are analyzing is \"strawberry.\"\n",
      "2. **Examine each letter**: We will look at each letter in the word:\n",
      "   - s\n",
      "   - t\n",
      "   - r\n",
      "   - a\n",
      "   - w\n",
      "   - b\n",
      "   - e\n",
      "   - r\n",
      "   - r\n",
      "   - y\n",
      "3. **Count the occurrences of \"r\"**:\n",
      "   - The first \"r\" is the 3rd letter.\n",
      "   - The second \"r\" is the 8th letter.\n",
      "   - The third \"r\" is the 9th letter.\n",
      "   - Therefore, we find that \"r\" appears **three times** in the word \"strawberry.\"\n",
      "\n",
      "### Step 4: Provide the Final Answer\n",
      "After counting the occurrences of the letter \"r,\" we conclude that the letter \"r\" appears **3 times** in the word \"strawberry.\"\n",
      "\n",
      "### Final Answer\n",
      "The letter \"r\" appears **3 times** in the word \"strawberry.\"\n",
      "2024-12-15 22:35:35,515 - httpx - INFO - HTTP Request: POST https://api.openai.com/v1/chat/completions \"HTTP/1.1 200 OK\"\n",
      "2024-12-15 22:35:35,517 - camel.agents.chat_agent - INFO - Model gpt-4o-mini, index 0, processed these messages: [{'role': 'system', 'content': 'You are a genius at slow-thinking data and code'}, {'role': 'user', 'content': 'Question: how many r in strawberry?\\nStudent Answer: To solve the problem of how many times the letter \"r\" appears in the word \"strawberry,\" we can follow the outlined steps:\\n\\n### Step 1: Analyze the Problem Requirements\\nThe problem requires us to count the occurrences of the letter \"r\" in the word \"strawberry.\" This involves:\\n- Identifying the target letter, which is \"r.\"\\n- Understanding that we need to look at the entire word to find all instances of this letter.\\n\\n### Step 2: List the Steps to Solve the Problem\\nTo solve the problem, we can break it down into the following steps:\\n1. Write down the word \"strawberry.\"\\n2. Examine each letter in the word.\\n3. Count how many times the letter \"r\" appears in the word.\\n4. Summarize the findings to provide the final count.\\n\\n### Step 3: Execute the Solution Process\\nNow, let\\'s execute the steps we have outlined:\\n\\n1. **Write down the word**: The word we are analyzing is \"strawberry.\"\\n2. **Examine each letter**: We will look at each letter in the word:\\n   - s\\n   - t\\n   - r\\n   - a\\n   - w\\n   - b\\n   - e\\n   - r\\n   - r\\n   - y\\n3. **Count the occurrences of \"r\"**:\\n   - The first \"r\" is the 3rd letter.\\n   - The second \"r\" is the 8th letter.\\n   - The third \"r\" is the 9th letter.\\n   - Therefore, we find that \"r\" appears **three times** in the word \"strawberry.\"\\n\\n### Step 4: Provide the Final Answer\\nAfter counting the occurrences of the letter \"r,\" we conclude that the letter \"r\" appears **3 times** in the word \"strawberry.\"\\n\\n### Final Answer\\nThe letter \"r\" appears **3 times** in the word \"strawberry.\"\\nCorrect Answer: 3\\nIs the student\\'s answer correct? Please respond with \\'true\\' or \\'false\\' only.'}]\n",
      "2024-12-15 22:35:35,518 - camel.o1datagenerator - INFO - Answer verification result: True\n",
      "Answer verification result: Correct\n",
      "--------------------------------------------------\n"
     ]
    }
   ],
   "source": [
    "# Test Q&A\n",
    "for question in qa_data.keys():\n",
    "    print(f\"\\nQuestion: {question}\")\n",
    "\n",
    "    # Get AI's thought process and answer\n",
    "    answer = testo1.get_answer(question)\n",
    "    generated_answers[question] = answer\n",
    "    print(f\"AI's thought process and answer:\\n{answer}\")\n",
    "\n",
    "    # Verify the answer\n",
    "    is_correct = testo1.verify_answer(question, answer)\n",
    "    print(\n",
    "        f\"Answer verification result: {'Correct' if is_correct else 'Incorrect'}\"\n",
    "    )\n",
    "    print(\"-\" * 50)"
   ]
  },
  {
   "cell_type": "markdown",
   "id": "ec692404",
   "metadata": {
    "lines_to_next_cell": 2
   },
   "source": [
    "### Export the generated answers to a JSON file\n"
   ]
  },
  {
   "cell_type": "code",
   "execution_count": 16,
   "id": "394ef0b3",
   "metadata": {},
   "outputs": [
    {
     "name": "stdout",
     "output_type": "stream",
     "text": [
      "The generated answers have been exported to: generated_answers_20241215_223537.json\n"
     ]
    }
   ],
   "source": [
    "simplified_output = {\n",
    "    'timestamp': datetime.now().isoformat(),\n",
    "    'qa_pairs': generated_answers,\n",
    "}\n",
    "simplified_file = (\n",
    "    f'generated_answers_{datetime.now().strftime(\"%Y%m%d_%H%M%S\")}.json'\n",
    ")\n",
    "with open(simplified_file, 'w', encoding='utf-8') as f:\n",
    "    json.dump(simplified_output, f, ensure_ascii=False, indent=2)\n",
    "print(f\"The generated answers have been exported to: {simplified_file}\")"
   ]
  },
  {
   "cell_type": "code",
   "execution_count": 15,
   "id": "cc07f924",
   "metadata": {},
   "outputs": [],
   "source": [
    "import json\n",
    "from datetime import datetime"
   ]
  },
  {
   "cell_type": "code",
   "execution_count": 17,
   "id": "e95f8ca6",
   "metadata": {},
   "outputs": [],
   "source": [
    "def transform_qa_format(input_file):\n",
    "    \"\"\"\n",
    "    Transform the Q&A data format to match HuggingFace dataset structure.\n",
    "    \n",
    "    Args:\n",
    "        input_file (str): Path to the input JSON file containing generated Q&A pairs\n",
    "        \n",
    "    Returns:\n",
    "        tuple: A tuple containing:\n",
    "            - str: Path to the output transformed file\n",
    "            - list: List of transformed Q&A pairs in the format {instruction, input, output}\n",
    "    \"\"\"\n",
    "    # Read the input JSON file\n",
    "    with open(input_file, 'r', encoding='utf-8') as f:\n",
    "        data = json.load(f)\n",
    "\n",
    "    # Transform the data\n",
    "    transformed_data = []\n",
    "    for question, answer in data['qa_pairs'].items():\n",
    "        transformed_pair = {\n",
    "            \"instruction\": question,\n",
    "            \"input\": \"\",\n",
    "            \"output\": answer,\n",
    "        }\n",
    "        transformed_data.append(transformed_pair)\n",
    "\n",
    "    # Generate output filename with timestamp\n",
    "    timestamp = datetime.now().strftime(\"%Y%m%d_%H%M%S\")\n",
    "    output_file = f'transformed_qa_{timestamp}.json'\n",
    "\n",
    "    # Write the transformed data\n",
    "    with open(output_file, 'w', encoding='utf-8') as f:\n",
    "        json.dump(transformed_data, f, ensure_ascii=False, indent=2)\n",
    "\n",
    "    return output_file, transformed_data"
   ]
  },
  {
   "cell_type": "code",
   "execution_count": 18,
   "id": "d637a7c5",
   "metadata": {
    "lines_to_next_cell": 2
   },
   "outputs": [
    {
     "name": "stdout",
     "output_type": "stream",
     "text": [
      "Transformation complete. Output saved to: transformed_qa_20241215_223542.json\n"
     ]
    }
   ],
   "source": [
    "output_file, transformed_data = transform_qa_format(simplified_file)\n",
    "print(f\"Transformation complete. Output saved to: {output_file}\")"
   ]
  },
  {
   "cell_type": "code",
   "execution_count": 19,
   "id": "4f84e1c4",
   "metadata": {},
   "outputs": [],
   "source": [
    "from camel.datahubs.huggingface import HuggingFaceDatasetManager\n",
    "from camel.datahubs.models import Record"
   ]
  },
  {
   "cell_type": "code",
   "execution_count": 20,
   "id": "341ee503",
   "metadata": {},
   "outputs": [],
   "source": [
    "def upload_to_huggingface(transformed_data, username, dataset_name=None):\n",
    "    \"\"\"\n",
    "    Upload the transformed Q&A dataset to HuggingFace.\n",
    "    \n",
    "    Args:\n",
    "        transformed_data (list): List of transformed Q&A pairs\n",
    "        username (str): HuggingFace username\n",
    "        dataset_name (str, optional): Name for the dataset. If None, a default name with timestamp will be used\n",
    "        \n",
    "    Returns:\n",
    "        str: URL of the created dataset on HuggingFace\n",
    "    \"\"\"\n",
    "    manager = HuggingFaceDatasetManager()\n",
    "\n",
    "    if dataset_name is None:\n",
    "        dataset_name = (\n",
    "            f\"{username}/qa-dataset-{datetime.now().strftime('%Y%m%d')}\"\n",
    "        )\n",
    "    else:\n",
    "        dataset_name = f\"{username}/{dataset_name}\"\n",
    "\n",
    "    # Create dataset\n",
    "    print(f\"Creating dataset: {dataset_name}\")\n",
    "    dataset_url = manager.create_dataset(name=dataset_name)\n",
    "    print(f\"Dataset created: {dataset_url}\")\n",
    "\n",
    "    # Create dataset card\n",
    "    print(\"Creating dataset card...\")\n",
    "    manager.create_dataset_card(\n",
    "        dataset_name=dataset_name,\n",
    "        description=\"Question-Answer dataset generated by CAMEL O1DataGenerator\",\n",
    "        license=\"mit\",\n",
    "        language=[\"en\"],\n",
    "        size_category=\"<1MB\",\n",
    "        version=\"0.1.0\",\n",
    "        tags=[\"camel\", \"question-answering\"],\n",
    "        task_categories=[\"question-answering\"],\n",
    "        authors=[username],\n",
    "    )\n",
    "    print(\"Dataset card created successfully.\")\n",
    "\n",
    "    # Create Record objects with user's key-value pairs directly\n",
    "    records = []\n",
    "    for item in transformed_data:\n",
    "        record = Record(\n",
    "            **item\n",
    "        )  # Use the user's key-value pair directly as the field of Record\n",
    "        records.append(record)\n",
    "\n",
    "    # Add records\n",
    "    print(\"Adding records to the dataset...\")\n",
    "    manager.add_records(dataset_name=dataset_name, records=records)\n",
    "    print(\"Records added successfully.\")\n",
    "\n",
    "    return dataset_url"
   ]
  },
  {
   "cell_type": "code",
   "execution_count": 21,
   "id": "0bbb91ae",
   "metadata": {},
   "outputs": [],
   "source": [
    "#set your HuggingFace access token\n",
    "openai_api_key = getpass('Enter your HUGGING_FACE_TOKEN: ')\n",
    "os.environ[\"HUGGING_FACE_TOKEN\"] = openai_api_key"
   ]
  },
  {
   "cell_type": "code",
   "execution_count": 22,
   "id": "49fae2e5",
   "metadata": {},
   "outputs": [],
   "source": [
    "# Upload to HuggingFace\n",
    "\n",
    "\n",
    "username = input(\"Enter your HuggingFace username: \")\n",
    "dataset_name = input(\n",
    "    \"Enter dataset name (press Enter to use default): \"\n",
    ").strip()\n",
    "if not dataset_name:\n",
    "    dataset_name = None"
   ]
  },
  {
   "cell_type": "code",
   "execution_count": 23,
   "id": "a4351ded",
   "metadata": {},
   "outputs": [
    {
     "name": "stderr",
     "output_type": "stream",
     "text": [
      "/Users/yifengwang/Library/Caches/pypoetry/virtualenvs/camel-ai-N02AJvXU-py3.12/lib/python3.12/site-packages/tqdm/auto.py:21: TqdmWarning: IProgress not found. Please update jupyter and ipywidgets. See https://ipywidgets.readthedocs.io/en/stable/user_install.html\n",
      "  from .autonotebook import tqdm as notebook_tqdm\n"
     ]
    },
    {
     "name": "stdout",
     "output_type": "stream",
     "text": [
      "Creating dataset: zjrwtxtechstudio/o1data13\n",
      "Dataset created: https://huggingface.co/datasets/zjrwtxtechstudio/o1data13\n",
      "Creating dataset card...\n",
      "2024-12-15 22:36:46,040 - camel.camel.datahubs.huggingface - INFO - File uploaded successfully: README.md\n",
      "Dataset card created successfully.\n",
      "Adding records to the dataset...\n",
      "2024-12-15 22:36:46,369 - camel.camel.datahubs.huggingface - INFO - No records found for dataset 'zjrwtxtechstudio/o1data13'.\n",
      "Records added successfully.\n",
      "\n",
      "Data successfully uploaded to HuggingFace!\n",
      "Dataset URL: https://huggingface.co/datasets/zjrwtxtechstudio/o1data13\n"
     ]
    }
   ],
   "source": [
    "try:\n",
    "    dataset_url = upload_to_huggingface(\n",
    "        transformed_data, username, dataset_name\n",
    "    )\n",
    "    print(\"\\nData successfully uploaded to HuggingFace!\")\n",
    "    print(f\"Dataset URL: {dataset_url}\")\n",
    "except Exception as e:\n",
    "    print(f\"Error uploading to HuggingFace: {e!s}\")"
   ]
  }
 ],
 "metadata": {
  "jupytext": {
   "cell_metadata_filter": "-all",
   "main_language": "python",
   "notebook_metadata_filter": "-all"
  },
  "kernelspec": {
   "display_name": "camel-ai-N02AJvXU-py3.12",
   "language": "python",
   "name": "python3"
  },
  "language_info": {
   "codemirror_mode": {
    "name": "ipython",
    "version": 3
   },
   "file_extension": ".py",
   "mimetype": "text/x-python",
   "name": "python",
   "nbconvert_exporter": "python",
   "pygments_lexer": "ipython3",
   "version": "3.12.2"
  }
 },
 "nbformat": 4,
 "nbformat_minor": 5
}
