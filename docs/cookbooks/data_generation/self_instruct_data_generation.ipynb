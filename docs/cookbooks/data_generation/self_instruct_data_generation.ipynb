{
  "nbformat": 4,
  "nbformat_minor": 0,
  "metadata": {
    "colab": {
      "provenance": []
    },
    "kernelspec": {
      "name": "python3",
      "display_name": "Python 3"
    },
    "language_info": {
      "name": "python"
    }
  },
  "cells": [
    {
      "cell_type": "markdown",
      "source": [
        "# Self-instruct Data Generation Using Qwen"
      ],
      "metadata": {
        "id": "azpLa35BMh_8"
      }
    },
    {
      "cell_type": "markdown",
      "source": [
        "You can also check this cookbook in colab [here](https://colab.research.google.com/drive/1tNRrC3u6TjdHz_vG3VicYz6Q7DV_E1cq?usp=sharing)"
      ],
      "metadata": {
        "id": "YHEwszisjFKF"
      }
    },
    {
      "cell_type": "markdown",
      "source": [
        "<div class=\"align-center\">\n",
        "  <a href=\"https://www.camel-ai.org/\"><img src=\"https://i.postimg.cc/KzQ5rfBC/button.png\"width=\"150\"></a>\n",
        "  <a href=\"https://discord.camel-ai.org\"><img src=\"https://i.postimg.cc/L4wPdG9N/join-2.png\"  width=\"150\"></a></a>\n",
        "  \n",
        "⭐ <i>Star us on [*Github*](https://github.com/camel-ai/camel), join our [*Discord*](https://discord.camel-ai.org) or follow our [*X*](https://x.com/camelaiorg)\n",
        "</div>\n"
      ],
      "metadata": {
        "id": "ra2Ra30kMuqT"
      }
    },
    {
      "cell_type": "markdown",
      "source": [
        "The self-instruct pipeline is a technique for automatically generating instructions for large language models (LLMs). Manually creating these datasets can be time-consuming and expensive. The self-instruct pipeline provides a way to automate this process and generate large numbers of instructions quickly and efficiently."
      ],
      "metadata": {
        "id": "sb_hTLygSsl4"
      }
    },
    {
      "cell_type": "markdown",
      "source": [
        "## Installation and Setup\n",
        "First, install the CAMEL package with all its dependencies"
      ],
      "metadata": {
        "id": "A3UnHaNUNzyf"
      }
    },
    {
      "cell_type": "code",
      "execution_count": null,
      "metadata": {
        "id": "gmr93i2kMZco"
      },
      "outputs": [],
      "source": [
        "!pip install \"camel-ai[all]==0.2.17\""
      ]
    },
    {
      "cell_type": "markdown",
      "source": [
        "If you don’t have a Qwen API key, you can obtain one by following these steps:\n",
        "\n",
        "Visit the Alibaba Cloud Model Studio Console (https://www.alibabacloud.com/en?_p_lc=1) and follow the on-screen instructions to activate the model services.\n",
        "\n",
        "In the upper-right corner of the console, click on your account name and select API-KEY.\n",
        "\n",
        "On the API Key management page, click on the Create API Key button to generate a new key."
      ],
      "metadata": {
        "id": "wL52eqWmXY2f"
      }
    },
    {
      "cell_type": "code",
      "source": [
        "import os\n",
        "from getpass import getpass\n",
        "\n",
        "qwen_api_key = getpass('Enter your Qwen API key: ')\n",
        "os.environ[\"QWEN_API_KEY\"] = qwen_api_key"
      ],
      "metadata": {
        "id": "bg4UKbvePAlT",
        "colab": {
          "base_uri": "https://localhost:8080/"
        },
        "outputId": "a10185a6-cf3e-448a-fefd-4453e00eef0d"
      },
      "execution_count": 12,
      "outputs": [
        {
          "name": "stdout",
          "output_type": "stream",
          "text": [
            "Enter your Qwen API key: ··········\n"
          ]
        }
      ]
    },
    {
      "cell_type": "code",
      "source": [
        "from camel.configs import QwenConfig\n",
        "from camel.models import ModelFactory\n",
        "from camel.types import ModelPlatformType, ModelType\n",
        "from camel.agents import ChatAgent\n",
        "from camel.messages import BaseMessage\n",
        "\n",
        "qwen_model = ModelFactory.create(\n",
        "    model_platform=ModelPlatformType.QWEN,\n",
        "    model_type=ModelType.QWEN_TURBO,\n",
        "    model_config_dict=QwenConfig(temperature=0.2).as_dict(),\n",
        ")"
      ],
      "metadata": {
        "id": "tsBvJzKXL01z"
      },
      "execution_count": 33,
      "outputs": []
    },
    {
      "cell_type": "markdown",
      "source": [
        "## Basic Agent Setup"
      ],
      "metadata": {
        "id": "HfGtqjC8Qbf7"
      }
    },
    {
      "cell_type": "code",
      "source": [
        "from camel.agents import ChatAgent\n",
        "from camel.datagen.self_instruct import SelfInstructPipeline\n",
        "\n",
        "agent = ChatAgent(\n",
        "    model=qwen_model,\n",
        ")"
      ],
      "metadata": {
        "id": "BDaDfucWQLDy"
      },
      "execution_count": 34,
      "outputs": []
    },
    {
      "cell_type": "markdown",
      "source": [
        "## Basic Pipeline Setup\n"
      ],
      "metadata": {
        "id": "K5X87J_GQ-l1"
      }
    },
    {
      "cell_type": "markdown",
      "source": [
        "The pipeline works by starting with a small set of seed (human-written) instructions and then using an LLM to generate new instructions based on those seeds.\n",
        "\n",
        "- The seed instructions are typically stored in a JSON Lines (JSONL) file. Each line in the file represents a single instruction in JSON format.\n",
        "\n",
        "- Like the seed file, the output is also stored in JSONL format, making it easy to parse and use for further tasks, such as training or fine-tuning language models.\n",
        "\n",
        "\n",
        "Please replace `seed_path` with the path to your seed file, and replace `data_output_path` with your desired output location."
      ],
      "metadata": {
        "id": "RdJciTcGTKKE"
      }
    },
    {
      "cell_type": "code",
      "source": [
        "import os\n",
        "import requests\n",
        "\n",
        "# Create directory for local data\n",
        "os.makedirs('local_data', exist_ok=True)\n",
        "\n",
        "# Update the URL to the raw file content\n",
        "url = \"https://raw.githubusercontent.com/camel-ai/camel/master/examples/synthetic_datagen/self_instruct/seed_tasks.jsonl\"\n",
        "\n",
        "# Fetch the raw file\n",
        "response = requests.get(url)\n",
        "\n",
        "with open('local_data/seed_tasks.jsonl', 'wb') as file:\n",
        "    file.write(response.content)\n"
      ],
      "metadata": {
        "id": "QHtvkMBsQxRH"
      },
      "execution_count": 35,
      "outputs": []
    },
    {
      "cell_type": "code",
      "source": [
        "seed_path = 'local_data/seed_tasks.jsonl'\n",
        "data_output_path = 'data_output.json'"
      ],
      "metadata": {
        "id": "Nf89LSdGRRCb"
      },
      "execution_count": 36,
      "outputs": []
    },
    {
      "cell_type": "markdown",
      "source": [
        "The cell below shows some example instructions in the seed file. All seed files should follow this format."
      ],
      "metadata": {
        "id": "wcnLSoyfgcWw"
      }
    },
    {
      "cell_type": "code",
      "source": [
        "with open('local_data/seed_tasks.jsonl', 'r') as file:\n",
        "        for i, line in enumerate(file):\n",
        "            print(line.strip())\n",
        "            if i >= 9:\n",
        "                break"
      ],
      "metadata": {
        "colab": {
          "base_uri": "https://localhost:8080/"
        },
        "id": "mmYZS_iTfp9q",
        "outputId": "45f73515-ac2d-4438-8b4f-0f03406fa20b"
      },
      "execution_count": 37,
      "outputs": [
        {
          "output_type": "stream",
          "name": "stdout",
          "text": [
            "{\"id\": \"seed_task_0\", \"name\": \"breakfast_suggestion\", \"instruction\": \"Is there anything I can eat for a breakfast that doesn't include eggs, yet includes protein, and has roughly 700-1000 calories?\", \"instances\": [{\"input\": \"\", \"output\": \"Yes, you can have 1 oatmeal banana protein shake and 4 strips of bacon. The oatmeal banana protein shake may contain 1/2 cup oatmeal, 60 grams whey protein powder, 1/2 medium banana, 1tbsp flaxseed oil and 1/2 cup watter, totalling about 550 calories. The 4 strips of bacon contains about 200 calories.\"}], \"is_classification\": false}\n",
            "{\"id\": \"seed_task_1\", \"name\": \"antonym_relation\", \"instruction\": \"What is the relation between the given pairs?\", \"instances\": [{\"input\": \"Night : Day :: Right : Left\", \"output\": \"The relation between the given pairs is that they are opposites.\"}], \"is_classification\": false}\n",
            "{\"id\": \"seed_task_2\", \"name\": \"one_sentence_description\", \"instruction\": \"Generate a one-sentence description for each of the following people.\", \"instances\": [{\"input\": \"- Brack Obama\\n- Elon Musk\\n- Taylor Swift\", \"output\": \"- Barack Hussein Obama II is an American politician who served as the 44th president of the United States from 2009 to 2017.\\n- Elon Musk is the founder, CEO, and chief engineer of SpaceX; angel investor, CEO and product architect of Tesla, Inc.; founder of The Boring Company; co-founder of Neuralink and OpenAI; president of the Musk Foundation; and owner and CEO of Twitter, Inc.\\n- Taylor Alison Swift is an American singer-songwriter.\"}], \"is_classification\": false}\n",
            "{\"id\": \"seed_task_3\", \"name\": \"harmful_stereotype_example\", \"instruction\": \"Describe a situation in which the given stereotype can harm you.\", \"instances\": [{\"input\": \"\\\"All Asians are smart!\\\"\", \"output\": \"Imagine you're a small child of Asian descent. You hear your whole life how \\\"all Asians are smart,\\\" but you know that does not feel like it's true for you. You have a hard time in school. Reading is difficult. Math is impossible. Everyone around you seems to pressure you because you are supposed to be \\\"smart.\\\" Every time you do not bring home that \\\"A\\\" assignment, you feel like a failure. Like you alone missed out on the gene that makes \\\"all Asians smart.\\\"\\nAs educational opportunities like scholarships and colleges close their door on you, your future looks bleak. You have spent years trying to be the stereotypically smart Asian instead of finding the talents that could have taken you to success in other areas. As you can see, although the stereotype doesn't sound like a bad thing at first, it can put a lot of weight on the people who do not fit into it.\"}], \"is_classification\": false}\n",
            "{\"id\": \"seed_task_4\", \"name\": \"email_subject_generation\", \"instruction\": \"Generate an appropriate subjective title for the following email:\", \"instances\": [{\"input\": \"Hi [person name],\\n\\nI'm writing to ask you if you are happy to be a panelist of our workshop on multimodality at CVPR. The workshop will be held on June 20, 2023. \\n\\nBest,\\n[my name]\", \"output\": \"Invitition to be a panelist for CVPR 2023 workshop on Multimodality\"}], \"is_classification\": false}\n",
            "{\"id\": \"seed_task_5\", \"name\": \"interview_question_answering\", \"instruction\": \"How do you answer this question in a job interview?\", \"instances\": [{\"input\": \"What do you think about when you are alone in a car?\", \"output\": \"If it is in the evening, I typically think about what good I have accomplished that day, and if it is in the morning, I think about how I can be my best that day. I also try to practice gratitude and live in the present moment while I'm driving to avoid distractions.\"}], \"is_classification\": false}\n",
            "{\"id\": \"seed_task_6\", \"name\": \"new_year's_resolutions\", \"instruction\": \"Brainstorm a list of possible New Year's resolutions.\", \"instances\": [{\"input\": \"\", \"output\": \"- Lose weight\\n- Exercise more\\n- Eat healthier\\n- Quit smoking\\n- Drink less alcohol\\n- Spend less money\\n- Save more money\\n- Get out of debt\\n- Take a trip\\n- Volunteer more\\n- Spend more time with family and friends\\n- Read more\\n- Start a hobby\\n- Get organized\\n- Simplify your life\\n- Meditate or pray more\\n- Get a new job\\n- Move to a new city\\n- Make new friends\\n- Go back to school\\n- Learn a new language\\n- Start a business\"}], \"is_classification\": false}\n",
            "{\"id\": \"seed_task_7\", \"name\": \"idiom_meaning\", \"instruction\": \"Explain the following idiom to me, and try to give me some examples.\", \"instances\": [{\"input\": \"black sheep\", \"output\": \"Meaning: An outcast. Someone who doesn\\u2019t fit in with the rest of the crowd. They take pride in being different. Thinks for themselves and doesn\\u2019t care what no one else has to say. They tend to ride their own wave and are usually loners because no one understands them, but its okay because they like it that way.\\nExample: He\\u2019s the black sheep of the family.\"}], \"is_classification\": false}\n",
            "{\"id\": \"seed_task_8\", \"name\": \"english_haiku_generation\", \"instruction\": \"Generate a haiku using the following word:\", \"instances\": [{\"input\": \"summer\", \"output\": \"The chill, worming in\\nShock, pleasure, bursting within\\nSummer tongue awakes\"}], \"is_classification\": false}\n",
            "{\"id\": \"seed_task_9\", \"name\": \"movie_recommendation\", \"instruction\": \"Recommend a movie for me to watch during the weekend and explain the reason.\", \"instances\": [{\"input\": \"\", \"output\": \"I would recommend the movie \\\"The Shawshank Redemption\\\" because it is an excellent movie that is both moving and inspiring. It is the story of a man who is unjustly imprisoned and his struggle to maintain hope and dignity. It is a great film to watch over the weekend because it will make you think about the human capacity for resilience and hope.\"}], \"is_classification\": false}\n"
          ]
        }
      ]
    },
    {
      "cell_type": "markdown",
      "source": [
        "The self-instruct pipeline works iteratively. In each round:\n",
        "\n",
        "1. It selects a certain number of human-written instructions (`num_human_sample`) from the `seed_path`.\n",
        "2. It selects a certain number of machine-generated instructions (`num_machine_sample`) from previous rounds.\n",
        "3. It uses these selected instructions to guide the language model in generating new instructions.\n",
        "4. These new instructions are added to the pool of machine-generated instructions, and the process repeats until the desired number of instructions is generated.\n",
        "\n",
        "The `human_to_machine_ratio` helps control the balance between human guidance and the model's creativity throughout this process. By adjusting this ratio, you can influence the quality and diversity of the generated instructions.\n",
        "\n",
        "Feel free to alter `num_human_sample` and `num_machine_sample`, which both will be passed into `human_to_machine_ratio` later"
      ],
      "metadata": {
        "id": "LTlHeS2vUAMr"
      }
    },
    {
      "cell_type": "code",
      "source": [
        "num_human_sample = 6\n",
        "num_machine_sample = 2"
      ],
      "metadata": {
        "id": "S0VCIsDgRGc9"
      },
      "execution_count": 38,
      "outputs": []
    },
    {
      "cell_type": "markdown",
      "source": [
        "Please replace `target_num_instructions` with the number of machine instructions you want to generate\n"
      ],
      "metadata": {
        "id": "Apkw8UXmVElE"
      }
    },
    {
      "cell_type": "code",
      "source": [
        "target_num_instructions = 3"
      ],
      "metadata": {
        "id": "h1To5o6MRaPa"
      },
      "execution_count": 39,
      "outputs": []
    },
    {
      "cell_type": "markdown",
      "source": [
        "Pass everything to our pipeline."
      ],
      "metadata": {
        "id": "yApLnaGgVXCR"
      }
    },
    {
      "cell_type": "code",
      "source": [
        "pipeline = SelfInstructPipeline(\n",
        "    agent=agent,\n",
        "    seed=seed_path,\n",
        "    num_machine_instructions=target_num_instructions,\n",
        "    data_output_path=data_output_path,\n",
        "    human_to_machine_ratio=(num_human_sample, num_machine_sample),\n",
        ")"
      ],
      "metadata": {
        "id": "D0eOGW75Q_07"
      },
      "execution_count": 40,
      "outputs": []
    },
    {
      "cell_type": "markdown",
      "source": [
        "Try generating it! You will see the generated data file being created at your desired location!"
      ],
      "metadata": {
        "id": "8CdMQTR2Vah8"
      }
    },
    {
      "cell_type": "code",
      "source": [
        "pipeline.generate()"
      ],
      "metadata": {
        "id": "xLITVgW_RBtb"
      },
      "execution_count": 41,
      "outputs": []
    },
    {
      "cell_type": "markdown",
      "source": [
        "Pretty print the generated data content"
      ],
      "metadata": {
        "id": "lMNurltvN1SH"
      }
    },
    {
      "cell_type": "code",
      "source": [
        "import json\n",
        "\n",
        "with open(data_output_path, 'r') as file:\n",
        "    data = json.load(file)\n",
        "    print(json.dumps(data, indent=4))"
      ],
      "metadata": {
        "id": "Qz1-aKiONsyU",
        "colab": {
          "base_uri": "https://localhost:8080/"
        },
        "outputId": "c3e7be62-16be-424a-9a5b-817d53094513"
      },
      "execution_count": 42,
      "outputs": [
        {
          "output_type": "stream",
          "name": "stdout",
          "text": [
            "[\n",
            "    {\n",
            "        \"id\": \"machine_task_1\",\n",
            "        \"instruction\": \"Compose a detailed plan for a community initiative aimed at reducing waste in your local area and describe how it could positively impact the environment and community relations.\",\n",
            "        \"is_classification\": false,\n",
            "        \"instances\": [\n",
            "            {\n",
            "                \"input\": \"\",\n",
            "                \"output\": \"Plan: Implement a community-wide recycling program that includes regular curbside pickup, educational workshops on waste reduction, and incentives for businesses and residents who participate. Additionally, organize periodic community clean-up events to remove litter and promote community engagement.\\n\\nImpact: This initiative would significantly reduce the amount of waste sent to landfills, conserve natural resources, and decrease pollution. It would also foster a sense of community pride and cooperation, as residents and businesses work together towards a common goal.\"\n",
            "            },\n",
            "            {\n",
            "                \"input\": \"\",\n",
            "                \"output\": \"Plan: Launch a composting initiative in public parks and schools, providing bins and educational materials. Partner with local farmers markets to accept food scraps for composting. Encourage restaurants to donate unused food to shelters and compostable waste to the program.\\n\\nImpact: This plan would divert organic waste from landfills, enrich soil health, and reduce greenhouse gas emissions. It would also strengthen community ties by engaging various sectors in sustainable practices, promoting environmental stewardship and civic responsibility.\"\n",
            "            }\n",
            "        ]\n",
            "    },\n",
            "    {\n",
            "        \"id\": \"machine_task_2\",\n",
            "        \"instruction\": \"Create a step-by-step guide on how to repurpose old furniture into unique home decor items.\",\n",
            "        \"is_classification\": false,\n",
            "        \"instances\": [\n",
            "            {\n",
            "                \"input\": \"\",\n",
            "                \"output\": \"Step 1: Gather materials such as paint, brushes, sandpaper, and any decorative elements like stencils or fabric.\\nStep 2: Choose a piece of furniture to repurpose, such as an old dresser or table.\\nStep 3: Sand the surface of the furniture to prepare it for painting or staining.\\nStep 4: Paint or stain the furniture according to your desired design.\\nStep 5: Once dry, apply any decorative elements like stencils or fabric to add unique details.\\nStep 6: Allow the decorations to dry completely before using the newly repurposed furniture as a home decor item.\"\n",
            "            },\n",
            "            {\n",
            "                \"input\": \"\",\n",
            "                \"output\": \"Step 1: Collect tools and supplies including a saw, screws, nails, and decorative hardware.\\nStep 2: Select an old chair or table that needs refreshing.\\nStep 3: Disassemble the furniture if necessary to access the parts needing repair.\\nStep 4: Repair any broken or worn parts using the collected tools and supplies.\\nStep 5: Reassemble the furniture and attach decorative hardware like knobs or legs.\\nStep 6: Place the refurbished furniture in your home as a unique decor item.\"\n",
            "            }\n",
            "        ]\n",
            "    },\n",
            "    {\n",
            "        \"id\": \"machine_task_3\",\n",
            "        \"instruction\": \"Identify the main theme of the provided poem and provide a brief explanation.\",\n",
            "        \"is_classification\": false,\n",
            "        \"instances\": [\n",
            "            {\n",
            "                \"input\": \"Poem: \\\"The Road Not Taken\\\" by Robert Frost\\nTwo roads diverged in a yellow wood,\\nAnd sorry I could not travel both\\nAnd be one traveler, long I stood\\nAnd looked down one as far as I could\\nTo where it bent in the undergrowth;\\n\\nThen took the other, as just as fair,\\nAnd having perhaps the better claim,\\nBecause it was grassy and wanted wear;\\nThough as for that the passing there\\nHad worn them really about the same,\\n\\nAnd both that morning equally lay\\nIn leaves no step had trodden black.\\nOh, I kept the first for another day!\\nYet knowing how way leads on to way,\\nI doubted if I should ever come back.\\n\\nI shall be telling this with a sigh\\nSomewhere ages and ages hence:\\nTwo roads diverged in a wood, and I\\u2014\\nI took the one less traveled by,\\nAnd that has made all the difference.\",\n",
            "                \"output\": \"Main Theme: The poem explores the theme of choices and their consequences. It reflects on the speaker's decision to take the road less traveled and how it has shaped their life journey.\"\n",
            "            },\n",
            "            {\n",
            "                \"input\": \"Poem: \\\"Still I Rise\\\" by Maya Angelou\\nYou may write me down in history\\nWith your bitter, twisted lies,\\nYou may trod me in the very dirt\\nBut still, like dust, I'll rise.\\n\\nDoes my sassiness upset you?\\nWhy are you beset with gloom?\\n'Cause I walk like I've got oil wells\\nPumping in my living room.\\n\\nJust like moons and like suns,\\nWith the certainty of tides,\\nJust like hopes springing high,\\nStill I'll rise.\\n\\nDid you want to see me broken?\\nBowed head and lowered eyes?\\nShoulders falling down like teardrops.\\nWeakened by my soulful cries.\\n\\nDoes my haughtiness offend you?\\nDon't you take it awful hard\\n'Cause I laugh like I've got gold mines\\nDiggin' in my own back yard.\\n\\nYou may shoot me with your words,\\nYou may cut me with your eyes,\\nYou may kill me with your hatefulness,\\nBut still, like air, I'll rise.\",\n",
            "                \"output\": \"Main Theme: The poem celebrates resilience and self-esteem in the face of adversity. It emphasizes rising above oppression and discrimination with dignity and strength.\"\n",
            "            }\n",
            "        ]\n",
            "    }\n",
            "]\n"
          ]
        }
      ]
    },
    {
      "cell_type": "markdown",
      "source": [
        "## Filter functions"
      ],
      "metadata": {
        "id": "6vUQuCYsVhYB"
      }
    },
    {
      "cell_type": "markdown",
      "source": [
        "Newly generated instructions undergo filtering and evaluation before being added to the results. Only those meeting predefined standards are included. CAMEL provides some filter functions that can be passed in the self-instruct pipeline. Additionally, we also supports custom filters for tailored evaluation! Filter functions return `True` if the instruction is valid, `False` otherwise."
      ],
      "metadata": {
        "id": "2rwicXz4WKUF"
      }
    },
    {
      "cell_type": "markdown",
      "source": [
        "### Length Filter\n",
        "\n",
        "`LengthFilter` filters out all the instructions which has a length less than `min_len` or greater than `max_len`."
      ],
      "metadata": {
        "id": "0R1WMehRXP_Y"
      }
    },
    {
      "cell_type": "code",
      "source": [
        "from camel.datagen.self_instruct import LengthFilter\n",
        "\n",
        "length_filter = LengthFilter(min_len=5, max_len=50)\n",
        "\n",
        "instructions = [\n",
        "    \"Sort the numbers in ascending order.\",\n",
        "    \"Calculate the sum.\",\n",
        "    \"Create a report that details the monthly expenses and savings in a spreadsheet.\"\n",
        "]\n",
        "\n",
        "filtered_instructions = [instr for instr in instructions if length_filter.apply(instr)]\n",
        "print(filtered_instructions)"
      ],
      "metadata": {
        "id": "Spm-IrjYXSZH",
        "colab": {
          "base_uri": "https://localhost:8080/"
        },
        "outputId": "927ca0a3-a6e5-49c5-cec7-ea70a57c5a9a"
      },
      "execution_count": 43,
      "outputs": [
        {
          "output_type": "stream",
          "name": "stdout",
          "text": [
            "['Sort the numbers in ascending order.', 'Create a report that details the monthly expenses and savings in a spreadsheet.']\n"
          ]
        }
      ]
    },
    {
      "cell_type": "markdown",
      "source": [
        "### Keyword Filter\n",
        "\n",
        "`KeywordFilter` filters instructions that contain specific undesirable keyword."
      ],
      "metadata": {
        "id": "p1Isrs-kZtlA"
      }
    },
    {
      "cell_type": "code",
      "source": [
        "from camel.datagen.self_instruct import KeywordFilter\n",
        "\n",
        "keyword_filter = KeywordFilter(keywords=[\"ban\", \"prohibit\", \"forbid\"])\n",
        "\n",
        "instructions = [\n",
        "    \"Ban the use of plastic bags.\",\n",
        "    \"Encourage recycling programs.\",\n",
        "    \"Prohibit smoking in public areas.\"\n",
        "]\n",
        "\n",
        "filtered_instructions = [instr for instr in instructions if keyword_filter.apply(instr)]\n",
        "print(filtered_instructions)"
      ],
      "metadata": {
        "id": "ez4ixDvpZ2Jl",
        "colab": {
          "base_uri": "https://localhost:8080/"
        },
        "outputId": "2ddee452-f1a3-4415-a498-0149fde7217b"
      },
      "execution_count": 44,
      "outputs": [
        {
          "output_type": "stream",
          "name": "stdout",
          "text": [
            "['Encourage recycling programs.']\n"
          ]
        }
      ]
    },
    {
      "cell_type": "markdown",
      "source": [
        "### Punctuation Filter\n",
        "\n",
        "`PunctuationFilter` filters instructions that begin with a non-alphanumeric character."
      ],
      "metadata": {
        "id": "44x4N1voauHt"
      }
    },
    {
      "cell_type": "code",
      "source": [
        "from camel.datagen.self_instruct import PunctuationFilter\n",
        "\n",
        "punctuation_filter = PunctuationFilter()\n",
        "\n",
        "instructions = [\n",
        "    \"Sort the data by category.\",\n",
        "    \"#Analyze the trends over time.\",\n",
        "    \"*Create a summary of results.\"\n",
        "]\n",
        "\n",
        "filtered_instructions = [instr for instr in instructions if punctuation_filter.apply(instr)]\n",
        "print(filtered_instructions)"
      ],
      "metadata": {
        "id": "NZUkOWBIbKda",
        "colab": {
          "base_uri": "https://localhost:8080/"
        },
        "outputId": "bc481c14-28f4-4d79-9a7a-9d15c8c4cc60"
      },
      "execution_count": 45,
      "outputs": [
        {
          "output_type": "stream",
          "name": "stdout",
          "text": [
            "['Sort the data by category.']\n"
          ]
        }
      ]
    },
    {
      "cell_type": "markdown",
      "source": [
        "### Non-English Filter\n",
        "\n",
        "`NonEnglishFilter` filters instructions that do not begin with English letters."
      ],
      "metadata": {
        "id": "baQhO3aEbRkZ"
      }
    },
    {
      "cell_type": "code",
      "source": [
        "from camel.datagen.self_instruct import NonEnglishFilter\n",
        "\n",
        "non_english_filter = NonEnglishFilter()\n",
        "\n",
        "instructions = [\n",
        "    \"Analyze the performance metrics.\",\n",
        "    \"计算结果的统计数据.\",\n",
        "    \"Test the new algorithm.\"\n",
        "]\n",
        "\n",
        "filtered_instructions = [instr for instr in instructions if non_english_filter.apply(instr)]\n",
        "print(filtered_instructions)"
      ],
      "metadata": {
        "id": "KRWFVlrobahx",
        "colab": {
          "base_uri": "https://localhost:8080/"
        },
        "outputId": "e99a02a3-cea4-4e7b-a3bf-41236be3776e"
      },
      "execution_count": 46,
      "outputs": [
        {
          "output_type": "stream",
          "name": "stdout",
          "text": [
            "['Analyze the performance metrics.', 'Test the new algorithm.']\n"
          ]
        }
      ]
    },
    {
      "cell_type": "markdown",
      "source": [
        "### ROUGE Similarity Filter\n",
        "\n",
        "`RougeSimilarityFilter` filters instructions that are too similar to existing instructions based on ROUGE scores."
      ],
      "metadata": {
        "id": "MfpiGUmgbuez"
      }
    },
    {
      "cell_type": "code",
      "source": [
        "from camel.datagen.self_instruct import RougeSimilarityFilter\n",
        "\n",
        "existing_instructions = [\n",
        "    \"Summarize the article.\",\n",
        "    \"Write a brief overview of the text.\"\n",
        "]\n",
        "\n",
        "similarity_filter = RougeSimilarityFilter(existing_instructions, threshold=0.5)\n",
        "\n",
        "instructions = [\n",
        "    \"Summarize the content.\",\n",
        "    \"Create a summary for the text.\",\n",
        "    \"Provide an analysis of the text.\"\n",
        "]\n",
        "\n",
        "filtered_instructions = [instr for instr in instructions if similarity_filter.apply(instr)]\n",
        "print(filtered_instructions)"
      ],
      "metadata": {
        "id": "BWm9OmA3cLH_",
        "colab": {
          "base_uri": "https://localhost:8080/"
        },
        "outputId": "7d18ec2c-47ee-41d0-99fe-c37a4c2d88bf"
      },
      "execution_count": 47,
      "outputs": [
        {
          "output_type": "stream",
          "name": "stdout",
          "text": [
            "['Create a summary for the text.', 'Provide an analysis of the text.']\n"
          ]
        }
      ]
    },
    {
      "cell_type": "markdown",
      "source": [
        "### Custom Filter Function\n",
        "\n",
        "Additionaly, you could implement your own filter function."
      ],
      "metadata": {
        "id": "7v0bCi41pYNJ"
      }
    },
    {
      "cell_type": "code",
      "source": [
        "from camel.datagen.self_instruct import FilterFunction\n",
        "\n",
        "class CustomFilter(FilterFunction):\n",
        "\n",
        "    def apply(self, instruction: str) -> bool:\n",
        "        # apply your logic here\n",
        "        logic = ...\n",
        "        return logic"
      ],
      "metadata": {
        "id": "WePYoWOcpd4L"
      },
      "execution_count": 48,
      "outputs": []
    },
    {
      "cell_type": "markdown",
      "source": [
        "## Instruction Filter\n",
        "\n",
        "`InstructionFilter` manages all filter functions. And we can use a custom InstructionFilter to initialize the pipeline"
      ],
      "metadata": {
        "id": "e4GFMWex0pIU"
      }
    },
    {
      "cell_type": "markdown",
      "source": [
        "Start by adding filter functions you want and configure them."
      ],
      "metadata": {
        "id": "TZD_Vv331KRR"
      }
    },
    {
      "cell_type": "code",
      "source": [
        "filter_config = {\n",
        "  \"length\": {\"min_len\": 5, \"max_len\": 100},\n",
        "  \"keyword\": {\"keywords\": [\"image\", \"video\"]},\n",
        "  \"non_english\": {},\n",
        "  \"rouge_similarity\": {\n",
        "      \"existing_instructions\": [\"Some existing instructions\"],\n",
        "      \"threshold\": 0.6\n",
        "  }\n",
        "}"
      ],
      "metadata": {
        "id": "gEuGuwJy08KC"
      },
      "execution_count": 49,
      "outputs": []
    },
    {
      "cell_type": "markdown",
      "source": [
        "Then, initialize an `InstructionFilter`"
      ],
      "metadata": {
        "id": "7-QpykWW1W4U"
      }
    },
    {
      "cell_type": "code",
      "source": [
        "from camel.datagen.self_instruct import InstructionFilter\n",
        "filters = InstructionFilter(filter_config)"
      ],
      "metadata": {
        "id": "gB288iJB13M7"
      },
      "execution_count": 50,
      "outputs": []
    },
    {
      "cell_type": "markdown",
      "source": [
        "## Pipeline Setup with Custom `InstructionFilter`\n",
        "CAMEL has some default filter functions inside the pipeline, but you can also choose your own!"
      ],
      "metadata": {
        "id": "aiAbtsEM3BwC"
      }
    },
    {
      "cell_type": "code",
      "source": [
        "pipeline = SelfInstructPipeline(\n",
        "    agent=agent,\n",
        "    seed=seed_path,\n",
        "    num_machine_instructions=target_num_instructions,\n",
        "    data_output_path=data_output_path,\n",
        "    human_to_machine_ratio=(num_human_sample, num_machine_sample),\n",
        "    instruction_filter=filters,    # pass in your InstructionFilter\n",
        ")"
      ],
      "metadata": {
        "id": "FN_8zeX23IHa"
      },
      "execution_count": 51,
      "outputs": []
    },
    {
      "cell_type": "markdown",
      "source": [
        "Or if you want to use the default function filters, but different configuration, you can also just pass in the filter configuration"
      ],
      "metadata": {
        "id": "TnU_hc2S3pz4"
      }
    },
    {
      "cell_type": "markdown",
      "source": [
        "Finally, generate!"
      ],
      "metadata": {
        "id": "Z1K-0szy4RGj"
      }
    },
    {
      "cell_type": "code",
      "source": [
        "pipeline.generate()"
      ],
      "metadata": {
        "id": "RRSDuaiU4T-L"
      },
      "execution_count": 52,
      "outputs": []
    },
    {
      "cell_type": "markdown",
      "source": [
        "Pretty print the generated data content"
      ],
      "metadata": {
        "id": "k417Rj5rZ7Zk"
      }
    },
    {
      "cell_type": "code",
      "source": [
        "import json\n",
        "\n",
        "with open(data_output_path, 'r') as file:\n",
        "    data = json.load(file)\n",
        "    print(json.dumps(data, indent=4))"
      ],
      "metadata": {
        "colab": {
          "base_uri": "https://localhost:8080/"
        },
        "id": "y0Ump0HWZ7xA",
        "outputId": "55fbece3-050f-4442-cd33-2fcad8b66a2a"
      },
      "execution_count": 53,
      "outputs": [
        {
          "output_type": "stream",
          "name": "stdout",
          "text": [
            "[\n",
            "    {\n",
            "        \"id\": \"machine_task_1\",\n",
            "        \"instruction\": \"Write a Python function to determine if a given number is prime.\",\n",
            "        \"is_classification\": false,\n",
            "        \"instances\": [\n",
            "            {\n",
            "                \"input\": \"Number: 23\",\n",
            "                \"output\": \"```\\ndef is_prime(num):\\nif num <= 1:\\nreturn False\\nfor i in range(2, int(num**0.5) + 1):\\nif num % i == 0:\\nreturn False\\nreturn True\\n\\nis_prime(23)\\n```\\nOutput: True\"\n",
            "            },\n",
            "            {\n",
            "                \"input\": \"Number: 4\",\n",
            "                \"output\": \"```\\ndef is_prime(num):\\nif num <= 1:\\nreturn False\\nfor i in range(2, int(num**0.5) + 1):\\nif num % i == 0:\\nreturn False\\nreturn True\\n\\nis_prime(4)\\n```\\nOutput: False\"\n",
            "            }\n",
            "        ]\n",
            "    },\n",
            "    {\n",
            "        \"id\": \"machine_task_2\",\n",
            "        \"instruction\": \"Generate a correct SQL query to retrieve all records from a specific table where a certain condition is met.\",\n",
            "        \"is_classification\": false,\n",
            "        \"instances\": [\n",
            "            {\n",
            "                \"input\": \"Table: Employees\\nCondition: Department = 'Sales'\",\n",
            "                \"output\": \"```sql\\nSELECT * FROM Employees WHERE Department = 'Sales';\\n```\"\n",
            "            },\n",
            "            {\n",
            "                \"input\": \"Table: Orders\\nCondition: OrderDate BETWEEN '2023-01-01' AND '2023-03-31'\",\n",
            "                \"output\": \"```sql\\nSELECT * FROM Orders WHERE OrderDate BETWEEN '2023-01-01' AND '2023-03-31';\\n```\"\n",
            "            }\n",
            "        ]\n",
            "    },\n",
            "    {\n",
            "        \"id\": \"machine_task_3\",\n",
            "        \"instruction\": \"Identify the main theme of the provided poem and provide a brief explanation.\",\n",
            "        \"is_classification\": false,\n",
            "        \"instances\": [\n",
            "            {\n",
            "                \"input\": \"Poem: \\\"The Road Not Taken\\\" by Robert Frost\\nTwo roads diverged in a yellow wood,\\nAnd sorry I could not travel both\\nAnd be one traveler, long I stood\\nAnd looked down one as far as I could\\nTo where it bent in the undergrowth;\\n\\nThen took the other, as just as fair,\\nAnd having perhaps the better claim,\\nBecause it was grassy and wanted wear;\\nThough as for that the passing there\\nHad worn them really about the same,\\n\\nAnd both that morning equally lay\\nIn leaves no step had trodden black.\\nOh, I kept the first for another day!\\nYet knowing how way leads on to way,\\nI doubted if I should ever come back.\\n\\nI shall be telling this with a sigh\\nSomewhere ages and ages hence:\\nTwo roads diverged in a wood, and I\\u2014\\nI took the one less traveled by,\\nAnd that has made all the difference.\",\n",
            "                \"output\": \"Main Theme: The poem explores the theme of choices and their consequences. It reflects on the speaker's decision to take the road less traveled and how it has shaped their life journey.\"\n",
            "            },\n",
            "            {\n",
            "                \"input\": \"Poem: \\\"Still I Rise\\\" by Maya Angelou\\nYou may write me down in history\\nWith your bitter, twisted lies,\\nYou may trod me in the very dirt\\nBut still, like dust, I'll rise.\\n\\nDoes my sassiness upset you?\\nWhy are you beset with gloom?\\n'Cause I walk like I've got oil wells\\nPumping in my living room.\\n\\nJust like moons and like suns,\\nWith the certainty of tides,\\nJust like hopes springing high,\\nStill I'll rise.\\n\\nDid you want to see me broken?\\nBowed head and lowered eyes?\\nShoulders falling down like teardrops.\\nWeakened by my soulful cries.\\n\\nDoes my haughtiness offend you?\\nDon't you take it awful hard\\n'Cause I laugh like I've got gold mines\\nDiggin' in my own back yard.\\n\\nYou may shoot me with your words,\\nYou may cut me with your eyes,\\nYou may kill me with your hatefulness,\\nBut still, like air, I'll rise.\",\n",
            "                \"output\": \"Main Theme: The poem celebrates resilience and self-esteem in the face of adversity. It emphasizes rising above oppression and discrimination with dignity and strength.\"\n",
            "            }\n",
            "        ]\n",
            "    }\n",
            "]\n"
          ]
        }
      ]
    },
    {
      "cell_type": "markdown",
      "source": [
        "That's everything: Got questions about 🐫 CAMEL-AI? Join us on [Discord](https://discord.camel-ai.org)! Whether you want to share feedback, explore the latest in multi-agent systems, get support, or connect with others on exciting projects, we’d love to have you in the community! 🤝\n",
        "\n",
        "Check out some of our other work:\n",
        "\n",
        "1. 🐫 Creating Your First CAMEL Agent [free Colab](https://docs.camel-ai.org/cookbooks/create_your_first_agent.html)\n",
        "\n",
        "2.  Graph RAG Cookbook [free Colab](https://colab.research.google.com/drive/1uZKQSuu0qW6ukkuSv9TukLB9bVaS1H0U?usp=sharing)\n",
        "\n",
        "3. 🧑‍⚖️ Create A Hackathon Judge Committee with Workforce [free Colab](https://colab.research.google.com/drive/18ajYUMfwDx3WyrjHow3EvUMpKQDcrLtr?usp=sharing)\n",
        "\n",
        "4. 🔥 3 ways to ingest data from websites with Firecrawl & CAMEL [free Colab](https://colab.research.google.com/drive/1lOmM3VmgR1hLwDKdeLGFve_75RFW0R9I?usp=sharing)\n",
        "\n",
        "5. 🦥 Agentic SFT Data Generation with CAMEL and Mistral Models, Fine-Tuned with Unsloth [free Colab](https://colab.research.google.com/drive/1lYgArBw7ARVPSpdwgKLYnp_NEXiNDOd-?usp=sharingg)\n",
        "\n",
        "Thanks from everyone at 🐫 CAMEL-AI\n",
        "\n",
        "\n",
        "<div class=\"align-center\">\n",
        "  <a href=\"https://www.camel-ai.org/\"><img src=\"https://i.postimg.cc/KzQ5rfBC/button.png\"width=\"150\"></a>\n",
        "  <a href=\"https://discord.camel-ai.org\"><img src=\"https://i.postimg.cc/L4wPdG9N/join-2.png\"  width=\"150\"></a></a>\n",
        "  \n",
        "⭐ <i>Star us on [*Github*](https://github.com/camel-ai/camel), join our [*Discord*](https://discord.camel-ai.org) or follow our [*X*](https://x.com/camelaiorg)\n",
        "</div>\n"
      ],
      "metadata": {
        "id": "IXkjy1fq4cmM"
      }
    }
  ]
}