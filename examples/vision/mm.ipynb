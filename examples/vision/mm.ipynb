{
 "cells": [
  {
   "cell_type": "markdown",
   "source": [
    "# Agent Chat with Multimodal Models"
   ],
   "metadata": {
    "collapsed": false
   },
   "id": "4948e0e17198a778"
  },
  {
   "cell_type": "markdown",
   "source": [
    " The implement of session refers to [`babyagi`](../../camel/societies/babyagi_playing.py)."
   ],
   "metadata": {
    "collapsed": false
   },
   "id": "b4ebc6614125b557"
  },
  {
   "cell_type": "code",
   "execution_count": 1,
   "outputs": [],
   "source": [
    "import os\n",
    "\n",
    "os.environ[\"OPENAI_API_KEY\"] = \"\""
   ],
   "metadata": {
    "collapsed": false,
    "ExecuteTime": {
     "end_time": "2024-04-18T15:55:31.769748Z",
     "start_time": "2024-04-18T15:55:31.759990500Z"
    }
   },
   "id": "afb1070f42f2a109"
  },
  {
   "cell_type": "code",
   "execution_count": 4,
   "outputs": [],
   "source": [
    "from pathlib import Path\n",
    "import re\n",
    "from PIL import Image\n",
    "\n",
    "from camel.utils import print_text_animated\n",
    "from camel.configs import FunctionCallingConfig\n",
    "from camel.functions import T2I_FUNCS\n",
    "from camel.responses import ChatAgentResponse\n",
    "from camel.agents import ChatAgent\n",
    "from camel.messages import BaseMessage\n",
    "from camel.prompts import PromptTemplateGenerator\n",
    "from camel.types import TaskType, RoleType, ModelType\n",
    "from copy import deepcopy\n",
    "\n",
    "from IPython.core.display import Markdown\n",
    "from colorama import Fore\n",
    "\n",
    "class MMChat:\n",
    "    r\"\"\"The class of multimodal chat session.\n",
    "    \"\"\"\n",
    "\n",
    "    def __init__(\n",
    "        self,\n",
    "    ) -> None:\n",
    "        self.critic = None\n",
    "        self.artist = None\n",
    "        critic_sys = \"\"\"You need to describe what you see in the figure and improve the prompt of it.\n",
    "Reply with the following format:\n",
    "\n",
    "CRITICS: the image needs to improve...\n",
    "PROMPT: here is the updated prompt!\n",
    "        \"\"\"\n",
    "        self.critic_sys_msg = BaseMessage.make_assistant_message(role_name='critic', content= critic_sys)\n",
    "        \n",
    "        self.artist_sys_msg = BaseMessage.make_assistant_message(\n",
    "            role_name=\"Artist\",\n",
    "            content=PromptTemplateGenerator().get_prompt_from_key(TaskType.MULTI_CONDITION_IMAGE_CRAFT, RoleType.ASSISTANT),\n",
    "        )\n",
    "        \n",
    "        self.init_agents()\n",
    "\n",
    "    def init_agents(self):\n",
    "        r\"\"\"Initialize artist and critic agents with their system messages.\n",
    "\n",
    "        \"\"\"\n",
    "        \n",
    "        function_list=[*T2I_FUNCS]\n",
    "        assistant_model_config = FunctionCallingConfig.from_openai_function_list(\n",
    "            function_list=function_list,\n",
    "            kwargs=dict(temperature=0.0),\n",
    "        )\n",
    "\n",
    "        self.artist = ChatAgent(\n",
    "            system_message=self.artist_sys_msg,\n",
    "            model_type=ModelType.GPT_4_TURBO_VISION,\n",
    "            model_config=assistant_model_config,\n",
    "            function_list=[*T2I_FUNCS],\n",
    "        )\n",
    "        self.artist.reset()\n",
    "        \n",
    "        self.critic = ChatAgent(\n",
    "            system_message=self.critic_sys_msg,\n",
    "            model_type=ModelType.GPT_4_TURBO_VISION,\n",
    "        )\n",
    "        self.critic.reset()\n",
    "\n",
    "\n",
    "    def step(self, initialPrompt: str, iter_num = 2) -> ChatAgentResponse:\n",
    "        r\"\"\"Process of the drawing and criticising.\n",
    "        \n",
    "        Returns:\n",
    "            ChatAgentResponse: it contains the response message of the artist agent in the last iteration.\n",
    "\n",
    "        \"\"\"\n",
    "        \n",
    "        artist_user_msg = BaseMessage.make_user_message(\n",
    "        role_name=\"User\",\n",
    "        content = initialPrompt\n",
    "        )\n",
    "        print(Fore.MAGENTA + \"=\" * 10 + \"ARTIST SYS\" + \"=\" * 10 + \"\\n\" + self.artist_sys_msg.content)\n",
    "        print()\n",
    "        print(Fore.YELLOW + \"=\" * 10 + \"ARTIST USR\" + \"=\" * 10 + \"\\n\" + artist_user_msg.content)\n",
    "        print(\"\\n\")\n",
    "        \n",
    "        pattern = r'\\(.*?/([0-9a-fA-F]{8}-[0-9a-fA-F]{4}-[0-9a-fA-F]{4}-[0-9a-fA-F]{4}-[0-9a-fA-F]{12})(\\.jpg|\\.png)\\)'\n",
    "        response = self.artist.step(artist_user_msg)\n",
    "        matches = re.findall(pattern, response.msg.content)\n",
    "\n",
    "        image_paths = [f\"./img/{uuid}{ext}\" for uuid, ext in matches]\n",
    "        tmp_paths = deepcopy(image_paths)\n",
    "        response_msg = re.sub(pattern, lambda x: \"(\" + image_paths.pop(0) + \")\", response.msg.content)\n",
    "        image_paths = deepcopy(tmp_paths)\n",
    "\n",
    "        print_text_animated(Fore.BLUE + \"=\" *10 + \"ARTIST RES\" + \"=\"*10 + \"\\n\" + response_msg)\n",
    "        print()\n",
    "        display(Markdown(response_msg))\n",
    "\n",
    "        i = 0\n",
    "        while i < iter_num:         \n",
    "            i += 1\n",
    "            # print(\"image_paths\", image_paths)\n",
    "            # print()\n",
    "            \n",
    "            # Resize the image to 128x128\n",
    "            resized_imgs = [Image.open(image_path).resize((128, 128), Image.Resampling.LANCZOS) for image_path in image_paths]\n",
    "            # Save for maintaining the image format\n",
    "            [img.save(f\"tmp_{i}.png\", \"PNG\") for i, img in enumerate(resized_imgs)]\n",
    "            saved = [f\"tmp_{i}.png\" for i in range(len(resized_imgs))]\n",
    "            image_list = [Image.open(image) for image in saved]\n",
    "            \n",
    "            critic_user_msg = BaseMessage.make_user_message(\n",
    "                role_name=\"User\",\n",
    "                content=\"image:\",\n",
    "                image_list=image_list,\n",
    "                image_detail=\"low\",\n",
    "            )\n",
    "            print(Fore.GREEN + \"=\" *10 + \"CRITIC SYS\" + \"=\"*10 + \"\\n\" + self.critic_sys_msg.content)\n",
    "            print()\n",
    "            print(Fore.RED + \"=\" *10 + \"CRITIC USR\" + \"=\"*10 + \"\\n\" + critic_user_msg.content)\n",
    "            prompt = self.critic.step(critic_user_msg).msg.content\n",
    "            print()\n",
    "            print_text_animated(Fore.CYAN + \"=\" * 10 + \"CRITIC RES\" + \"=\" * 10 + \"\\n\" + prompt + Fore.RESET)\n",
    "            print()\n",
    "            \n",
    "            [Path(image).unlink() for image in saved]\n",
    "\n",
    "            artist_user_msg = BaseMessage.make_user_message(\n",
    "                role_name=\"User\",\n",
    "                content=\"Please generate a image based on the following prompt: \\n\" + prompt,\n",
    "            )\n",
    "            response = self.artist.step(artist_user_msg)\n",
    "\n",
    "            matches = re.findall(pattern, response.msg.content)\n",
    "            image_paths = [f\"./img/{uuid}{ext}\" for uuid, ext in matches]\n",
    "            tmp_paths = deepcopy(image_paths)\n",
    "            response_msg = re.sub(pattern, lambda x: \"(\" + image_paths.pop(0) + \")\", response.msg.content)\n",
    "            image_paths = deepcopy(tmp_paths)\n",
    "            print_text_animated(Fore.BLUE + \"=\" *10 + \"ARTIST RES\" + \"=\"*10 + \"\\n\" + response_msg)\n",
    "            print()\n",
    "\n",
    "            display(Markdown(response_msg))\n",
    "\n",
    "        return response"
   ],
   "metadata": {
    "collapsed": false,
    "ExecuteTime": {
     "end_time": "2024-04-18T16:04:03.851072900Z",
     "start_time": "2024-04-18T16:04:03.749541900Z"
    }
   },
   "id": "2aa5a75d748a9dfd"
  },
  {
   "cell_type": "code",
   "execution_count": 5,
   "outputs": [
    {
     "name": "stdout",
     "output_type": "stream",
     "text": [
      "\u001B[35m==========ARTIST SYS==========\n",
      "You are tasked with creating an image based on the provided text and images conditions. Please use your imagination and artistic capabilities to visualize and draw the images and explain what you are thinking about.\n",
      "\n",
      "\u001B[33m==========ARTIST USR==========\n",
      "Create an image with pink background, a dog is showing a sign with 'I Love Camel'.\n",
      "\n",
      "\u001B[34m==========ARTIST RES==========\n",
      "Here is the image of a cute dog holding a sign that says \"I Love Camel\" on a pink background:\n",
      "![Dog with Sign](./img/8e7eb094-a08e-4f6b-896c-400ba464d23e.png)\n"
     ]
    },
    {
     "data": {
      "text/plain": "<IPython.core.display.Markdown object>",
      "text/markdown": "Here is the image of a cute dog holding a sign that says \"I Love Camel\" on a pink background:\n\n![Dog with Sign](./img/8e7eb094-a08e-4f6b-896c-400ba464d23e.png)"
     },
     "metadata": {},
     "output_type": "display_data"
    },
    {
     "name": "stdout",
     "output_type": "stream",
     "text": [
      "\u001B[32m==========CRITIC SYS==========\n",
      "You need to describe what you see in the figure and improve the prompt of it.\n",
      "Reply with the following format:\n",
      "\n",
      "CRITICS: the image needs to improve...\n",
      "PROMPT: here is the updated prompt!\n",
      "        \n",
      "\n",
      "\u001B[31m==========CRITIC USR==========\n",
      "image:\n",
      "\n",
      "\u001B[36m==========CRITIC RES==========\n",
      "CRITICS: The image needs to improve the clarity of the message it intends to convey. The sign held by the dog with the text \"I ❤️ CAMEL\" might be confusing without context. It's unclear whether it refers to the animal, a brand, or something else.\n",
      "PROMPT: Here is the updated prompt!\n",
      "\"Create an image of a cute beagle puppy sitting against a vibrant pink background. The puppy is holding a sign that reads 'I ❤️ CAMEL'. Ensure the text is bold and clear. This image could be used for humorous or promotional content, so consider adding elements that clarify the context, like a small camel graphic on the sign or a playful background element related to the theme.\"\u001B[39m\n",
      "\n",
      "\u001B[34m==========ARTIST RES==========\n",
      "Here is the updated image based on your prompt:\n",
      "![Cute Beagle Puppy with Sign](./img/1c2c4e0b-86aa-4389-9deb-f7e1303071d2.png)\n",
      "This image features a cute beagle puppy sitting against a vibrant pink background, holding a sign that reads \"I ❤️ CAMEL\". The sign includes a small camel graphic to clarify the context, and the background has playful elements related to the theme.\n"
     ]
    },
    {
     "data": {
      "text/plain": "<IPython.core.display.Markdown object>",
      "text/markdown": "Here is the updated image based on your prompt:\n\n![Cute Beagle Puppy with Sign](./img/1c2c4e0b-86aa-4389-9deb-f7e1303071d2.png)\n\nThis image features a cute beagle puppy sitting against a vibrant pink background, holding a sign that reads \"I ❤️ CAMEL\". The sign includes a small camel graphic to clarify the context, and the background has playful elements related to the theme."
     },
     "metadata": {},
     "output_type": "display_data"
    }
   ],
   "source": [
    "session = MMChat()\n",
    "res = session.step(initialPrompt=\"Create an image with pink background, a dog is showing a sign with 'I Love Camel'.\", iter_num=1)"
   ],
   "metadata": {
    "collapsed": false,
    "ExecuteTime": {
     "end_time": "2024-04-18T16:06:12.358347100Z",
     "start_time": "2024-04-18T16:04:13.867139600Z"
    }
   },
   "id": "9c4814aea3aa354d"
  },
  {
   "cell_type": "markdown",
   "source": [
    "- Drawbacks\n",
    "    - Image Path Processing\n",
    "\n",
    "- TODO\n",
    "    - Multimodal Memory\n",
    "    - Multi modality in Recommendation Systems"
   ],
   "metadata": {
    "collapsed": false
   },
   "id": "ed312247a54f3fc5"
  }
 ],
 "metadata": {
  "kernelspec": {
   "display_name": "Python 3",
   "language": "python",
   "name": "python3"
  },
  "language_info": {
   "codemirror_mode": {
    "name": "ipython",
    "version": 2
   },
   "file_extension": ".py",
   "mimetype": "text/x-python",
   "name": "python",
   "nbconvert_exporter": "python",
   "pygments_lexer": "ipython2",
   "version": "2.7.6"
  }
 },
 "nbformat": 4,
 "nbformat_minor": 5
}
