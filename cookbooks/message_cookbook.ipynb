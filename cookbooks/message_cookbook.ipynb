{
  "nbformat": 4,
  "nbformat_minor": 0,
  "metadata": {
    "colab": {
      "provenance": []
    },
    "kernelspec": {
      "name": "python3",
      "display_name": "Python 3"
    },
    "language_info": {
      "name": "python"
    }
  },
  "cells": [
    {
      "cell_type": "markdown",
      "source": [
        "# 🐫 CAMEL Message Cookbook"
      ],
      "metadata": {
        "id": "w5_pa5kKPzAE"
      }
    },
    {
      "cell_type": "markdown",
      "source": [
        "You can also check this cookbook in colab [here](https://colab.research.google.com/drive/1qyi4bnAbnYink-FKaAlJG9OipyEWXEsT?usp=sharing)"
      ],
      "metadata": {
        "id": "1tGC1kVjPNX9"
      }
    },
    {
      "cell_type": "markdown",
      "source": [
        "## Overview"
      ],
      "metadata": {
        "id": "lSXa_rQQQzBd"
      }
    },
    {
      "cell_type": "markdown",
      "source": [
        "In this tutorial, we will explore the `BaseMessage` class. The topics covered include:\n",
        "\n",
        "1. Introduction to the `BaseMessage` class.\n",
        "2. Creating a `BaseMessage` instance.\n",
        "3. Understanding the properties of the `BaseMessage` class.\n",
        "4. Using the methods of the `BaseMessage` class.\n",
        "5. Give message to `ChatAgent`"
      ],
      "metadata": {
        "id": "OnmoAw2vQG8I"
      }
    },
    {
      "cell_type": "markdown",
      "source": [
        "## Introduction\n",
        "\n"
      ],
      "metadata": {
        "id": "l4MP9uUNQ2kr"
      }
    },
    {
      "cell_type": "markdown",
      "source": [
        "The `BaseMessage` class is the base class for message objects used in the CAMEL chat system. It is designed to provide a consistent structure for the messages in the system and allow for easy conversion between different message types."
      ],
      "metadata": {
        "id": "aYzY4OM6F3ay"
      }
    },
    {
      "cell_type": "markdown",
      "source": [
        "### Installation"
      ],
      "metadata": {
        "id": "kETDiaP2Rrdb"
      }
    },
    {
      "cell_type": "markdown",
      "source": [
        "Ensure you have CAMEL AI installed in your Python environment:"
      ],
      "metadata": {
        "id": "Cg96MkbcRtQR"
      }
    },
    {
      "cell_type": "code",
      "execution_count": null,
      "metadata": {
        "colab": {
          "base_uri": "https://localhost:8080/"
        },
        "collapsed": true,
        "id": "ZVmDAK6MPefC",
        "outputId": "058bba8e-7df6-46df-cae9-78166c560275"
      },
      "outputs": [
        {
          "output_type": "stream",
          "name": "stdout",
          "text": [
            "Requirement already satisfied: camel-ai==0.1.6.8 in /usr/local/lib/python3.10/dist-packages (from camel-ai[all]==0.1.6.8) (0.1.6.8)\n",
            "Requirement already satisfied: anthropic<0.30.0,>=0.29.0 in /usr/local/lib/python3.10/dist-packages (from camel-ai==0.1.6.8->camel-ai[all]==0.1.6.8) (0.29.2)\n",
            "Requirement already satisfied: colorama<1,>=0 in /usr/local/lib/python3.10/dist-packages (from camel-ai==0.1.6.8->camel-ai[all]==0.1.6.8) (0.4.6)\n",
            "Requirement already satisfied: curl_cffi==0.6.2 in /usr/local/lib/python3.10/dist-packages (from camel-ai==0.1.6.8->camel-ai[all]==0.1.6.8) (0.6.2)\n",
            "Requirement already satisfied: docstring-parser<0.16,>=0.15 in /usr/local/lib/python3.10/dist-packages (from camel-ai==0.1.6.8->camel-ai[all]==0.1.6.8) (0.15)\n",
            "Requirement already satisfied: eval-type-backport==0.2.0 in /usr/local/lib/python3.10/dist-packages (from camel-ai==0.1.6.8->camel-ai[all]==0.1.6.8) (0.2.0)\n",
            "Requirement already satisfied: groq<0.6.0,>=0.5.0 in /usr/local/lib/python3.10/dist-packages (from camel-ai==0.1.6.8->camel-ai[all]==0.1.6.8) (0.5.0)\n",
            "Requirement already satisfied: ipykernel<7.0.0,>=6.0.0 in /usr/local/lib/python3.10/dist-packages (from camel-ai==0.1.6.8->camel-ai[all]==0.1.6.8) (6.29.5)\n",
            "Requirement already satisfied: jsonschema<5,>=4 in /usr/local/lib/python3.10/dist-packages (from camel-ai==0.1.6.8->camel-ai[all]==0.1.6.8) (4.23.0)\n",
            "Requirement already satisfied: numpy<2,>=1 in /usr/local/lib/python3.10/dist-packages (from camel-ai==0.1.6.8->camel-ai[all]==0.1.6.8) (1.26.4)\n",
            "Requirement already satisfied: openai<2.0.0,>=1.2.3 in /usr/local/lib/python3.10/dist-packages (from camel-ai==0.1.6.8->camel-ai[all]==0.1.6.8) (1.43.0)\n",
            "Requirement already satisfied: pathlib<2.0.0,>=1.0.1 in /usr/local/lib/python3.10/dist-packages (from camel-ai==0.1.6.8->camel-ai[all]==0.1.6.8) (1.0.1)\n",
            "Requirement already satisfied: protobuf<5,>=4 in /usr/local/lib/python3.10/dist-packages (from camel-ai==0.1.6.8->camel-ai[all]==0.1.6.8) (4.25.4)\n",
            "Requirement already satisfied: pydantic<3,>=1.9 in /usr/local/lib/python3.10/dist-packages (from camel-ai==0.1.6.8->camel-ai[all]==0.1.6.8) (2.8.2)\n",
            "Requirement already satisfied: tiktoken<0.8.0,>=0.7.0 in /usr/local/lib/python3.10/dist-packages (from camel-ai==0.1.6.8->camel-ai[all]==0.1.6.8) (0.7.0)\n",
            "Requirement already satisfied: PyMuPDF<2.0.0,>=1.22.5 in /usr/local/lib/python3.10/dist-packages (from camel-ai[all]==0.1.6.8) (1.24.10)\n",
            "Requirement already satisfied: accelerate<1,>=0 in /usr/local/lib/python3.10/dist-packages (from camel-ai[all]==0.1.6.8) (0.33.0)\n",
            "Requirement already satisfied: agentops<0.4.0,>=0.3.6 in /usr/local/lib/python3.10/dist-packages (from camel-ai[all]==0.1.6.8) (0.3.10)\n",
            "Requirement already satisfied: azure-storage-blob<13.0.0,>=12.21.0 in /usr/local/lib/python3.10/dist-packages (from camel-ai[all]==0.1.6.8) (12.22.0)\n",
            "Requirement already satisfied: beautifulsoup4<5,>=4 in /usr/local/lib/python3.10/dist-packages (from camel-ai[all]==0.1.6.8) (4.12.3)\n",
            "Requirement already satisfied: botocore<2.0.0,>=1.35.3 in /usr/local/lib/python3.10/dist-packages (from camel-ai[all]==0.1.6.8) (1.35.12)\n",
            "Requirement already satisfied: cohere<5.0,>=4.56 in /usr/local/lib/python3.10/dist-packages (from camel-ai[all]==0.1.6.8) (4.57)\n",
            "Requirement already satisfied: datasets<3,>=2 in /usr/local/lib/python3.10/dist-packages (from camel-ai[all]==0.1.6.8) (2.19.1)\n",
            "Requirement already satisfied: diffusers<1,>=0 in /usr/local/lib/python3.10/dist-packages (from camel-ai[all]==0.1.6.8) (0.30.2)\n",
            "Requirement already satisfied: discord.py<3.0.0,>=2.3.2 in /usr/local/lib/python3.10/dist-packages (from camel-ai[all]==0.1.6.8) (2.4.0)\n",
            "Requirement already satisfied: docker<8.0.0,>=7.1.0 in /usr/local/lib/python3.10/dist-packages (from camel-ai[all]==0.1.6.8) (7.1.0)\n",
            "Requirement already satisfied: docx2txt<0.9,>=0.8 in /usr/local/lib/python3.10/dist-packages (from camel-ai[all]==0.1.6.8) (0.8)\n",
            "Requirement already satisfied: duckduckgo-search<7.0.0,>=6.1.0 in /usr/local/lib/python3.10/dist-packages (from camel-ai[all]==0.1.6.8) (6.2.11)\n",
            "Requirement already satisfied: firecrawl-py<0.0.21,>=0.0.20 in /usr/local/lib/python3.10/dist-packages (from camel-ai[all]==0.1.6.8) (0.0.20)\n",
            "Requirement already satisfied: google-cloud-storage<3.0.0,>=2.18.0 in /usr/local/lib/python3.10/dist-packages (from camel-ai[all]==0.1.6.8) (2.18.2)\n",
            "Requirement already satisfied: google-generativeai<0.7.0,>=0.6.0 in /usr/local/lib/python3.10/dist-packages (from camel-ai[all]==0.1.6.8) (0.6.0)\n",
            "Requirement already satisfied: googlemaps<5.0.0,>=4.10.0 in /usr/local/lib/python3.10/dist-packages (from camel-ai[all]==0.1.6.8) (4.10.0)\n",
            "Requirement already satisfied: imageio<3.0.0,>=2.34.2 in /usr/local/lib/python3.10/dist-packages (from imageio[pyav]<3.0.0,>=2.34.2; extra == \"tools\" or extra == \"all\"->camel-ai[all]==0.1.6.8) (2.34.2)\n",
            "Requirement already satisfied: jupyter_client<9.0.0,>=8.6.2 in /usr/local/lib/python3.10/dist-packages (from camel-ai[all]==0.1.6.8) (8.6.2)\n",
            "Requirement already satisfied: litellm<2.0.0,>=1.38.1 in /usr/local/lib/python3.10/dist-packages (from camel-ai[all]==0.1.6.8) (1.44.18)\n",
            "Requirement already satisfied: mistralai<2.0.0,>=1.0.0 in /usr/local/lib/python3.10/dist-packages (from camel-ai[all]==0.1.6.8) (1.0.3)\n",
            "Requirement already satisfied: neo4j<6.0.0,>=5.18.0 in /usr/local/lib/python3.10/dist-packages (from camel-ai[all]==0.1.6.8) (5.24.0)\n",
            "Requirement already satisfied: newspaper3k<0.3.0,>=0.2.8 in /usr/local/lib/python3.10/dist-packages (from camel-ai[all]==0.1.6.8) (0.2.8)\n",
            "Requirement already satisfied: nltk==3.8.1 in /usr/local/lib/python3.10/dist-packages (from camel-ai[all]==0.1.6.8) (3.8.1)\n",
            "Requirement already satisfied: openapi-spec-validator<0.8.0,>=0.7.1 in /usr/local/lib/python3.10/dist-packages (from camel-ai[all]==0.1.6.8) (0.7.1)\n",
            "Requirement already satisfied: opencv-python<5,>=4 in /usr/local/lib/python3.10/dist-packages (from camel-ai[all]==0.1.6.8) (4.10.0.84)\n",
            "Requirement already satisfied: pillow<11.0.0,>=10.2.0 in /usr/local/lib/python3.10/dist-packages (from camel-ai[all]==0.1.6.8) (10.4.0)\n",
            "Requirement already satisfied: prance<24.0.0.0,>=23.6.21.0 in /usr/local/lib/python3.10/dist-packages (from camel-ai[all]==0.1.6.8) (23.6.21.0)\n",
            "Requirement already satisfied: pyTelegramBotAPI<5.0.0,>=4.18.0 in /usr/local/lib/python3.10/dist-packages (from camel-ai[all]==0.1.6.8) (4.22.1)\n",
            "Requirement already satisfied: pydub<0.26.0,>=0.25.1 in /usr/local/lib/python3.10/dist-packages (from camel-ai[all]==0.1.6.8) (0.25.1)\n",
            "Requirement already satisfied: pygithub<3.0.0,>=2.3.0 in /usr/local/lib/python3.10/dist-packages (from camel-ai[all]==0.1.6.8) (2.4.0)\n",
            "Requirement already satisfied: pymilvus<3.0.0,>=2.4.0 in /usr/local/lib/python3.10/dist-packages (from camel-ai[all]==0.1.6.8) (2.4.6)\n",
            "Requirement already satisfied: pyowm<4.0.0,>=3.3.0 in /usr/local/lib/python3.10/dist-packages (from camel-ai[all]==0.1.6.8) (3.3.0)\n",
            "Requirement already satisfied: qdrant-client<2.0.0,>=1.9.0 in /usr/local/lib/python3.10/dist-packages (from camel-ai[all]==0.1.6.8) (1.11.1)\n",
            "Requirement already satisfied: rank-bm25<0.3.0,>=0.2.2 in /usr/local/lib/python3.10/dist-packages (from camel-ai[all]==0.1.6.8) (0.2.2)\n",
            "Requirement already satisfied: redis<6.0.0,>=5.0.6 in /usr/local/lib/python3.10/dist-packages (from camel-ai[all]==0.1.6.8) (5.0.8)\n",
            "Requirement already satisfied: reka-api<4.0.0,>=3.0.8 in /usr/local/lib/python3.10/dist-packages (from camel-ai[all]==0.1.6.8) (3.0.8)\n",
            "Requirement already satisfied: requests_oauthlib<2.0.0,>=1.3.1 in /usr/local/lib/python3.10/dist-packages (from camel-ai[all]==0.1.6.8) (1.3.1)\n",
            "Requirement already satisfied: sentence-transformers<4.0.0,>=3.0.1 in /usr/local/lib/python3.10/dist-packages (from camel-ai[all]==0.1.6.8) (3.0.1)\n",
            "Requirement already satisfied: sentencepiece<1,>=0 in /usr/local/lib/python3.10/dist-packages (from camel-ai[all]==0.1.6.8) (0.1.99)\n",
            "Requirement already satisfied: slack-sdk<4.0.0,>=3.27.2 in /usr/local/lib/python3.10/dist-packages (from camel-ai[all]==0.1.6.8) (3.31.0)\n",
            "Requirement already satisfied: soundfile<1,>=0 in /usr/local/lib/python3.10/dist-packages (from camel-ai[all]==0.1.6.8) (0.12.1)\n",
            "Requirement already satisfied: torch<3,>=2 in /usr/local/lib/python3.10/dist-packages (from camel-ai[all]==0.1.6.8) (2.4.0+cu121)\n",
            "Requirement already satisfied: transformers<5,>=4 in /usr/local/lib/python3.10/dist-packages (from camel-ai[all]==0.1.6.8) (4.44.2)\n",
            "Requirement already satisfied: unstructured<0.11,>=0.10 in /usr/local/lib/python3.10/dist-packages (from unstructured[all-docs]<0.11,>=0.10; extra == \"tools\" or extra == \"all\"->camel-ai[all]==0.1.6.8) (0.10.30)\n",
            "Requirement already satisfied: wikipedia<2,>=1 in /usr/local/lib/python3.10/dist-packages (from camel-ai[all]==0.1.6.8) (1.4.0)\n",
            "Requirement already satisfied: wolframalpha<6.0.0,>=5.0.0 in /usr/local/lib/python3.10/dist-packages (from camel-ai[all]==0.1.6.8) (5.1.3)\n",
            "Requirement already satisfied: cffi>=1.12.0 in /usr/local/lib/python3.10/dist-packages (from curl_cffi==0.6.2->camel-ai==0.1.6.8->camel-ai[all]==0.1.6.8) (1.17.0)\n",
            "Requirement already satisfied: certifi in /usr/local/lib/python3.10/dist-packages (from curl_cffi==0.6.2->camel-ai==0.1.6.8->camel-ai[all]==0.1.6.8) (2024.8.30)\n",
            "Requirement already satisfied: click in /usr/local/lib/python3.10/dist-packages (from nltk==3.8.1->camel-ai[all]==0.1.6.8) (8.1.7)\n",
            "Requirement already satisfied: joblib in /usr/local/lib/python3.10/dist-packages (from nltk==3.8.1->camel-ai[all]==0.1.6.8) (1.4.2)\n",
            "Requirement already satisfied: regex>=2021.8.3 in /usr/local/lib/python3.10/dist-packages (from nltk==3.8.1->camel-ai[all]==0.1.6.8) (2024.5.15)\n",
            "Requirement already satisfied: tqdm in /usr/local/lib/python3.10/dist-packages (from nltk==3.8.1->camel-ai[all]==0.1.6.8) (4.66.5)\n",
            "Requirement already satisfied: packaging>=20.0 in /usr/local/lib/python3.10/dist-packages (from accelerate<1,>=0->camel-ai[all]==0.1.6.8) (23.2)\n",
            "Requirement already satisfied: psutil in /usr/local/lib/python3.10/dist-packages (from accelerate<1,>=0->camel-ai[all]==0.1.6.8) (5.9.8)\n",
            "Requirement already satisfied: pyyaml in /usr/local/lib/python3.10/dist-packages (from accelerate<1,>=0->camel-ai[all]==0.1.6.8) (6.0.1)\n",
            "Requirement already satisfied: huggingface-hub>=0.21.0 in /usr/local/lib/python3.10/dist-packages (from accelerate<1,>=0->camel-ai[all]==0.1.6.8) (0.24.6)\n",
            "Requirement already satisfied: safetensors>=0.3.1 in /usr/local/lib/python3.10/dist-packages (from accelerate<1,>=0->camel-ai[all]==0.1.6.8) (0.4.4)\n",
            "Requirement already satisfied: requests==2.31.0 in /usr/local/lib/python3.10/dist-packages (from agentops<0.4.0,>=0.3.6->camel-ai[all]==0.1.6.8) (2.31.0)\n",
            "Requirement already satisfied: termcolor==2.4.0 in /usr/local/lib/python3.10/dist-packages (from agentops<0.4.0,>=0.3.6->camel-ai[all]==0.1.6.8) (2.4.0)\n",
            "Requirement already satisfied: charset-normalizer<4,>=2 in /usr/local/lib/python3.10/dist-packages (from requests==2.31.0->agentops<0.4.0,>=0.3.6->camel-ai[all]==0.1.6.8) (3.3.2)\n",
            "Requirement already satisfied: idna<4,>=2.5 in /usr/local/lib/python3.10/dist-packages (from requests==2.31.0->agentops<0.4.0,>=0.3.6->camel-ai[all]==0.1.6.8) (3.8)\n",
            "Requirement already satisfied: urllib3<3,>=1.21.1 in /usr/local/lib/python3.10/dist-packages (from requests==2.31.0->agentops<0.4.0,>=0.3.6->camel-ai[all]==0.1.6.8) (2.0.7)\n",
            "Requirement already satisfied: anyio<5,>=3.5.0 in /usr/local/lib/python3.10/dist-packages (from anthropic<0.30.0,>=0.29.0->camel-ai==0.1.6.8->camel-ai[all]==0.1.6.8) (3.7.1)\n",
            "Requirement already satisfied: distro<2,>=1.7.0 in /usr/lib/python3/dist-packages (from anthropic<0.30.0,>=0.29.0->camel-ai==0.1.6.8->camel-ai[all]==0.1.6.8) (1.7.0)\n",
            "Requirement already satisfied: httpx<1,>=0.23.0 in /usr/local/lib/python3.10/dist-packages (from anthropic<0.30.0,>=0.29.0->camel-ai==0.1.6.8->camel-ai[all]==0.1.6.8) (0.27.2)\n",
            "Requirement already satisfied: jiter<1,>=0.4.0 in /usr/local/lib/python3.10/dist-packages (from anthropic<0.30.0,>=0.29.0->camel-ai==0.1.6.8->camel-ai[all]==0.1.6.8) (0.5.0)\n",
            "Requirement already satisfied: sniffio in /usr/local/lib/python3.10/dist-packages (from anthropic<0.30.0,>=0.29.0->camel-ai==0.1.6.8->camel-ai[all]==0.1.6.8) (1.3.1)\n",
            "Requirement already satisfied: tokenizers>=0.13.0 in /usr/local/lib/python3.10/dist-packages (from anthropic<0.30.0,>=0.29.0->camel-ai==0.1.6.8->camel-ai[all]==0.1.6.8) (0.19.1)\n",
            "Requirement already satisfied: typing-extensions<5,>=4.7 in /usr/local/lib/python3.10/dist-packages (from anthropic<0.30.0,>=0.29.0->camel-ai==0.1.6.8->camel-ai[all]==0.1.6.8) (4.12.2)\n",
            "Requirement already satisfied: azure-core>=1.28.0 in /usr/local/lib/python3.10/dist-packages (from azure-storage-blob<13.0.0,>=12.21.0->camel-ai[all]==0.1.6.8) (1.30.2)\n",
            "Requirement already satisfied: cryptography>=2.1.4 in /usr/local/lib/python3.10/dist-packages (from azure-storage-blob<13.0.0,>=12.21.0->camel-ai[all]==0.1.6.8) (43.0.0)\n",
            "Requirement already satisfied: isodate>=0.6.1 in /usr/local/lib/python3.10/dist-packages (from azure-storage-blob<13.0.0,>=12.21.0->camel-ai[all]==0.1.6.8) (0.6.1)\n",
            "Requirement already satisfied: soupsieve>1.2 in /usr/local/lib/python3.10/dist-packages (from beautifulsoup4<5,>=4->camel-ai[all]==0.1.6.8) (2.6)\n",
            "Requirement already satisfied: jmespath<2.0.0,>=0.7.1 in /usr/local/lib/python3.10/dist-packages (from botocore<2.0.0,>=1.35.3->camel-ai[all]==0.1.6.8) (1.0.1)\n",
            "Requirement already satisfied: python-dateutil<3.0.0,>=2.1 in /usr/local/lib/python3.10/dist-packages (from botocore<2.0.0,>=1.35.3->camel-ai[all]==0.1.6.8) (2.9.0.post0)\n",
            "Requirement already satisfied: aiohttp<4.0,>=3.0 in /usr/local/lib/python3.10/dist-packages (from cohere<5.0,>=4.56->camel-ai[all]==0.1.6.8) (3.10.5)\n",
            "Requirement already satisfied: backoff<3.0,>=2.0 in /usr/local/lib/python3.10/dist-packages (from cohere<5.0,>=4.56->camel-ai[all]==0.1.6.8) (2.2.1)\n",
            "Requirement already satisfied: fastavro<2.0,>=1.8 in /usr/local/lib/python3.10/dist-packages (from cohere<5.0,>=4.56->camel-ai[all]==0.1.6.8) (1.9.6)\n",
            "Requirement already satisfied: importlib_metadata<7.0,>=6.0 in /usr/local/lib/python3.10/dist-packages (from cohere<5.0,>=4.56->camel-ai[all]==0.1.6.8) (6.11.0)\n",
            "Requirement already satisfied: filelock in /usr/local/lib/python3.10/dist-packages (from datasets<3,>=2->camel-ai[all]==0.1.6.8) (3.15.4)\n",
            "Requirement already satisfied: pyarrow>=12.0.0 in /usr/local/lib/python3.10/dist-packages (from datasets<3,>=2->camel-ai[all]==0.1.6.8) (14.0.2)\n",
            "Requirement already satisfied: pyarrow-hotfix in /usr/local/lib/python3.10/dist-packages (from datasets<3,>=2->camel-ai[all]==0.1.6.8) (0.6)\n",
            "Requirement already satisfied: dill<0.3.9,>=0.3.0 in /usr/local/lib/python3.10/dist-packages (from datasets<3,>=2->camel-ai[all]==0.1.6.8) (0.3.8)\n",
            "Requirement already satisfied: pandas in /usr/local/lib/python3.10/dist-packages (from datasets<3,>=2->camel-ai[all]==0.1.6.8) (2.1.4)\n",
            "Requirement already satisfied: xxhash in /usr/local/lib/python3.10/dist-packages (from datasets<3,>=2->camel-ai[all]==0.1.6.8) (3.5.0)\n",
            "Requirement already satisfied: multiprocess in /usr/local/lib/python3.10/dist-packages (from datasets<3,>=2->camel-ai[all]==0.1.6.8) (0.70.16)\n",
            "Requirement already satisfied: fsspec<=2024.3.1,>=2023.1.0 in /usr/local/lib/python3.10/dist-packages (from fsspec[http]<=2024.3.1,>=2023.1.0->datasets<3,>=2->camel-ai[all]==0.1.6.8) (2024.3.1)\n",
            "Requirement already satisfied: primp>=0.6.1 in /usr/local/lib/python3.10/dist-packages (from duckduckgo-search<7.0.0,>=6.1.0->camel-ai[all]==0.1.6.8) (0.6.1)\n",
            "Requirement already satisfied: google-auth<3.0dev,>=2.26.1 in /usr/local/lib/python3.10/dist-packages (from google-cloud-storage<3.0.0,>=2.18.0->camel-ai[all]==0.1.6.8) (2.27.0)\n",
            "Requirement already satisfied: google-api-core<3.0.0dev,>=2.15.0 in /usr/local/lib/python3.10/dist-packages (from google-cloud-storage<3.0.0,>=2.18.0->camel-ai[all]==0.1.6.8) (2.19.2)\n",
            "Requirement already satisfied: google-cloud-core<3.0dev,>=2.3.0 in /usr/local/lib/python3.10/dist-packages (from google-cloud-storage<3.0.0,>=2.18.0->camel-ai[all]==0.1.6.8) (2.4.1)\n",
            "Requirement already satisfied: google-resumable-media>=2.7.2 in /usr/local/lib/python3.10/dist-packages (from google-cloud-storage<3.0.0,>=2.18.0->camel-ai[all]==0.1.6.8) (2.7.2)\n",
            "Requirement already satisfied: google-crc32c<2.0dev,>=1.0 in /usr/local/lib/python3.10/dist-packages (from google-cloud-storage<3.0.0,>=2.18.0->camel-ai[all]==0.1.6.8) (1.5.0)\n",
            "Requirement already satisfied: google-ai-generativelanguage==0.6.4 in /usr/local/lib/python3.10/dist-packages (from google-generativeai<0.7.0,>=0.6.0->camel-ai[all]==0.1.6.8) (0.6.4)\n",
            "Requirement already satisfied: google-api-python-client in /usr/local/lib/python3.10/dist-packages (from google-generativeai<0.7.0,>=0.6.0->camel-ai[all]==0.1.6.8) (2.137.0)\n",
            "Requirement already satisfied: proto-plus<2.0.0dev,>=1.22.3 in /usr/local/lib/python3.10/dist-packages (from google-ai-generativelanguage==0.6.4->google-generativeai<0.7.0,>=0.6.0->camel-ai[all]==0.1.6.8) (1.24.0)\n",
            "Requirement already satisfied: av in /usr/local/lib/python3.10/dist-packages (from imageio[pyav]<3.0.0,>=2.34.2; extra == \"tools\" or extra == \"all\"->camel-ai[all]==0.1.6.8) (13.0.0)\n",
            "Requirement already satisfied: comm>=0.1.1 in /usr/local/lib/python3.10/dist-packages (from ipykernel<7.0.0,>=6.0.0->camel-ai==0.1.6.8->camel-ai[all]==0.1.6.8) (0.2.2)\n",
            "Requirement already satisfied: debugpy>=1.6.5 in /usr/local/lib/python3.10/dist-packages (from ipykernel<7.0.0,>=6.0.0->camel-ai==0.1.6.8->camel-ai[all]==0.1.6.8) (1.6.6)\n",
            "Requirement already satisfied: ipython>=7.23.1 in /usr/local/lib/python3.10/dist-packages (from ipykernel<7.0.0,>=6.0.0->camel-ai==0.1.6.8->camel-ai[all]==0.1.6.8) (7.34.0)\n",
            "Requirement already satisfied: jupyter-core!=5.0.*,>=4.12 in /usr/local/lib/python3.10/dist-packages (from ipykernel<7.0.0,>=6.0.0->camel-ai==0.1.6.8->camel-ai[all]==0.1.6.8) (5.7.2)\n",
            "Requirement already satisfied: matplotlib-inline>=0.1 in /usr/local/lib/python3.10/dist-packages (from ipykernel<7.0.0,>=6.0.0->camel-ai==0.1.6.8->camel-ai[all]==0.1.6.8) (0.1.7)\n",
            "Requirement already satisfied: nest-asyncio in /usr/local/lib/python3.10/dist-packages (from ipykernel<7.0.0,>=6.0.0->camel-ai==0.1.6.8->camel-ai[all]==0.1.6.8) (1.6.0)\n",
            "Requirement already satisfied: pyzmq>=24 in /usr/local/lib/python3.10/dist-packages (from ipykernel<7.0.0,>=6.0.0->camel-ai==0.1.6.8->camel-ai[all]==0.1.6.8) (24.0.1)\n",
            "Requirement already satisfied: tornado>=6.1 in /usr/local/lib/python3.10/dist-packages (from ipykernel<7.0.0,>=6.0.0->camel-ai==0.1.6.8->camel-ai[all]==0.1.6.8) (6.3.3)\n",
            "Requirement already satisfied: traitlets>=5.4.0 in /usr/local/lib/python3.10/dist-packages (from ipykernel<7.0.0,>=6.0.0->camel-ai==0.1.6.8->camel-ai[all]==0.1.6.8) (5.7.1)\n",
            "Requirement already satisfied: attrs>=22.2.0 in /usr/local/lib/python3.10/dist-packages (from jsonschema<5,>=4->camel-ai==0.1.6.8->camel-ai[all]==0.1.6.8) (24.2.0)\n",
            "Requirement already satisfied: jsonschema-specifications>=2023.03.6 in /usr/local/lib/python3.10/dist-packages (from jsonschema<5,>=4->camel-ai==0.1.6.8->camel-ai[all]==0.1.6.8) (2023.12.1)\n",
            "Requirement already satisfied: referencing>=0.28.4 in /usr/local/lib/python3.10/dist-packages (from jsonschema<5,>=4->camel-ai==0.1.6.8->camel-ai[all]==0.1.6.8) (0.35.1)\n",
            "Requirement already satisfied: rpds-py>=0.7.1 in /usr/local/lib/python3.10/dist-packages (from jsonschema<5,>=4->camel-ai==0.1.6.8->camel-ai[all]==0.1.6.8) (0.20.0)\n",
            "Requirement already satisfied: jinja2<4.0.0,>=3.1.2 in /usr/local/lib/python3.10/dist-packages (from litellm<2.0.0,>=1.38.1->camel-ai[all]==0.1.6.8) (3.1.4)\n",
            "Requirement already satisfied: python-dotenv>=0.2.0 in /usr/local/lib/python3.10/dist-packages (from litellm<2.0.0,>=1.38.1->camel-ai[all]==0.1.6.8) (1.0.1)\n",
            "Requirement already satisfied: jsonpath-python<2.0.0,>=1.0.6 in /usr/local/lib/python3.10/dist-packages (from mistralai<2.0.0,>=1.0.0->camel-ai[all]==0.1.6.8) (1.0.6)\n",
            "Requirement already satisfied: typing-inspect<0.10.0,>=0.9.0 in /usr/local/lib/python3.10/dist-packages (from mistralai<2.0.0,>=1.0.0->camel-ai[all]==0.1.6.8) (0.9.0)\n",
            "Requirement already satisfied: pytz in /usr/local/lib/python3.10/dist-packages (from neo4j<6.0.0,>=5.18.0->camel-ai[all]==0.1.6.8) (2024.1)\n",
            "Requirement already satisfied: cssselect>=0.9.2 in /usr/local/lib/python3.10/dist-packages (from newspaper3k<0.3.0,>=0.2.8->camel-ai[all]==0.1.6.8) (1.2.0)\n",
            "Requirement already satisfied: lxml>=3.6.0 in /usr/local/lib/python3.10/dist-packages (from newspaper3k<0.3.0,>=0.2.8->camel-ai[all]==0.1.6.8) (4.9.4)\n",
            "Requirement already satisfied: feedparser>=5.2.1 in /usr/local/lib/python3.10/dist-packages (from newspaper3k<0.3.0,>=0.2.8->camel-ai[all]==0.1.6.8) (6.0.11)\n",
            "Requirement already satisfied: tldextract>=2.0.1 in /usr/local/lib/python3.10/dist-packages (from newspaper3k<0.3.0,>=0.2.8->camel-ai[all]==0.1.6.8) (5.1.2)\n",
            "Requirement already satisfied: feedfinder2>=0.0.4 in /usr/local/lib/python3.10/dist-packages (from newspaper3k<0.3.0,>=0.2.8->camel-ai[all]==0.1.6.8) (0.0.4)\n",
            "Requirement already satisfied: jieba3k>=0.35.1 in /usr/local/lib/python3.10/dist-packages (from newspaper3k<0.3.0,>=0.2.8->camel-ai[all]==0.1.6.8) (0.35.1)\n",
            "Requirement already satisfied: tinysegmenter==0.3 in /usr/local/lib/python3.10/dist-packages (from newspaper3k<0.3.0,>=0.2.8->camel-ai[all]==0.1.6.8) (0.3)\n",
            "Requirement already satisfied: jsonschema-path<0.4.0,>=0.3.1 in /usr/local/lib/python3.10/dist-packages (from openapi-spec-validator<0.8.0,>=0.7.1->camel-ai[all]==0.1.6.8) (0.3.3)\n",
            "Requirement already satisfied: lazy-object-proxy<2.0.0,>=1.7.1 in /usr/local/lib/python3.10/dist-packages (from openapi-spec-validator<0.8.0,>=0.7.1->camel-ai[all]==0.1.6.8) (1.10.0)\n",
            "Requirement already satisfied: openapi-schema-validator<0.7.0,>=0.6.0 in /usr/local/lib/python3.10/dist-packages (from openapi-spec-validator<0.8.0,>=0.7.1->camel-ai[all]==0.1.6.8) (0.6.2)\n",
            "Requirement already satisfied: chardet>=3.0 in /usr/local/lib/python3.10/dist-packages (from prance<24.0.0.0,>=23.6.21.0->camel-ai[all]==0.1.6.8) (5.2.0)\n",
            "Requirement already satisfied: ruamel.yaml>=0.17.10 in /usr/local/lib/python3.10/dist-packages (from prance<24.0.0.0,>=23.6.21.0->camel-ai[all]==0.1.6.8) (0.18.6)\n",
            "Requirement already satisfied: six~=1.15 in /usr/local/lib/python3.10/dist-packages (from prance<24.0.0.0,>=23.6.21.0->camel-ai[all]==0.1.6.8) (1.16.0)\n",
            "Requirement already satisfied: annotated-types>=0.4.0 in /usr/local/lib/python3.10/dist-packages (from pydantic<3,>=1.9->camel-ai==0.1.6.8->camel-ai[all]==0.1.6.8) (0.7.0)\n",
            "Requirement already satisfied: pydantic-core==2.20.1 in /usr/local/lib/python3.10/dist-packages (from pydantic<3,>=1.9->camel-ai==0.1.6.8->camel-ai[all]==0.1.6.8) (2.20.1)\n",
            "Requirement already satisfied: pynacl>=1.4.0 in /usr/local/lib/python3.10/dist-packages (from pygithub<3.0.0,>=2.3.0->camel-ai[all]==0.1.6.8) (1.5.0)\n",
            "Requirement already satisfied: pyjwt>=2.4.0 in /usr/local/lib/python3.10/dist-packages (from pyjwt[crypto]>=2.4.0->pygithub<3.0.0,>=2.3.0->camel-ai[all]==0.1.6.8) (2.9.0)\n",
            "Requirement already satisfied: Deprecated in /usr/local/lib/python3.10/dist-packages (from pygithub<3.0.0,>=2.3.0->camel-ai[all]==0.1.6.8) (1.2.14)\n",
            "Requirement already satisfied: setuptools>69 in /usr/local/lib/python3.10/dist-packages (from pymilvus<3.0.0,>=2.4.0->camel-ai[all]==0.1.6.8) (71.0.4)\n",
            "Requirement already satisfied: grpcio>=1.49.1 in /usr/local/lib/python3.10/dist-packages (from pymilvus<3.0.0,>=2.4.0->camel-ai[all]==0.1.6.8) (1.64.1)\n",
            "Requirement already satisfied: environs<=9.5.0 in /usr/local/lib/python3.10/dist-packages (from pymilvus<3.0.0,>=2.4.0->camel-ai[all]==0.1.6.8) (9.5.0)\n",
            "Requirement already satisfied: ujson>=2.0.0 in /usr/local/lib/python3.10/dist-packages (from pymilvus<3.0.0,>=2.4.0->camel-ai[all]==0.1.6.8) (5.10.0)\n",
            "Requirement already satisfied: milvus-lite<2.5.0,>=2.4.0 in /usr/local/lib/python3.10/dist-packages (from pymilvus<3.0.0,>=2.4.0->camel-ai[all]==0.1.6.8) (2.4.9)\n",
            "Requirement already satisfied: PyMuPDFb==1.24.10 in /usr/local/lib/python3.10/dist-packages (from PyMuPDF<2.0.0,>=1.22.5->camel-ai[all]==0.1.6.8) (1.24.10)\n",
            "Requirement already satisfied: geojson<3,>=2.3.0 in /usr/local/lib/python3.10/dist-packages (from pyowm<4.0.0,>=3.3.0->camel-ai[all]==0.1.6.8) (2.5.0)\n",
            "Requirement already satisfied: PySocks<2,>=1.7.1 in /usr/local/lib/python3.10/dist-packages (from pyowm<4.0.0,>=3.3.0->camel-ai[all]==0.1.6.8) (1.7.1)\n",
            "Requirement already satisfied: grpcio-tools>=1.41.0 in /usr/local/lib/python3.10/dist-packages (from qdrant-client<2.0.0,>=1.9.0->camel-ai[all]==0.1.6.8) (1.62.3)\n",
            "Requirement already satisfied: portalocker<3.0.0,>=2.7.0 in /usr/local/lib/python3.10/dist-packages (from qdrant-client<2.0.0,>=1.9.0->camel-ai[all]==0.1.6.8) (2.10.1)\n",
            "Requirement already satisfied: async-timeout>=4.0.3 in /usr/local/lib/python3.10/dist-packages (from redis<6.0.0,>=5.0.6->camel-ai[all]==0.1.6.8) (4.0.3)\n",
            "Requirement already satisfied: httpx-sse==0.4.0 in /usr/local/lib/python3.10/dist-packages (from reka-api<4.0.0,>=3.0.8->camel-ai[all]==0.1.6.8) (0.4.0)\n",
            "Requirement already satisfied: oauthlib>=3.0.0 in /usr/local/lib/python3.10/dist-packages (from requests_oauthlib<2.0.0,>=1.3.1->camel-ai[all]==0.1.6.8) (3.2.2)\n",
            "Requirement already satisfied: scikit-learn in /usr/local/lib/python3.10/dist-packages (from sentence-transformers<4.0.0,>=3.0.1->camel-ai[all]==0.1.6.8) (1.3.2)\n",
            "Requirement already satisfied: scipy in /usr/local/lib/python3.10/dist-packages (from sentence-transformers<4.0.0,>=3.0.1->camel-ai[all]==0.1.6.8) (1.13.1)\n",
            "Requirement already satisfied: sympy in /usr/local/lib/python3.10/dist-packages (from torch<3,>=2->camel-ai[all]==0.1.6.8) (1.13.2)\n",
            "Requirement already satisfied: networkx in /usr/local/lib/python3.10/dist-packages (from torch<3,>=2->camel-ai[all]==0.1.6.8) (3.3)\n",
            "Requirement already satisfied: filetype in /usr/local/lib/python3.10/dist-packages (from unstructured<0.11,>=0.10->unstructured[all-docs]<0.11,>=0.10; extra == \"tools\" or extra == \"all\"->camel-ai[all]==0.1.6.8) (1.2.0)\n",
            "Requirement already satisfied: python-magic in /usr/local/lib/python3.10/dist-packages (from unstructured<0.11,>=0.10->unstructured[all-docs]<0.11,>=0.10; extra == \"tools\" or extra == \"all\"->camel-ai[all]==0.1.6.8) (0.4.27)\n",
            "Requirement already satisfied: tabulate in /usr/local/lib/python3.10/dist-packages (from unstructured<0.11,>=0.10->unstructured[all-docs]<0.11,>=0.10; extra == \"tools\" or extra == \"all\"->camel-ai[all]==0.1.6.8) (0.9.0)\n",
            "Requirement already satisfied: emoji in /usr/local/lib/python3.10/dist-packages (from unstructured<0.11,>=0.10->unstructured[all-docs]<0.11,>=0.10; extra == \"tools\" or extra == \"all\"->camel-ai[all]==0.1.6.8) (2.12.1)\n",
            "Requirement already satisfied: dataclasses-json in /usr/local/lib/python3.10/dist-packages (from unstructured<0.11,>=0.10->unstructured[all-docs]<0.11,>=0.10; extra == \"tools\" or extra == \"all\"->camel-ai[all]==0.1.6.8) (0.6.7)\n",
            "Requirement already satisfied: python-iso639 in /usr/local/lib/python3.10/dist-packages (from unstructured<0.11,>=0.10->unstructured[all-docs]<0.11,>=0.10; extra == \"tools\" or extra == \"all\"->camel-ai[all]==0.1.6.8) (2024.4.27)\n",
            "Requirement already satisfied: langdetect in /usr/local/lib/python3.10/dist-packages (from unstructured<0.11,>=0.10->unstructured[all-docs]<0.11,>=0.10; extra == \"tools\" or extra == \"all\"->camel-ai[all]==0.1.6.8) (1.0.9)\n",
            "Requirement already satisfied: rapidfuzz in /usr/local/lib/python3.10/dist-packages (from unstructured<0.11,>=0.10->unstructured[all-docs]<0.11,>=0.10; extra == \"tools\" or extra == \"all\"->camel-ai[all]==0.1.6.8) (3.9.7)\n",
            "Requirement already satisfied: pdfminer.six in /usr/local/lib/python3.10/dist-packages (from unstructured[all-docs]<0.11,>=0.10; extra == \"tools\" or extra == \"all\"->camel-ai[all]==0.1.6.8) (20231228)\n",
            "Requirement already satisfied: python-pptx<=0.6.23 in /usr/local/lib/python3.10/dist-packages (from unstructured[all-docs]<0.11,>=0.10; extra == \"tools\" or extra == \"all\"->camel-ai[all]==0.1.6.8) (0.6.23)\n",
            "Requirement already satisfied: pdf2image in /usr/local/lib/python3.10/dist-packages (from unstructured[all-docs]<0.11,>=0.10; extra == \"tools\" or extra == \"all\"->camel-ai[all]==0.1.6.8) (1.17.0)\n",
            "Requirement already satisfied: python-docx>=1.1.0 in /usr/local/lib/python3.10/dist-packages (from unstructured[all-docs]<0.11,>=0.10; extra == \"tools\" or extra == \"all\"->camel-ai[all]==0.1.6.8) (1.1.2)\n",
            "Requirement already satisfied: unstructured.pytesseract>=0.3.12 in /usr/local/lib/python3.10/dist-packages (from unstructured[all-docs]<0.11,>=0.10; extra == \"tools\" or extra == \"all\"->camel-ai[all]==0.1.6.8) (0.3.13)\n",
            "Requirement already satisfied: markdown in /usr/local/lib/python3.10/dist-packages (from unstructured[all-docs]<0.11,>=0.10; extra == \"tools\" or extra == \"all\"->camel-ai[all]==0.1.6.8) (3.7)\n",
            "Requirement already satisfied: msg-parser in /usr/local/lib/python3.10/dist-packages (from unstructured[all-docs]<0.11,>=0.10; extra == \"tools\" or extra == \"all\"->camel-ai[all]==0.1.6.8) (1.2.0)\n",
            "Requirement already satisfied: xlrd in /usr/local/lib/python3.10/dist-packages (from unstructured[all-docs]<0.11,>=0.10; extra == \"tools\" or extra == \"all\"->camel-ai[all]==0.1.6.8) (2.0.1)\n",
            "Requirement already satisfied: onnx in /usr/local/lib/python3.10/dist-packages (from unstructured[all-docs]<0.11,>=0.10; extra == \"tools\" or extra == \"all\"->camel-ai[all]==0.1.6.8) (1.16.2)\n",
            "Requirement already satisfied: unstructured-inference==0.7.11 in /usr/local/lib/python3.10/dist-packages (from unstructured[all-docs]<0.11,>=0.10; extra == \"tools\" or extra == \"all\"->camel-ai[all]==0.1.6.8) (0.7.11)\n",
            "Requirement already satisfied: openpyxl in /usr/local/lib/python3.10/dist-packages (from unstructured[all-docs]<0.11,>=0.10; extra == \"tools\" or extra == \"all\"->camel-ai[all]==0.1.6.8) (3.1.5)\n",
            "Requirement already satisfied: pypandoc in /usr/local/lib/python3.10/dist-packages (from unstructured[all-docs]<0.11,>=0.10; extra == \"tools\" or extra == \"all\"->camel-ai[all]==0.1.6.8) (1.13)\n",
            "Requirement already satisfied: layoutparser[layoutmodels,tesseract] in /usr/local/lib/python3.10/dist-packages (from unstructured-inference==0.7.11->unstructured[all-docs]<0.11,>=0.10; extra == \"tools\" or extra == \"all\"->camel-ai[all]==0.1.6.8) (0.3.4)\n",
            "Requirement already satisfied: python-multipart in /usr/local/lib/python3.10/dist-packages (from unstructured-inference==0.7.11->unstructured[all-docs]<0.11,>=0.10; extra == \"tools\" or extra == \"all\"->camel-ai[all]==0.1.6.8) (0.0.9)\n",
            "Requirement already satisfied: onnxruntime<1.16 in /usr/local/lib/python3.10/dist-packages (from unstructured-inference==0.7.11->unstructured[all-docs]<0.11,>=0.10; extra == \"tools\" or extra == \"all\"->camel-ai[all]==0.1.6.8) (1.15.1)\n",
            "Requirement already satisfied: xmltodict in /usr/local/lib/python3.10/dist-packages (from wolframalpha<6.0.0,>=5.0.0->camel-ai[all]==0.1.6.8) (0.13.0)\n",
            "Requirement already satisfied: more-itertools in /usr/local/lib/python3.10/dist-packages (from wolframalpha<6.0.0,>=5.0.0->camel-ai[all]==0.1.6.8) (10.3.0)\n",
            "Requirement already satisfied: jaraco.context in /usr/local/lib/python3.10/dist-packages (from wolframalpha<6.0.0,>=5.0.0->camel-ai[all]==0.1.6.8) (6.0.1)\n",
            "Requirement already satisfied: multidict in /usr/local/lib/python3.10/dist-packages (from wolframalpha<6.0.0,>=5.0.0->camel-ai[all]==0.1.6.8) (6.0.5)\n",
            "Requirement already satisfied: aiohappyeyeballs>=2.3.0 in /usr/local/lib/python3.10/dist-packages (from aiohttp<4.0,>=3.0->cohere<5.0,>=4.56->camel-ai[all]==0.1.6.8) (2.4.0)\n",
            "Requirement already satisfied: aiosignal>=1.1.2 in /usr/local/lib/python3.10/dist-packages (from aiohttp<4.0,>=3.0->cohere<5.0,>=4.56->camel-ai[all]==0.1.6.8) (1.3.1)\n",
            "Requirement already satisfied: frozenlist>=1.1.1 in /usr/local/lib/python3.10/dist-packages (from aiohttp<4.0,>=3.0->cohere<5.0,>=4.56->camel-ai[all]==0.1.6.8) (1.4.1)\n",
            "Requirement already satisfied: yarl<2.0,>=1.0 in /usr/local/lib/python3.10/dist-packages (from aiohttp<4.0,>=3.0->cohere<5.0,>=4.56->camel-ai[all]==0.1.6.8) (1.9.4)\n",
            "Requirement already satisfied: exceptiongroup in /usr/local/lib/python3.10/dist-packages (from anyio<5,>=3.5.0->anthropic<0.30.0,>=0.29.0->camel-ai==0.1.6.8->camel-ai[all]==0.1.6.8) (1.2.2)\n",
            "Requirement already satisfied: pycparser in /usr/local/lib/python3.10/dist-packages (from cffi>=1.12.0->curl_cffi==0.6.2->camel-ai==0.1.6.8->camel-ai[all]==0.1.6.8) (2.22)\n",
            "Requirement already satisfied: marshmallow>=3.0.0 in /usr/local/lib/python3.10/dist-packages (from environs<=9.5.0->pymilvus<3.0.0,>=2.4.0->camel-ai[all]==0.1.6.8) (3.22.0)\n",
            "Requirement already satisfied: sgmllib3k in /usr/local/lib/python3.10/dist-packages (from feedparser>=5.2.1->newspaper3k<0.3.0,>=0.2.8->camel-ai[all]==0.1.6.8) (1.0.0)\n",
            "Requirement already satisfied: googleapis-common-protos<2.0.dev0,>=1.56.2 in /usr/local/lib/python3.10/dist-packages (from google-api-core<3.0.0dev,>=2.15.0->google-cloud-storage<3.0.0,>=2.18.0->camel-ai[all]==0.1.6.8) (1.65.0)\n",
            "Requirement already satisfied: cachetools<6.0,>=2.0.0 in /usr/local/lib/python3.10/dist-packages (from google-auth<3.0dev,>=2.26.1->google-cloud-storage<3.0.0,>=2.18.0->camel-ai[all]==0.1.6.8) (5.5.0)\n",
            "Requirement already satisfied: pyasn1-modules>=0.2.1 in /usr/local/lib/python3.10/dist-packages (from google-auth<3.0dev,>=2.26.1->google-cloud-storage<3.0.0,>=2.18.0->camel-ai[all]==0.1.6.8) (0.4.0)\n",
            "Requirement already satisfied: rsa<5,>=3.1.4 in /usr/local/lib/python3.10/dist-packages (from google-auth<3.0dev,>=2.26.1->google-cloud-storage<3.0.0,>=2.18.0->camel-ai[all]==0.1.6.8) (4.9)\n",
            "Requirement already satisfied: httpcore==1.* in /usr/local/lib/python3.10/dist-packages (from httpx<1,>=0.23.0->anthropic<0.30.0,>=0.29.0->camel-ai==0.1.6.8->camel-ai[all]==0.1.6.8) (1.0.5)\n",
            "Requirement already satisfied: h11<0.15,>=0.13 in /usr/local/lib/python3.10/dist-packages (from httpcore==1.*->httpx<1,>=0.23.0->anthropic<0.30.0,>=0.29.0->camel-ai==0.1.6.8->camel-ai[all]==0.1.6.8) (0.14.0)\n",
            "Requirement already satisfied: h2<5,>=3 in /usr/local/lib/python3.10/dist-packages (from httpx[http2]>=0.20.0->qdrant-client<2.0.0,>=1.9.0->camel-ai[all]==0.1.6.8) (4.1.0)\n",
            "Requirement already satisfied: zipp>=0.5 in /usr/local/lib/python3.10/dist-packages (from importlib_metadata<7.0,>=6.0->cohere<5.0,>=4.56->camel-ai[all]==0.1.6.8) (3.20.1)\n",
            "Requirement already satisfied: jedi>=0.16 in /usr/local/lib/python3.10/dist-packages (from ipython>=7.23.1->ipykernel<7.0.0,>=6.0.0->camel-ai==0.1.6.8->camel-ai[all]==0.1.6.8) (0.19.1)\n",
            "Requirement already satisfied: decorator in /usr/local/lib/python3.10/dist-packages (from ipython>=7.23.1->ipykernel<7.0.0,>=6.0.0->camel-ai==0.1.6.8->camel-ai[all]==0.1.6.8) (4.4.2)\n",
            "Requirement already satisfied: pickleshare in /usr/local/lib/python3.10/dist-packages (from ipython>=7.23.1->ipykernel<7.0.0,>=6.0.0->camel-ai==0.1.6.8->camel-ai[all]==0.1.6.8) (0.7.5)\n",
            "Requirement already satisfied: prompt-toolkit!=3.0.0,!=3.0.1,<3.1.0,>=2.0.0 in /usr/local/lib/python3.10/dist-packages (from ipython>=7.23.1->ipykernel<7.0.0,>=6.0.0->camel-ai==0.1.6.8->camel-ai[all]==0.1.6.8) (3.0.47)\n",
            "Requirement already satisfied: pygments in /usr/local/lib/python3.10/dist-packages (from ipython>=7.23.1->ipykernel<7.0.0,>=6.0.0->camel-ai==0.1.6.8->camel-ai[all]==0.1.6.8) (2.16.1)\n",
            "Requirement already satisfied: backcall in /usr/local/lib/python3.10/dist-packages (from ipython>=7.23.1->ipykernel<7.0.0,>=6.0.0->camel-ai==0.1.6.8->camel-ai[all]==0.1.6.8) (0.2.0)\n",
            "Requirement already satisfied: pexpect>4.3 in /usr/local/lib/python3.10/dist-packages (from ipython>=7.23.1->ipykernel<7.0.0,>=6.0.0->camel-ai==0.1.6.8->camel-ai[all]==0.1.6.8) (4.9.0)\n",
            "Requirement already satisfied: MarkupSafe>=2.0 in /usr/local/lib/python3.10/dist-packages (from jinja2<4.0.0,>=3.1.2->litellm<2.0.0,>=1.38.1->camel-ai[all]==0.1.6.8) (2.1.5)\n",
            "Requirement already satisfied: pathable<0.5.0,>=0.4.1 in /usr/local/lib/python3.10/dist-packages (from jsonschema-path<0.4.0,>=0.3.1->openapi-spec-validator<0.8.0,>=0.7.1->camel-ai[all]==0.1.6.8) (0.4.3)\n",
            "Requirement already satisfied: platformdirs>=2.5 in /usr/local/lib/python3.10/dist-packages (from jupyter-core!=5.0.*,>=4.12->ipykernel<7.0.0,>=6.0.0->camel-ai==0.1.6.8->camel-ai[all]==0.1.6.8) (4.2.2)\n",
            "Requirement already satisfied: rfc3339-validator in /usr/local/lib/python3.10/dist-packages (from openapi-schema-validator<0.7.0,>=0.6.0->openapi-spec-validator<0.8.0,>=0.7.1->camel-ai[all]==0.1.6.8) (0.1.4)\n",
            "Requirement already satisfied: tzdata>=2022.1 in /usr/local/lib/python3.10/dist-packages (from pandas->datasets<3,>=2->camel-ai[all]==0.1.6.8) (2024.1)\n",
            "Requirement already satisfied: XlsxWriter>=0.5.7 in /usr/local/lib/python3.10/dist-packages (from python-pptx<=0.6.23->unstructured[all-docs]<0.11,>=0.10; extra == \"tools\" or extra == \"all\"->camel-ai[all]==0.1.6.8) (3.2.0)\n",
            "Requirement already satisfied: ruamel.yaml.clib>=0.2.7 in /usr/local/lib/python3.10/dist-packages (from ruamel.yaml>=0.17.10->prance<24.0.0.0,>=23.6.21.0->camel-ai[all]==0.1.6.8) (0.2.8)\n",
            "Requirement already satisfied: requests-file>=1.4 in /usr/local/lib/python3.10/dist-packages (from tldextract>=2.0.1->newspaper3k<0.3.0,>=0.2.8->camel-ai[all]==0.1.6.8) (2.1.0)\n",
            "Requirement already satisfied: mypy-extensions>=0.3.0 in /usr/local/lib/python3.10/dist-packages (from typing-inspect<0.10.0,>=0.9.0->mistralai<2.0.0,>=1.0.0->camel-ai[all]==0.1.6.8) (1.0.0)\n",
            "Requirement already satisfied: wrapt<2,>=1.10 in /usr/local/lib/python3.10/dist-packages (from Deprecated->pygithub<3.0.0,>=2.3.0->camel-ai[all]==0.1.6.8) (1.16.0)\n",
            "Requirement already satisfied: httplib2<1.dev0,>=0.19.0 in /usr/local/lib/python3.10/dist-packages (from google-api-python-client->google-generativeai<0.7.0,>=0.6.0->camel-ai[all]==0.1.6.8) (0.22.0)\n",
            "Requirement already satisfied: google-auth-httplib2<1.0.0,>=0.2.0 in /usr/local/lib/python3.10/dist-packages (from google-api-python-client->google-generativeai<0.7.0,>=0.6.0->camel-ai[all]==0.1.6.8) (0.2.0)\n",
            "Requirement already satisfied: uritemplate<5,>=3.0.1 in /usr/local/lib/python3.10/dist-packages (from google-api-python-client->google-generativeai<0.7.0,>=0.6.0->camel-ai[all]==0.1.6.8) (4.1.1)\n",
            "Requirement already satisfied: backports.tarfile in /usr/local/lib/python3.10/dist-packages (from jaraco.context->wolframalpha<6.0.0,>=5.0.0->camel-ai[all]==0.1.6.8) (1.2.0)\n",
            "Requirement already satisfied: olefile>=0.46 in /usr/local/lib/python3.10/dist-packages (from msg-parser->unstructured[all-docs]<0.11,>=0.10; extra == \"tools\" or extra == \"all\"->camel-ai[all]==0.1.6.8) (0.47)\n",
            "Requirement already satisfied: et-xmlfile in /usr/local/lib/python3.10/dist-packages (from openpyxl->unstructured[all-docs]<0.11,>=0.10; extra == \"tools\" or extra == \"all\"->camel-ai[all]==0.1.6.8) (1.1.0)\n",
            "Requirement already satisfied: threadpoolctl>=2.0.0 in /usr/local/lib/python3.10/dist-packages (from scikit-learn->sentence-transformers<4.0.0,>=3.0.1->camel-ai[all]==0.1.6.8) (3.5.0)\n",
            "Requirement already satisfied: mpmath<1.4,>=1.1.0 in /usr/local/lib/python3.10/dist-packages (from sympy->torch<3,>=2->camel-ai[all]==0.1.6.8) (1.3.0)\n",
            "Requirement already satisfied: grpcio-status<2.0.dev0,>=1.33.2 in /usr/local/lib/python3.10/dist-packages (from google-api-core[grpc]!=2.0.*,!=2.1.*,!=2.10.*,!=2.2.*,!=2.3.*,!=2.4.*,!=2.5.*,!=2.6.*,!=2.7.*,!=2.8.*,!=2.9.*,<3.0.0dev,>=1.34.1->google-ai-generativelanguage==0.6.4->google-generativeai<0.7.0,>=0.6.0->camel-ai[all]==0.1.6.8) (1.48.2)\n",
            "Requirement already satisfied: hyperframe<7,>=6.0 in /usr/local/lib/python3.10/dist-packages (from h2<5,>=3->httpx[http2]>=0.20.0->qdrant-client<2.0.0,>=1.9.0->camel-ai[all]==0.1.6.8) (6.0.1)\n",
            "Requirement already satisfied: hpack<5,>=4.0 in /usr/local/lib/python3.10/dist-packages (from h2<5,>=3->httpx[http2]>=0.20.0->qdrant-client<2.0.0,>=1.9.0->camel-ai[all]==0.1.6.8) (4.0.0)\n",
            "Requirement already satisfied: pyparsing!=3.0.0,!=3.0.1,!=3.0.2,!=3.0.3,<4,>=2.4.2 in /usr/local/lib/python3.10/dist-packages (from httplib2<1.dev0,>=0.19.0->google-api-python-client->google-generativeai<0.7.0,>=0.6.0->camel-ai[all]==0.1.6.8) (3.1.4)\n",
            "Requirement already satisfied: parso<0.9.0,>=0.8.3 in /usr/local/lib/python3.10/dist-packages (from jedi>=0.16->ipython>=7.23.1->ipykernel<7.0.0,>=6.0.0->camel-ai==0.1.6.8->camel-ai[all]==0.1.6.8) (0.8.4)\n",
            "Requirement already satisfied: coloredlogs in /usr/local/lib/python3.10/dist-packages (from onnxruntime<1.16->unstructured-inference==0.7.11->unstructured[all-docs]<0.11,>=0.10; extra == \"tools\" or extra == \"all\"->camel-ai[all]==0.1.6.8) (15.0.1)\n",
            "Requirement already satisfied: flatbuffers in /usr/local/lib/python3.10/dist-packages (from onnxruntime<1.16->unstructured-inference==0.7.11->unstructured[all-docs]<0.11,>=0.10; extra == \"tools\" or extra == \"all\"->camel-ai[all]==0.1.6.8) (24.3.25)\n",
            "Requirement already satisfied: ptyprocess>=0.5 in /usr/local/lib/python3.10/dist-packages (from pexpect>4.3->ipython>=7.23.1->ipykernel<7.0.0,>=6.0.0->camel-ai==0.1.6.8->camel-ai[all]==0.1.6.8) (0.7.0)\n",
            "Requirement already satisfied: wcwidth in /usr/local/lib/python3.10/dist-packages (from prompt-toolkit!=3.0.0,!=3.0.1,<3.1.0,>=2.0.0->ipython>=7.23.1->ipykernel<7.0.0,>=6.0.0->camel-ai==0.1.6.8->camel-ai[all]==0.1.6.8) (0.2.13)\n",
            "Requirement already satisfied: pyasn1<0.7.0,>=0.4.6 in /usr/local/lib/python3.10/dist-packages (from pyasn1-modules>=0.2.1->google-auth<3.0dev,>=2.26.1->google-cloud-storage<3.0.0,>=2.18.0->camel-ai[all]==0.1.6.8) (0.6.0)\n",
            "Requirement already satisfied: iopath in /usr/local/lib/python3.10/dist-packages (from layoutparser[layoutmodels,tesseract]->unstructured-inference==0.7.11->unstructured[all-docs]<0.11,>=0.10; extra == \"tools\" or extra == \"all\"->camel-ai[all]==0.1.6.8) (0.1.10)\n",
            "Requirement already satisfied: pdfplumber in /usr/local/lib/python3.10/dist-packages (from layoutparser[layoutmodels,tesseract]->unstructured-inference==0.7.11->unstructured[all-docs]<0.11,>=0.10; extra == \"tools\" or extra == \"all\"->camel-ai[all]==0.1.6.8) (0.11.4)\n",
            "Requirement already satisfied: torchvision in /usr/local/lib/python3.10/dist-packages (from layoutparser[layoutmodels,tesseract]->unstructured-inference==0.7.11->unstructured[all-docs]<0.11,>=0.10; extra == \"tools\" or extra == \"all\"->camel-ai[all]==0.1.6.8) (0.19.0+cu121)\n",
            "Requirement already satisfied: effdet in /usr/local/lib/python3.10/dist-packages (from layoutparser[layoutmodels,tesseract]->unstructured-inference==0.7.11->unstructured[all-docs]<0.11,>=0.10; extra == \"tools\" or extra == \"all\"->camel-ai[all]==0.1.6.8) (0.4.1)\n",
            "Requirement already satisfied: pytesseract in /usr/local/lib/python3.10/dist-packages (from layoutparser[layoutmodels,tesseract]->unstructured-inference==0.7.11->unstructured[all-docs]<0.11,>=0.10; extra == \"tools\" or extra == \"all\"->camel-ai[all]==0.1.6.8) (0.3.13)\n",
            "Requirement already satisfied: humanfriendly>=9.1 in /usr/local/lib/python3.10/dist-packages (from coloredlogs->onnxruntime<1.16->unstructured-inference==0.7.11->unstructured[all-docs]<0.11,>=0.10; extra == \"tools\" or extra == \"all\"->camel-ai[all]==0.1.6.8) (10.0)\n",
            "Requirement already satisfied: timm>=0.9.2 in /usr/local/lib/python3.10/dist-packages (from effdet->layoutparser[layoutmodels,tesseract]->unstructured-inference==0.7.11->unstructured[all-docs]<0.11,>=0.10; extra == \"tools\" or extra == \"all\"->camel-ai[all]==0.1.6.8) (1.0.9)\n",
            "Requirement already satisfied: pycocotools>=2.0.2 in /usr/local/lib/python3.10/dist-packages (from effdet->layoutparser[layoutmodels,tesseract]->unstructured-inference==0.7.11->unstructured[all-docs]<0.11,>=0.10; extra == \"tools\" or extra == \"all\"->camel-ai[all]==0.1.6.8) (2.0.8)\n",
            "Requirement already satisfied: omegaconf>=2.0 in /usr/local/lib/python3.10/dist-packages (from effdet->layoutparser[layoutmodels,tesseract]->unstructured-inference==0.7.11->unstructured[all-docs]<0.11,>=0.10; extra == \"tools\" or extra == \"all\"->camel-ai[all]==0.1.6.8) (2.3.0)\n",
            "Requirement already satisfied: pypdfium2>=4.18.0 in /usr/local/lib/python3.10/dist-packages (from pdfplumber->layoutparser[layoutmodels,tesseract]->unstructured-inference==0.7.11->unstructured[all-docs]<0.11,>=0.10; extra == \"tools\" or extra == \"all\"->camel-ai[all]==0.1.6.8) (4.30.0)\n",
            "Requirement already satisfied: antlr4-python3-runtime==4.9.* in /usr/local/lib/python3.10/dist-packages (from omegaconf>=2.0->effdet->layoutparser[layoutmodels,tesseract]->unstructured-inference==0.7.11->unstructured[all-docs]<0.11,>=0.10; extra == \"tools\" or extra == \"all\"->camel-ai[all]==0.1.6.8) (4.9.3)\n",
            "Requirement already satisfied: matplotlib>=2.1.0 in /usr/local/lib/python3.10/dist-packages (from pycocotools>=2.0.2->effdet->layoutparser[layoutmodels,tesseract]->unstructured-inference==0.7.11->unstructured[all-docs]<0.11,>=0.10; extra == \"tools\" or extra == \"all\"->camel-ai[all]==0.1.6.8) (3.7.1)\n",
            "Requirement already satisfied: contourpy>=1.0.1 in /usr/local/lib/python3.10/dist-packages (from matplotlib>=2.1.0->pycocotools>=2.0.2->effdet->layoutparser[layoutmodels,tesseract]->unstructured-inference==0.7.11->unstructured[all-docs]<0.11,>=0.10; extra == \"tools\" or extra == \"all\"->camel-ai[all]==0.1.6.8) (1.3.0)\n",
            "Requirement already satisfied: cycler>=0.10 in /usr/local/lib/python3.10/dist-packages (from matplotlib>=2.1.0->pycocotools>=2.0.2->effdet->layoutparser[layoutmodels,tesseract]->unstructured-inference==0.7.11->unstructured[all-docs]<0.11,>=0.10; extra == \"tools\" or extra == \"all\"->camel-ai[all]==0.1.6.8) (0.12.1)\n",
            "Requirement already satisfied: fonttools>=4.22.0 in /usr/local/lib/python3.10/dist-packages (from matplotlib>=2.1.0->pycocotools>=2.0.2->effdet->layoutparser[layoutmodels,tesseract]->unstructured-inference==0.7.11->unstructured[all-docs]<0.11,>=0.10; extra == \"tools\" or extra == \"all\"->camel-ai[all]==0.1.6.8) (4.53.1)\n",
            "Requirement already satisfied: kiwisolver>=1.0.1 in /usr/local/lib/python3.10/dist-packages (from matplotlib>=2.1.0->pycocotools>=2.0.2->effdet->layoutparser[layoutmodels,tesseract]->unstructured-inference==0.7.11->unstructured[all-docs]<0.11,>=0.10; extra == \"tools\" or extra == \"all\"->camel-ai[all]==0.1.6.8) (1.4.5)\n"
          ]
        }
      ],
      "source": [
        "pip install camel-ai[all]==0.1.6.8"
      ]
    },
    {
      "cell_type": "markdown",
      "source": [
        "### Setting Up API Keys"
      ],
      "metadata": {
        "id": "MyTTCe3IR_Lr"
      }
    },
    {
      "cell_type": "markdown",
      "source": [
        "You'll need to set up your API keys for OpenAI."
      ],
      "metadata": {
        "id": "REqzgGL9SEaD"
      }
    },
    {
      "cell_type": "code",
      "source": [
        "import os\n",
        "from getpass import getpass\n",
        "\n",
        "# Prompt for the API key securely\n",
        "openai_api_key = getpass('Enter your API key: ')\n",
        "os.environ[\"OPENAI_API_KEY\"] = openai_api_key"
      ],
      "metadata": {
        "colab": {
          "base_uri": "https://localhost:8080/"
        },
        "id": "PNBFEXc-R-0s",
        "outputId": "eb7ccdb6-fa2f-44e2-e2b9-7128f2c5d47d"
      },
      "execution_count": null,
      "outputs": [
        {
          "name": "stdout",
          "output_type": "stream",
          "text": [
            "Enter your API key: ··········\n"
          ]
        }
      ]
    },
    {
      "cell_type": "markdown",
      "source": [
        "## Creating a `BaseMessage` Instance\n"
      ],
      "metadata": {
        "id": "LRojeqp7dP1m"
      }
    },
    {
      "cell_type": "markdown",
      "source": [
        "To create a `BaseMessage` instance, you need to provide the following arguments:\n",
        "\n",
        "- `role_name`: The name of the user or assistant role.\n",
        "- `role_type`: The type of role, either `RoleType.ASSISTANT` or `RoleType.USER`.\n",
        "- `meta_dict`: An optional metadata dictionary for the message.\n",
        "- `content`: The content of the message.\n",
        "\n",
        "Here's an example of creating a `BaseMessage` instance:"
      ],
      "metadata": {
        "id": "_sJV9GFldTBh"
      }
    },
    {
      "cell_type": "code",
      "source": [
        "from camel.messages import BaseMessage\n",
        "from camel.types import RoleType\n",
        "\n",
        "message = BaseMessage(\n",
        "    role_name=\"test_user\",\n",
        "    role_type=RoleType.USER,\n",
        "    content=\"test content\",\n",
        "    meta_dict={}\n",
        ")"
      ],
      "metadata": {
        "id": "pAdDeN7DdUgr"
      },
      "execution_count": null,
      "outputs": []
    },
    {
      "cell_type": "markdown",
      "source": [
        "Additionally, the BaseMessage class provides class methods to easily create user and assistant agent messages:\n",
        "\n",
        "1. Creating a user agent message:"
      ],
      "metadata": {
        "id": "MBx8Pje9ETAL"
      }
    },
    {
      "cell_type": "code",
      "source": [
        "from camel.messages import BaseMessage\n",
        "\n",
        "user_message = BaseMessage.make_user_message(\n",
        "    role_name=\"user_name\",\n",
        "    content=\"test content for user\",\n",
        ")"
      ],
      "metadata": {
        "id": "pEiFYV-yez5j"
      },
      "execution_count": null,
      "outputs": []
    },
    {
      "cell_type": "markdown",
      "source": [
        "2. Creating an assistant agent message:"
      ],
      "metadata": {
        "id": "PCqjf_fWEdLD"
      }
    },
    {
      "cell_type": "code",
      "source": [
        "from camel.messages import BaseMessage\n",
        "\n",
        "assistant_message = BaseMessage.make_assistant_message(\n",
        "    role_name=\"assistant_name\",\n",
        "    content=\"test content for assistant\",\n",
        ")"
      ],
      "metadata": {
        "id": "iIWWSfSpEf2n"
      },
      "execution_count": null,
      "outputs": []
    },
    {
      "cell_type": "markdown",
      "source": [
        "## Using the Methods of the `BaseMessage` Class"
      ],
      "metadata": {
        "id": "yR5ZYr5yEkLL"
      }
    },
    {
      "cell_type": "markdown",
      "source": [
        "The `BaseMessage` class offers several methods:\n",
        "\n",
        "1. Creating a new instance with updated content:"
      ],
      "metadata": {
        "id": "Gfc6WNUOEktw"
      }
    },
    {
      "cell_type": "code",
      "source": [
        "new_message = message.create_new_instance(\"new test content\")\n",
        "print(isinstance(new_message, BaseMessage))"
      ],
      "metadata": {
        "colab": {
          "base_uri": "https://localhost:8080/"
        },
        "id": "P7UjCsb-Emsk",
        "outputId": "f8f858c2-59c8-4d84-ee4b-01cba6c7aeb4"
      },
      "execution_count": null,
      "outputs": [
        {
          "output_type": "stream",
          "name": "stdout",
          "text": [
            "True\n"
          ]
        }
      ]
    },
    {
      "cell_type": "markdown",
      "source": [
        "2. Converting to an `OpenAIMessage` object:"
      ],
      "metadata": {
        "id": "412MphuYErw_"
      }
    },
    {
      "cell_type": "code",
      "source": [
        "from camel.types import OpenAIBackendRole\n",
        "openai_message = message.to_openai_message(role_at_backend=OpenAIBackendRole.USER)\n",
        "print(openai_message == {\"role\": \"user\", \"content\": \"test content\"})"
      ],
      "metadata": {
        "colab": {
          "base_uri": "https://localhost:8080/"
        },
        "id": "sS_UKtJGEsPE",
        "outputId": "b6b8a5bb-d964-43a3-ec10-3c4af7a47bca"
      },
      "execution_count": null,
      "outputs": [
        {
          "output_type": "stream",
          "name": "stdout",
          "text": [
            "True\n"
          ]
        }
      ]
    },
    {
      "cell_type": "markdown",
      "source": [
        "3. Converting to an `OpenAISystemMessage` object:"
      ],
      "metadata": {
        "id": "TIpjz3G2E5dy"
      }
    },
    {
      "cell_type": "code",
      "source": [
        "openai_system_message = message.to_openai_system_message()\n",
        "print(openai_system_message == {\"role\": \"system\", \"content\": \"test content\"})"
      ],
      "metadata": {
        "colab": {
          "base_uri": "https://localhost:8080/"
        },
        "id": "Ur4u2HdIE5ua",
        "outputId": "424f1e49-0531-4589-dbc0-a9291b9a3351"
      },
      "execution_count": null,
      "outputs": [
        {
          "output_type": "stream",
          "name": "stdout",
          "text": [
            "True\n"
          ]
        }
      ]
    },
    {
      "cell_type": "markdown",
      "source": [
        "4. Converting to an `OpenAIUserMessage` object:"
      ],
      "metadata": {
        "id": "523x8XqLE8Qo"
      }
    },
    {
      "cell_type": "code",
      "source": [
        "openai_user_message = message.to_openai_user_message()\n",
        "print(openai_user_message == {\"role\": \"user\", \"content\": \"test content\"})"
      ],
      "metadata": {
        "colab": {
          "base_uri": "https://localhost:8080/"
        },
        "id": "mRCa7soNE9um",
        "outputId": "abf75994-9365-4280-cf52-aaafcf3e46c7"
      },
      "execution_count": null,
      "outputs": [
        {
          "output_type": "stream",
          "name": "stdout",
          "text": [
            "True\n"
          ]
        }
      ]
    },
    {
      "cell_type": "markdown",
      "source": [
        "5. Converting to an `OpenAIAssistantMessage` object:"
      ],
      "metadata": {
        "id": "TURczNJNFA3J"
      }
    },
    {
      "cell_type": "code",
      "source": [
        "openai_assistant_message = message.to_openai_assistant_message()\n",
        "print(openai_assistant_message == {\"role\": \"assistant\", \"content\": \"test content\"})"
      ],
      "metadata": {
        "colab": {
          "base_uri": "https://localhost:8080/"
        },
        "id": "5FnnmlRuFCtW",
        "outputId": "596f99f9-9771-493d-fb3d-f02cbe71405d"
      },
      "execution_count": null,
      "outputs": [
        {
          "output_type": "stream",
          "name": "stdout",
          "text": [
            "True\n"
          ]
        }
      ]
    },
    {
      "cell_type": "markdown",
      "source": [
        "6. Converting to a dictionary:"
      ],
      "metadata": {
        "id": "eRhObgkxFFUi"
      }
    },
    {
      "cell_type": "code",
      "source": [
        "message_dict = message.to_dict()\n",
        "print(message_dict == {\n",
        "    \"role_name\": \"test_user\",\n",
        "    \"role_type\": \"USER\",\n",
        "    \"content\": \"test content\"\n",
        "})"
      ],
      "metadata": {
        "colab": {
          "base_uri": "https://localhost:8080/"
        },
        "id": "OQouave-FG15",
        "outputId": "3bb25dd8-a43d-4a60-ea28-607ea542f572"
      },
      "execution_count": null,
      "outputs": [
        {
          "output_type": "stream",
          "name": "stdout",
          "text": [
            "True\n"
          ]
        }
      ]
    },
    {
      "cell_type": "markdown",
      "source": [
        "These methods allow you to convert a `BaseMessage` instance into different message types depending on your needs."
      ],
      "metadata": {
        "id": "seSeG3KAHbLI"
      }
    },
    {
      "cell_type": "markdown",
      "source": [
        "## Give message to `ChatAgent`"
      ],
      "metadata": {
        "id": "kAyagBo0GusE"
      }
    },
    {
      "cell_type": "code",
      "source": [
        "from camel.agents import ChatAgent\n",
        "from camel.messages import BaseMessage\n",
        "\n",
        "# Define system message\n",
        "sys_msg = BaseMessage.make_assistant_message(\n",
        "    role_name=\"Assistant\",\n",
        "    content=\"You are a helpful assistant.\",\n",
        ")\n",
        "\n",
        "# Set agent\n",
        "camel_agent = ChatAgent(system_message=sys_msg)\n",
        "\n",
        "# Set user message\n",
        "user_msg = BaseMessage.make_user_message(\n",
        "    role_name=\"User\",\n",
        "    content=\"\"\"Say hi to CAMEL AI, one open-source community dedicated to the\n",
        "    study of autonomous and communicative agents.\"\"\",\n",
        ")\n",
        "\n",
        "# Get response information\n",
        "response = camel_agent.step(user_msg)\n",
        "print(response.msgs[0].content)"
      ],
      "metadata": {
        "colab": {
          "base_uri": "https://localhost:8080/"
        },
        "id": "nbr7nIKxGz07",
        "outputId": "e6720252-29a5-439a-f52d-448c35fb3a8b"
      },
      "execution_count": null,
      "outputs": [
        {
          "output_type": "stream",
          "name": "stdout",
          "text": [
            "Hello, CAMEL AI! It's great to connect with a community dedicated to the study of autonomous and communicative agents. Your work in this fascinating field is sure to lead to exciting advancements and innovations. If there's anything specific you'd like to discuss or explore, feel free to share!\n"
          ]
        }
      ]
    },
    {
      "cell_type": "markdown",
      "source": [
        "In this session, we introduced the `BaseMessage` class and its conversion to different types of messages. These components play essential roles in the CAMEL chat system, facilitating the creation, management, and interpretation of messages with clarity."
      ],
      "metadata": {
        "id": "HYNA7G06FJRq"
      }
    }
  ]
}