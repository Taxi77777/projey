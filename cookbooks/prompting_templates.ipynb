{
 "cells": [
  {
   "metadata": {},
   "cell_type": "markdown",
   "source": [
    "# CAMEL Prompting cookbook\n",
    "## *TLDR*\n",
    "The CAMEL Prompt module offers a powerful way to guide AI models in producing accurate, contextually relevant, and personalized outputs. This cookbook demonstrates how to use various prompt templates, create custom prompts, and leverage different prompt dictionaries for tasks ranging from role-playing to code generation, evaluation, and more. By mastering the Prompt module, you can significantly enhance your AI agents' capabilities and tailor them to specific tasks.\n"
   ]
  },
  {
   "metadata": {},
   "cell_type": "markdown",
   "source": "The CAMEL Prompt module is a crucial component in guiding AI models to produce desired outputs. It provides a variety of prompt templates and dictionaries designed for different tasks, such as role descriptions, code generation, evaluation, text embedding, and more. This cookbook will show you how to effectively use the Prompt module to create powerful and tailored AI agents."
  },
  {
   "metadata": {},
   "cell_type": "markdown",
   "source": [
    "## Getting Started with Prompt Templates\n",
    "CAMEL offers a wide range of pre-defined prompt templates that you can use to quickly create specialized AI agents. Let's start with a basic example using the TaskSpecifyAgent with the AI_SOCIETY task type."
   ]
  },
  {
   "metadata": {
    "ExecuteTime": {
     "end_time": "2024-09-12T21:06:40.778663Z",
     "start_time": "2024-09-12T21:06:38.207368Z"
    }
   },
   "cell_type": "code",
   "source": [
    "\n",
    "from camel.agents import TaskSpecifyAgent\n",
    "from camel.configs import ChatGPTConfig\n",
    "from camel.models import ModelFactory\n",
    "from camel.types import ModelPlatformType, ModelType, TaskType\n",
    "\n",
    "# Set up the model\n",
    "model = ModelFactory.create(\n",
    "    model_platform=ModelPlatformType.OPENAI,\n",
    "    model_type=ModelType.GPT_3_5_TURBO,\n",
    "    model_config_dict=ChatGPTConfig().__dict__,\n",
    ")\n",
    "\n",
    "# Create a task specify agent\n",
    "task_specify_agent = TaskSpecifyAgent(\n",
    "    model=model, task_type=TaskType.AI_SOCIETY\n",
    ")\n",
    "\n",
    "# Run the agent with a task prompt\n",
    "specified_task_prompt = task_specify_agent.run(\n",
    "    task_prompt=\"Improving stage presence and performance skills\",\n",
    "    meta_dict=dict(\n",
    "        assistant_role=\"Musician\", user_role=\"Student\", word_limit=100\n",
    "    ),\n",
    ")\n",
    "\n",
    "print(f\"Specified task prompt:\\n{specified_task_prompt}\\n\")"
   ],
   "outputs": [
    {
     "name": "stdout",
     "output_type": "stream",
     "text": [
      "Specified task prompt:\n",
      "Musician will guide Student in creating a unique stage persona by incorporating elements of storytelling, movement, and audience interaction. They will work on developing a signature stage move or gesture that enhances the performance and leaves a lasting impression on the audience.\n",
      "\n"
     ]
    }
   ],
   "execution_count": 1
  },
  {
   "metadata": {},
   "cell_type": "code",
   "outputs": [],
   "execution_count": null,
   "source": ""
  },
  {
   "metadata": {},
   "cell_type": "markdown",
   "source": [
    "## Creating Custom Prompts\n",
    "CAMEL also allows you to create your own custom prompts. Here's an example of how to create and use a custom prompt template:"
   ]
  },
  {
   "metadata": {
    "ExecuteTime": {
     "end_time": "2024-09-12T21:22:13.600571Z",
     "start_time": "2024-09-12T21:22:08.955943Z"
    }
   },
   "cell_type": "code",
   "source": [
    "from camel.agents import TaskSpecifyAgent\n",
    "from camel.configs import ChatGPTConfig\n",
    "from camel.models import ModelFactory\n",
    "from camel.prompts import TextPrompt\n",
    "from camel.types import ModelPlatformType, ModelType\n",
    "\n",
    "# Set up the model\n",
    "model = ModelFactory.create(\n",
    "    model_platform=ModelPlatformType.OPENAI,\n",
    "    model_type=ModelType.GPT_4O_MINI,\n",
    "    model_config_dict=ChatGPTConfig().__dict__,\n",
    ")\n",
    "\n",
    "# Create a custom prompt template\n",
    "my_prompt_template = TextPrompt(\n",
    "    'Here is a task: I\\'m a {occupation} and I want to {task}. Help me to make this task more specific.'\n",
    ")\n",
    "\n",
    "# Create a task specify agent with the custom prompt\n",
    "task_specify_agent = TaskSpecifyAgent(\n",
    "    model=model, task_specify_prompt=my_prompt_template\n",
    ")\n",
    "\n",
    "# Run the agent with a task prompt\n",
    "response = task_specify_agent.run(\n",
    "    task_prompt=\"get promotion\",\n",
    "    meta_dict=dict(occupation=\"Software Engineer\"),\n",
    ")\n",
    "\n",
    "print(response)"
   ],
   "outputs": [
    {
     "name": "stdout",
     "output_type": "stream",
     "text": [
      "To make your task of getting a promotion more specific, consider breaking it down into actionable steps and defining clear goals. Here’s a refined version of your task:\n",
      "\n",
      "1. **Identify Promotion Criteria**: Research and understand the specific criteria for promotion within your organization. This could include performance metrics, skills required, and any additional responsibilities.\n",
      "\n",
      "2. **Set a Timeline**: Establish a timeline for when you want to achieve the promotion. For example, aim for a promotion within the next 6 to 12 months.\n",
      "\n",
      "3. **Skill Development**: Identify key skills or technologies that are valued for the next level of your role. Create a plan to acquire or enhance these skills through online courses, certifications, or hands-on projects.\n",
      "\n",
      "4. **Performance Goals**: Set measurable performance goals that align with your company’s objectives. For example, aim to complete a certain number of projects, improve code quality metrics, or contribute to team initiatives.\n",
      "\n",
      "5. **Seek Feedback**: Schedule regular check-ins with your manager or mentor to discuss your progress and seek constructive feedback on areas for improvement.\n",
      "\n",
      "6. **Build Relationships**: Network with colleagues and leaders in your organization. Attend company events, participate in team activities, and seek opportunities to collaborate on cross-functional projects.\n",
      "\n",
      "7. **Document Achievements**: Keep a record of your accomplishments, contributions, and any positive feedback you receive. Prepare a summary to present during performance reviews.\n",
      "\n",
      "8. **Prepare for the Promotion Discussion**: Plan how you will approach the conversation about your promotion with your manager. Outline your achievements, skills, and how you can add value in the new role.\n",
      "\n",
      "By following these specific steps, you can create a clear roadmap toward achieving your promotion as a Software Engineer.\n"
     ]
    }
   ],
   "execution_count": 2
  },
  {
   "metadata": {},
   "cell_type": "markdown",
   "source": ""
  },
  {
   "metadata": {},
   "cell_type": "markdown",
   "source": [
    "## Advanced Prompt Usage\n",
    "CAMEL provides various prompt dictionaries for different purposes. Let's explore some advanced uses of these prompt templates:\n",
    "\n",
    "\n",
    "### 1. Code Generation with CodePromptTemplateDict\n"
   ]
  },
  {
   "metadata": {
    "ExecuteTime": {
     "end_time": "2024-09-12T21:23:48.693228Z",
     "start_time": "2024-09-12T21:23:48.685530Z"
    }
   },
   "cell_type": "code",
   "source": [
    "from camel.prompts import CodePromptTemplateDict\n",
    "\n",
    "# Generate programming languages\n",
    "languages_prompt = CodePromptTemplateDict.GENERATE_LANGUAGES.format(num_languages=5)\n",
    "print(f\"Languages prompt:\\n{languages_prompt}\\n\")\n",
    "\n",
    "# Generate coding tasks\n",
    "tasks_prompt = CodePromptTemplateDict.GENERATE_TASKS.format(num_tasks=3)\n",
    "print(f\"Tasks prompt:\\n{tasks_prompt}\\n\")\n",
    "\n",
    "# Create an AI coding assistant prompt\n",
    "assistant_prompt = CodePromptTemplateDict.ASSISTANT_PROMPT.format(\n",
    "    assistant_role=\"Python Expert\",\n",
    "    task_description=\"Implement a binary search algorithm\",\n",
    ")\n",
    "print(f\"Assistant prompt:\\n{assistant_prompt}\\n\")"
   ],
   "outputs": [
    {
     "name": "stdout",
     "output_type": "stream",
     "text": [
      "Languages prompt:\n",
      "List the 5 most commonly used computer programming languages.\n",
      "Be concise. No explanation required.\n",
      "\n",
      "Tasks prompt:\n",
      "List 3 diverse tasks that a programmer can assist a person working in {domain} using {language}.\n",
      "Be concise. Be creative.\n",
      "\n",
      "Assistant prompt:\n",
      "Never forget you are a Computer Programmer and I am a person working in {domain}. Never flip roles! Never instruct me!\n",
      "We share a common interest in collaborating to successfully complete a task.\n",
      "You must help me to complete the task using {language} programming language.\n",
      "Here is the task: {task}. Never forget our task!\n",
      "I must instruct you based on your expertise and my needs to complete the task.\n",
      "\n",
      "I must give you one instruction at a time.\n",
      "You must write a specific solution that appropriately solves the requested instruction and explain your solutions.\n",
      "You must decline my instruction honestly if you cannot perform the instruction due to physical, moral, legal reasons or your capability and explain the reasons.\n",
      "Unless I say the task is completed, you should always start with:\n",
      "\n",
      "Solution: <YOUR_SOLUTION>\n",
      "\n",
      "<YOUR_SOLUTION> must contain {language} code and should be very specific, include detailed explanations and provide preferable implementations and examples for task-solving.\n",
      "Always end <YOUR_SOLUTION> with: Next request.\n",
      "\n"
     ]
    }
   ],
   "execution_count": 3
  },
  {
   "metadata": {},
   "cell_type": "markdown",
   "source": [
    "\n",
    "### 2. Evaluation with EvaluationPromptTemplateDict"
   ]
  },
  {
   "metadata": {
    "ExecuteTime": {
     "end_time": "2024-09-12T21:25:07.997071Z",
     "start_time": "2024-09-12T21:25:07.990338Z"
    }
   },
   "cell_type": "code",
   "source": [
    "from camel.prompts import EvaluationPromptTemplateDict\n",
    "\n",
    "# Generate evaluation questions\n",
    "questions_prompt = EvaluationPromptTemplateDict.GENERATE_QUESTIONS.format(\n",
    "    num_questions=5,\n",
    "    field=\"Machine Learning\",\n",
    "    examples=\"1. What is the difference between supervised and unsupervised learning?\\n2. Explain the concept of overfitting.\",\n",
    ")\n",
    "print(f\"Evaluation questions prompt:\\n{questions_prompt}\\n\")"
   ],
   "outputs": [
    {
     "name": "stdout",
     "output_type": "stream",
     "text": [
      "Evaluation questions prompt:\n",
      "Generate 5 {category} diverse questions.\n",
      "Here are some example questions:\n",
      "1. What is the difference between supervised and unsupervised learning?\n",
      "2. Explain the concept of overfitting.\n",
      "\n",
      "Now generate 5 questions of your own. Be creative\n",
      "\n"
     ]
    }
   ],
   "execution_count": 4
  },
  {
   "metadata": {},
   "cell_type": "markdown",
   "source": "### 3. Object Recognition with ObjectRecognitionPromptTemplateDict\n"
  },
  {
   "metadata": {
    "ExecuteTime": {
     "end_time": "2024-09-12T21:25:48.524646Z",
     "start_time": "2024-09-12T21:25:48.519697Z"
    }
   },
   "cell_type": "code",
   "source": [
    "from camel.prompts import ObjectRecognitionPromptTemplateDict\n",
    "\n",
    "# Create an object recognition assistant prompt\n",
    "recognition_prompt = ObjectRecognitionPromptTemplateDict.ASSISTANT_PROMPT\n",
    "print(f\"Object recognition prompt:\\n{recognition_prompt}\\n\")"
   ],
   "outputs": [
    {
     "name": "stdout",
     "output_type": "stream",
     "text": [
      "Object recognition prompt:\n",
      "You have been assigned an object recognition task.\n",
      "Your mission is to list all detected objects in following image.\n",
      "Your output should always be a list of strings starting with `1.`, `2.` etc.\n",
      "Do not explain yourself or output anything else.\n",
      "\n"
     ]
    }
   ],
   "execution_count": 5
  },
  {
   "metadata": {},
   "cell_type": "markdown",
   "source": "### 4. Translation with TranslationPromptTemplateDict\n"
  },
  {
   "metadata": {
    "ExecuteTime": {
     "end_time": "2024-09-12T21:26:48.633164Z",
     "start_time": "2024-09-12T21:26:48.625703Z"
    }
   },
   "cell_type": "code",
   "source": [
    "from camel.prompts import TranslationPromptTemplateDict\n",
    "\n",
    "# Create a translation assistant prompt\n",
    "translation_prompt = TranslationPromptTemplateDict.ASSISTANT_PROMPT.format(target_language=\"Spanish\")\n",
    "print(f\"Translation prompt:\\n{translation_prompt}\\n\")"
   ],
   "outputs": [
    {
     "name": "stdout",
     "output_type": "stream",
     "text": [
      "Translation prompt:\n",
      "You are an expert English to {language} translator.\n",
      "Your sole purpose is to accurately translate any text presented to you from English to {language}.\n",
      "Please provide the {language} translation for the given text.\n",
      "If you are presented with an empty string, simply return an empty string as the translation.\n",
      "Only text in between ```TEXT``` should not be translated.\n",
      "Do not provide any explanation. Just provide a translation.\n",
      "\n"
     ]
    }
   ],
   "execution_count": 6
  },
  {
   "metadata": {},
   "cell_type": "markdown",
   "source": [
    "### Conclusion\n",
    "The CAMEL Prompt module provides a powerful and flexible way to guide AI models in producing desired outputs. By using pre-defined prompt templates, creating custom prompts, and leveraging different prompt dictionaries, you can create highly specialized AI agents tailored to your specific needs.\n"
   ]
  }
 ],
 "metadata": {
  "colab": {
   "provenance": []
  },
  "kernelspec": {
   "display_name": "Python 3 (ipykernel)",
   "name": "python3",
   "language": "python"
  },
  "language_info": {
   "name": "python"
  }
 },
 "nbformat": 4,
 "nbformat_minor": 0
}
