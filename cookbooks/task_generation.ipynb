{
  "cells": [
    {
      "cell_type": "markdown",
      "metadata": {
        "id": "Fvdt_pMpf7EK"
      },
      "source": [
        "# 🐫 CAMEL Task Generation Cookbook"
      ]
    },
    {
      "cell_type": "markdown",
      "source": [
        "You can also check this cookbook in colab [here](https://colab.research.google.com/drive/1K5I7hXUQusyRw-Q5kd_NiP2fJYHew65M?usp=sharing)"
      ],
      "metadata": {
        "id": "pf-CrViNgJqn"
      }
    },
    {
      "cell_type": "markdown",
      "metadata": {
        "id": "2XXT4d1tf7EM"
      },
      "source": [
        "## In this tutorial, we will focus on demonstrating how to use the task module in the CAMEL framework. We will guide you through creating, evolving, and decomposing tasks to illustrate how the task module can be utilized for efficient task management in agent-based systems."
      ]
    },
    {
      "cell_type": "markdown",
      "metadata": {
        "id": "ph2dWXb-f7EM"
      },
      "source": [
        "### Sections included:\n",
        "\n",
        "- Setting up a ChatAgent with the CAMEL framework\n",
        "- Creating a Task and evolving it with the agent using TaskManager\n",
        "- Task decomposition using the CAMEL task module\n",
        "\n",
        "Let's go step by step!"
      ]
    },
    {
      "cell_type": "markdown",
      "metadata": {
        "id": "4uoXafBRf7EN"
      },
      "source": [
        "## Step 1: Import necessary CAMEL modules\n",
        "\n",
        "First, we need to import the required CAMEL modules for creating the ChatAgent and handling tasks."
      ]
    },
    {
      "cell_type": "code",
      "execution_count": 2,
      "metadata": {
        "colab": {
          "base_uri": "https://localhost:8080/"
        },
        "id": "My_O9chyf7EN",
        "outputId": "fa28f937-166e-4d3a-be10-7211c9dc16f9"
      },
      "outputs": [
        {
          "output_type": "stream",
          "name": "stdout",
          "text": [
            "Requirement already satisfied: camel-ai==0.1.6.8 in /usr/local/lib/python3.10/dist-packages (0.1.6.8)\n",
            "Requirement already satisfied: anthropic<0.30.0,>=0.29.0 in /usr/local/lib/python3.10/dist-packages (from camel-ai==0.1.6.8) (0.29.2)\n",
            "Requirement already satisfied: colorama<1,>=0 in /usr/local/lib/python3.10/dist-packages (from camel-ai==0.1.6.8) (0.4.6)\n",
            "Requirement already satisfied: curl_cffi==0.6.2 in /usr/local/lib/python3.10/dist-packages (from camel-ai==0.1.6.8) (0.6.2)\n",
            "Requirement already satisfied: docstring-parser<0.16,>=0.15 in /usr/local/lib/python3.10/dist-packages (from camel-ai==0.1.6.8) (0.15)\n",
            "Requirement already satisfied: eval-type-backport==0.2.0 in /usr/local/lib/python3.10/dist-packages (from camel-ai==0.1.6.8) (0.2.0)\n",
            "Requirement already satisfied: groq<0.6.0,>=0.5.0 in /usr/local/lib/python3.10/dist-packages (from camel-ai==0.1.6.8) (0.5.0)\n",
            "Collecting ipykernel<7.0.0,>=6.0.0 (from camel-ai==0.1.6.8)\n",
            "  Using cached ipykernel-6.29.5-py3-none-any.whl.metadata (6.3 kB)\n",
            "Requirement already satisfied: jsonschema<5,>=4 in /usr/local/lib/python3.10/dist-packages (from camel-ai==0.1.6.8) (4.23.0)\n",
            "Requirement already satisfied: numpy<2,>=1 in /usr/local/lib/python3.10/dist-packages (from camel-ai==0.1.6.8) (1.26.4)\n",
            "Requirement already satisfied: openai<2.0.0,>=1.2.3 in /usr/local/lib/python3.10/dist-packages (from camel-ai==0.1.6.8) (1.43.1)\n",
            "Requirement already satisfied: pathlib<2.0.0,>=1.0.1 in /usr/local/lib/python3.10/dist-packages (from camel-ai==0.1.6.8) (1.0.1)\n",
            "Requirement already satisfied: protobuf<5,>=4 in /usr/local/lib/python3.10/dist-packages (from camel-ai==0.1.6.8) (4.25.4)\n",
            "Requirement already satisfied: pydantic<3,>=1.9 in /usr/local/lib/python3.10/dist-packages (from camel-ai==0.1.6.8) (2.8.2)\n",
            "Requirement already satisfied: tiktoken<0.8.0,>=0.7.0 in /usr/local/lib/python3.10/dist-packages (from camel-ai==0.1.6.8) (0.7.0)\n",
            "Requirement already satisfied: cffi>=1.12.0 in /usr/local/lib/python3.10/dist-packages (from curl_cffi==0.6.2->camel-ai==0.1.6.8) (1.17.0)\n",
            "Requirement already satisfied: certifi in /usr/local/lib/python3.10/dist-packages (from curl_cffi==0.6.2->camel-ai==0.1.6.8) (2024.8.30)\n",
            "Requirement already satisfied: anyio<5,>=3.5.0 in /usr/local/lib/python3.10/dist-packages (from anthropic<0.30.0,>=0.29.0->camel-ai==0.1.6.8) (3.7.1)\n",
            "Requirement already satisfied: distro<2,>=1.7.0 in /usr/lib/python3/dist-packages (from anthropic<0.30.0,>=0.29.0->camel-ai==0.1.6.8) (1.7.0)\n",
            "Requirement already satisfied: httpx<1,>=0.23.0 in /usr/local/lib/python3.10/dist-packages (from anthropic<0.30.0,>=0.29.0->camel-ai==0.1.6.8) (0.27.2)\n",
            "Requirement already satisfied: jiter<1,>=0.4.0 in /usr/local/lib/python3.10/dist-packages (from anthropic<0.30.0,>=0.29.0->camel-ai==0.1.6.8) (0.5.0)\n",
            "Requirement already satisfied: sniffio in /usr/local/lib/python3.10/dist-packages (from anthropic<0.30.0,>=0.29.0->camel-ai==0.1.6.8) (1.3.1)\n",
            "Requirement already satisfied: tokenizers>=0.13.0 in /usr/local/lib/python3.10/dist-packages (from anthropic<0.30.0,>=0.29.0->camel-ai==0.1.6.8) (0.19.1)\n",
            "Requirement already satisfied: typing-extensions<5,>=4.7 in /usr/local/lib/python3.10/dist-packages (from anthropic<0.30.0,>=0.29.0->camel-ai==0.1.6.8) (4.12.2)\n",
            "Requirement already satisfied: comm>=0.1.1 in /usr/local/lib/python3.10/dist-packages (from ipykernel<7.0.0,>=6.0.0->camel-ai==0.1.6.8) (0.2.2)\n",
            "Requirement already satisfied: debugpy>=1.6.5 in /usr/local/lib/python3.10/dist-packages (from ipykernel<7.0.0,>=6.0.0->camel-ai==0.1.6.8) (1.6.6)\n",
            "Requirement already satisfied: ipython>=7.23.1 in /usr/local/lib/python3.10/dist-packages (from ipykernel<7.0.0,>=6.0.0->camel-ai==0.1.6.8) (7.34.0)\n",
            "Requirement already satisfied: jupyter-client>=6.1.12 in /usr/local/lib/python3.10/dist-packages (from ipykernel<7.0.0,>=6.0.0->camel-ai==0.1.6.8) (6.1.12)\n",
            "Requirement already satisfied: jupyter-core!=5.0.*,>=4.12 in /usr/local/lib/python3.10/dist-packages (from ipykernel<7.0.0,>=6.0.0->camel-ai==0.1.6.8) (5.7.2)\n",
            "Requirement already satisfied: matplotlib-inline>=0.1 in /usr/local/lib/python3.10/dist-packages (from ipykernel<7.0.0,>=6.0.0->camel-ai==0.1.6.8) (0.1.7)\n",
            "Requirement already satisfied: nest-asyncio in /usr/local/lib/python3.10/dist-packages (from ipykernel<7.0.0,>=6.0.0->camel-ai==0.1.6.8) (1.6.0)\n",
            "Requirement already satisfied: packaging in /usr/local/lib/python3.10/dist-packages (from ipykernel<7.0.0,>=6.0.0->camel-ai==0.1.6.8) (24.1)\n",
            "Requirement already satisfied: psutil in /usr/local/lib/python3.10/dist-packages (from ipykernel<7.0.0,>=6.0.0->camel-ai==0.1.6.8) (5.9.5)\n",
            "Requirement already satisfied: pyzmq>=24 in /usr/local/lib/python3.10/dist-packages (from ipykernel<7.0.0,>=6.0.0->camel-ai==0.1.6.8) (24.0.1)\n",
            "Requirement already satisfied: tornado>=6.1 in /usr/local/lib/python3.10/dist-packages (from ipykernel<7.0.0,>=6.0.0->camel-ai==0.1.6.8) (6.3.3)\n",
            "Requirement already satisfied: traitlets>=5.4.0 in /usr/local/lib/python3.10/dist-packages (from ipykernel<7.0.0,>=6.0.0->camel-ai==0.1.6.8) (5.7.1)\n",
            "Requirement already satisfied: attrs>=22.2.0 in /usr/local/lib/python3.10/dist-packages (from jsonschema<5,>=4->camel-ai==0.1.6.8) (24.2.0)\n",
            "Requirement already satisfied: jsonschema-specifications>=2023.03.6 in /usr/local/lib/python3.10/dist-packages (from jsonschema<5,>=4->camel-ai==0.1.6.8) (2023.12.1)\n",
            "Requirement already satisfied: referencing>=0.28.4 in /usr/local/lib/python3.10/dist-packages (from jsonschema<5,>=4->camel-ai==0.1.6.8) (0.35.1)\n",
            "Requirement already satisfied: rpds-py>=0.7.1 in /usr/local/lib/python3.10/dist-packages (from jsonschema<5,>=4->camel-ai==0.1.6.8) (0.20.0)\n",
            "Requirement already satisfied: tqdm>4 in /usr/local/lib/python3.10/dist-packages (from openai<2.0.0,>=1.2.3->camel-ai==0.1.6.8) (4.66.5)\n",
            "Requirement already satisfied: annotated-types>=0.4.0 in /usr/local/lib/python3.10/dist-packages (from pydantic<3,>=1.9->camel-ai==0.1.6.8) (0.7.0)\n",
            "Requirement already satisfied: pydantic-core==2.20.1 in /usr/local/lib/python3.10/dist-packages (from pydantic<3,>=1.9->camel-ai==0.1.6.8) (2.20.1)\n",
            "Requirement already satisfied: regex>=2022.1.18 in /usr/local/lib/python3.10/dist-packages (from tiktoken<0.8.0,>=0.7.0->camel-ai==0.1.6.8) (2024.5.15)\n",
            "Requirement already satisfied: requests>=2.26.0 in /usr/local/lib/python3.10/dist-packages (from tiktoken<0.8.0,>=0.7.0->camel-ai==0.1.6.8) (2.32.3)\n",
            "Requirement already satisfied: idna>=2.8 in /usr/local/lib/python3.10/dist-packages (from anyio<5,>=3.5.0->anthropic<0.30.0,>=0.29.0->camel-ai==0.1.6.8) (3.8)\n",
            "Requirement already satisfied: exceptiongroup in /usr/local/lib/python3.10/dist-packages (from anyio<5,>=3.5.0->anthropic<0.30.0,>=0.29.0->camel-ai==0.1.6.8) (1.2.2)\n",
            "Requirement already satisfied: pycparser in /usr/local/lib/python3.10/dist-packages (from cffi>=1.12.0->curl_cffi==0.6.2->camel-ai==0.1.6.8) (2.22)\n",
            "Requirement already satisfied: httpcore==1.* in /usr/local/lib/python3.10/dist-packages (from httpx<1,>=0.23.0->anthropic<0.30.0,>=0.29.0->camel-ai==0.1.6.8) (1.0.5)\n",
            "Requirement already satisfied: h11<0.15,>=0.13 in /usr/local/lib/python3.10/dist-packages (from httpcore==1.*->httpx<1,>=0.23.0->anthropic<0.30.0,>=0.29.0->camel-ai==0.1.6.8) (0.14.0)\n",
            "Requirement already satisfied: setuptools>=18.5 in /usr/local/lib/python3.10/dist-packages (from ipython>=7.23.1->ipykernel<7.0.0,>=6.0.0->camel-ai==0.1.6.8) (71.0.4)\n",
            "Requirement already satisfied: jedi>=0.16 in /usr/local/lib/python3.10/dist-packages (from ipython>=7.23.1->ipykernel<7.0.0,>=6.0.0->camel-ai==0.1.6.8) (0.19.1)\n",
            "Requirement already satisfied: decorator in /usr/local/lib/python3.10/dist-packages (from ipython>=7.23.1->ipykernel<7.0.0,>=6.0.0->camel-ai==0.1.6.8) (4.4.2)\n",
            "Requirement already satisfied: pickleshare in /usr/local/lib/python3.10/dist-packages (from ipython>=7.23.1->ipykernel<7.0.0,>=6.0.0->camel-ai==0.1.6.8) (0.7.5)\n",
            "Requirement already satisfied: prompt-toolkit!=3.0.0,!=3.0.1,<3.1.0,>=2.0.0 in /usr/local/lib/python3.10/dist-packages (from ipython>=7.23.1->ipykernel<7.0.0,>=6.0.0->camel-ai==0.1.6.8) (3.0.47)\n",
            "Requirement already satisfied: pygments in /usr/local/lib/python3.10/dist-packages (from ipython>=7.23.1->ipykernel<7.0.0,>=6.0.0->camel-ai==0.1.6.8) (2.16.1)\n",
            "Requirement already satisfied: backcall in /usr/local/lib/python3.10/dist-packages (from ipython>=7.23.1->ipykernel<7.0.0,>=6.0.0->camel-ai==0.1.6.8) (0.2.0)\n",
            "Requirement already satisfied: pexpect>4.3 in /usr/local/lib/python3.10/dist-packages (from ipython>=7.23.1->ipykernel<7.0.0,>=6.0.0->camel-ai==0.1.6.8) (4.9.0)\n",
            "Requirement already satisfied: python-dateutil>=2.1 in /usr/local/lib/python3.10/dist-packages (from jupyter-client>=6.1.12->ipykernel<7.0.0,>=6.0.0->camel-ai==0.1.6.8) (2.8.2)\n",
            "Requirement already satisfied: platformdirs>=2.5 in /usr/local/lib/python3.10/dist-packages (from jupyter-core!=5.0.*,>=4.12->ipykernel<7.0.0,>=6.0.0->camel-ai==0.1.6.8) (4.2.2)\n",
            "Requirement already satisfied: charset-normalizer<4,>=2 in /usr/local/lib/python3.10/dist-packages (from requests>=2.26.0->tiktoken<0.8.0,>=0.7.0->camel-ai==0.1.6.8) (3.3.2)\n",
            "Requirement already satisfied: urllib3<3,>=1.21.1 in /usr/local/lib/python3.10/dist-packages (from requests>=2.26.0->tiktoken<0.8.0,>=0.7.0->camel-ai==0.1.6.8) (2.0.7)\n",
            "Requirement already satisfied: huggingface-hub<1.0,>=0.16.4 in /usr/local/lib/python3.10/dist-packages (from tokenizers>=0.13.0->anthropic<0.30.0,>=0.29.0->camel-ai==0.1.6.8) (0.24.6)\n",
            "Requirement already satisfied: filelock in /usr/local/lib/python3.10/dist-packages (from huggingface-hub<1.0,>=0.16.4->tokenizers>=0.13.0->anthropic<0.30.0,>=0.29.0->camel-ai==0.1.6.8) (3.15.4)\n",
            "Requirement already satisfied: fsspec>=2023.5.0 in /usr/local/lib/python3.10/dist-packages (from huggingface-hub<1.0,>=0.16.4->tokenizers>=0.13.0->anthropic<0.30.0,>=0.29.0->camel-ai==0.1.6.8) (2024.6.1)\n",
            "Requirement already satisfied: pyyaml>=5.1 in /usr/local/lib/python3.10/dist-packages (from huggingface-hub<1.0,>=0.16.4->tokenizers>=0.13.0->anthropic<0.30.0,>=0.29.0->camel-ai==0.1.6.8) (6.0.2)\n",
            "Requirement already satisfied: parso<0.9.0,>=0.8.3 in /usr/local/lib/python3.10/dist-packages (from jedi>=0.16->ipython>=7.23.1->ipykernel<7.0.0,>=6.0.0->camel-ai==0.1.6.8) (0.8.4)\n",
            "Requirement already satisfied: ptyprocess>=0.5 in /usr/local/lib/python3.10/dist-packages (from pexpect>4.3->ipython>=7.23.1->ipykernel<7.0.0,>=6.0.0->camel-ai==0.1.6.8) (0.7.0)\n",
            "Requirement already satisfied: wcwidth in /usr/local/lib/python3.10/dist-packages (from prompt-toolkit!=3.0.0,!=3.0.1,<3.1.0,>=2.0.0->ipython>=7.23.1->ipykernel<7.0.0,>=6.0.0->camel-ai==0.1.6.8) (0.2.13)\n",
            "Requirement already satisfied: six>=1.5 in /usr/local/lib/python3.10/dist-packages (from python-dateutil>=2.1->jupyter-client>=6.1.12->ipykernel<7.0.0,>=6.0.0->camel-ai==0.1.6.8) (1.16.0)\n",
            "Using cached ipykernel-6.29.5-py3-none-any.whl (117 kB)\n",
            "Installing collected packages: ipykernel\n",
            "  Attempting uninstall: ipykernel\n",
            "    Found existing installation: ipykernel 5.5.6\n",
            "    Uninstalling ipykernel-5.5.6:\n",
            "      Successfully uninstalled ipykernel-5.5.6\n",
            "\u001b[31mERROR: pip's dependency resolver does not currently take into account all the packages that are installed. This behaviour is the source of the following dependency conflicts.\n",
            "google-colab 1.0.0 requires ipykernel==5.5.6, but you have ipykernel 6.29.5 which is incompatible.\u001b[0m\u001b[31m\n",
            "\u001b[0mSuccessfully installed ipykernel-6.29.5\n"
          ]
        }
      ],
      "source": [
        "!pip install camel-ai==0.1.6.8"
      ]
    },
    {
      "cell_type": "code",
      "execution_count": 3,
      "metadata": {
        "id": "3povzm9qf7EO"
      },
      "outputs": [],
      "source": [
        "from camel.agents import ChatAgent\n",
        "from camel.configs import ChatGPTConfig\n",
        "from camel.messages import BaseMessage\n",
        "from camel.models import ModelFactory\n",
        "from camel.tasks import (\n",
        "    Task,\n",
        "    TaskManager,\n",
        ")\n",
        "from camel.types import (\n",
        "    ModelPlatformType,\n",
        "    ModelType,\n",
        ")"
      ]
    },
    {
      "cell_type": "markdown",
      "metadata": {
        "id": "H9ANkBsuf7EO"
      },
      "source": [
        "Set your OpenAI key"
      ]
    },
    {
      "cell_type": "code",
      "execution_count": 4,
      "metadata": {
        "colab": {
          "base_uri": "https://localhost:8080/"
        },
        "id": "t7u1PNhnf7EO",
        "outputId": "f47db258-02ef-4d60-ef0d-7bb9378e3546"
      },
      "outputs": [
        {
          "name": "stdout",
          "output_type": "stream",
          "text": [
            "Enter your API key: ··········\n"
          ]
        }
      ],
      "source": [
        "import os\n",
        "from getpass import getpass\n",
        "\n",
        "# Prompt for the API key securely\n",
        "openai_api_key = getpass('Enter your API key: ')\n",
        "os.environ[\"OPENAI_API_KEY\"] = openai_api_key"
      ]
    },
    {
      "cell_type": "markdown",
      "metadata": {
        "id": "brQ0v3kaf7EP"
      },
      "source": [
        "## Step 2: Set up the Large Language Model (LLM)\n",
        "\n",
        "Next, we set up the model configuration. We are using a CAMEL LLM (GPT-4O Mini in this case) for our assistant agent. The configuration is designed to ensure the agent’s behavior remains deterministic by setting temperature=0.0, meaning no randomness will be introduced in the responses."
      ]
    },
    {
      "cell_type": "code",
      "execution_count": 5,
      "metadata": {
        "id": "DLXsqm7mf7EP"
      },
      "outputs": [],
      "source": [
        "# Model configuration for the assistant\n",
        "assistant_model_config = ChatGPTConfig(\n",
        "    temperature=0.0,  # Set to 0 for deterministic output\n",
        ")\n",
        "\n",
        "# Create the model using the configuration\n",
        "model = ModelFactory.create(\n",
        "    model_platform=ModelPlatformType.OPENAI,\n",
        "    model_type=ModelType.GPT_4O_MINI,\n",
        "    model_config_dict=assistant_model_config.as_dict(),\n",
        ")"
      ]
    },
    {
      "cell_type": "markdown",
      "metadata": {
        "id": "IAstp4cyf7EP"
      },
      "source": [
        "## Step 3: Initialize the ChatAgent\n",
        "\n",
        "We now create a ChatAgent using the previously defined model. This agent will interact with tasks in the CAMEL framework, following the role of a personal math tutor and programmer."
      ]
    },
    {
      "cell_type": "code",
      "execution_count": 6,
      "metadata": {
        "id": "rSo-keNnf7EP"
      },
      "outputs": [],
      "source": [
        "# Set up the assistant's system message\n",
        "assistant_sys_msg = BaseMessage.make_user_message(\n",
        "    role_name=\"Teacher\",\n",
        "    content=(\"You are a personal math tutor and programmer.\"),\n",
        ")\n",
        "\n",
        "# Initialize the ChatAgent\n",
        "agent = ChatAgent(assistant_sys_msg, model)\n",
        "agent.reset()  # Reset the agent's internal state"
      ]
    },
    {
      "cell_type": "markdown",
      "metadata": {
        "id": "b-RGszDYf7EP"
      },
      "source": [
        "## Step 4: Evolve and decompose tasks\n",
        "\n",
        "We now create a Task that represents a math problem for the assistant to solve. In this case, we are asking the assistant to calculate how much Weng earned for babysitting based on her hourly rate and the time she worked."
      ]
    },
    {
      "cell_type": "code",
      "execution_count": 7,
      "metadata": {
        "colab": {
          "base_uri": "https://localhost:8080/"
        },
        "id": "YZ8TaZzjf7EQ",
        "outputId": "b19b9d9c-9117-4c37-9cdd-a57ea5e64763"
      },
      "outputs": [
        {
          "output_type": "stream",
          "name": "stdout",
          "text": [
            "Task 0: Weng earns $12 an hour for babysitting. Yesterday, she just did 51 minutes of babysitting. How much did she earn?\n",
            "\n"
          ]
        }
      ],
      "source": [
        "# Create a Task for the agent to solve\n",
        "task = Task(\n",
        "    content=\"Weng earns $12 an hour for babysitting. Yesterday, she just did 51 minutes of babysitting. How much did she earn?\",\n",
        "    id=\"0\",  # Task identifier\n",
        ")\n",
        "\n",
        "# Print the task to see the original form\n",
        "print(task.to_string())"
      ]
    },
    {
      "cell_type": "markdown",
      "metadata": {
        "id": "R1xHH7UAf7EQ"
      },
      "source": [
        "### Evolve the Task\n",
        "\n",
        "We can evolve the task using the TaskManager, which allows the agent to potentially update or reframe the task based on its internal logic and context."
      ]
    },
    {
      "cell_type": "code",
      "execution_count": 12,
      "metadata": {
        "colab": {
          "base_uri": "https://localhost:8080/"
        },
        "id": "ThFlgKehf7EQ",
        "outputId": "ca825891-6ec1-4864-89ef-4c221aefcf08"
      },
      "outputs": [
        {
          "output_type": "stream",
          "name": "stdout",
          "text": [
            "Task 0.0: Weng earns $12 an hour for babysitting. This month, she has a special promotion where she earns an additional $2 per hour for every hour worked over 10 hours. Last week, she babysat for 3 hours and 30 minutes on Monday, 2 hours and 15 minutes on Wednesday, and 4 hours on Saturday. How much did she earn for the week, including any bonuses from the promotion?\n",
            "\n"
          ]
        }
      ],
      "source": [
        "task_manager = TaskManager(task)\n",
        "\n",
        "evolved_task = task_manager.evolve(task, agent=agent)\n",
        "if evolved_task is not None:\n",
        "    print(evolved_task.to_string())\n",
        "else:\n",
        "    print(\"Evolved task is None.\")"
      ]
    },
    {
      "cell_type": "markdown",
      "metadata": {
        "id": "b_6IxCWPf7EQ"
      },
      "source": [
        "### Decompose the Task\n",
        "\n",
        "Sometimes, tasks are complex and need to be broken down into smaller subtasks. We use decompose() to allow the agent to split the original task into simpler parts."
      ]
    },
    {
      "cell_type": "code",
      "execution_count": 13,
      "metadata": {
        "colab": {
          "base_uri": "https://localhost:8080/"
        },
        "id": "bWNpUckzf7EQ",
        "outputId": "625b3a21-d5e5-4c71-c3c6-9bfe0cefaa07"
      },
      "outputs": [
        {
          "output_type": "stream",
          "name": "stdout",
          "text": [
            "Task 0.0: Convert the babysitting time from minutes to hours.\n",
            "\n",
            "Task 0.1: Calculate the earnings based on the hourly rate of $12 per hour.\n",
            "\n",
            "Task 0.2: Multiply the number of hours worked by the hourly rate to find the total earnings.\n",
            "\n"
          ]
        }
      ],
      "source": [
        "new_tasks = task.decompose(agent=agent)\n",
        "for t in new_tasks:\n",
        "    print(t.to_string())"
      ]
    }
  ],
  "metadata": {
    "language_info": {
      "name": "python"
    },
    "colab": {
      "provenance": []
    },
    "kernelspec": {
      "name": "python3",
      "display_name": "Python 3"
    }
  },
  "nbformat": 4,
  "nbformat_minor": 0
}